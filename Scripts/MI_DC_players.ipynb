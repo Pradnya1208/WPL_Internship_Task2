{
 "cells": [
  {
   "cell_type": "code",
   "execution_count": 61,
   "metadata": {},
   "outputs": [],
   "source": [
    "#!pip install bqplot\n",
    "#!pip install ipywidgets\n",
    "#!pip install ipympl\n",
    "#!jupyter labextension install @jupyter-widgets/jupyterlab-manager\n",
    "#!jupyter nbextension install --user --py widgetsnbextension\n",
    "#!jupyter nbextension enable --user --py widgetsnbextension\n",
    "#!pip install plotly\n",
    "#!pip install cufflinks\n",
    "\n",
    "\n",
    "import operator\n",
    "import pandas as pd\n",
    "import numpy as np\n",
    "import matplotlib.pyplot as plt\n",
    "import seaborn as sns\n",
    "%matplotlib inline\n",
    "import warnings\n",
    "warnings.filterwarnings(\"ignore\")\n",
    "import ipywidgets as widgets\n",
    "import plotly.express as px\n",
    "import plotly.graph_objects as go\n",
    "import bqplot\n",
    "from bqplot import Pie\n",
    "from collections import Counter\n",
    "from bqplot import DateScale, LinearScale, Lines, Axis, Figure\n",
    "from bqplot import Tooltip\n",
    "import cufflinks as cf\n",
    "from matplotlib.patches import ConnectionPatch\n",
    "from matplotlib.gridspec import GridSpec\n",
    "import matplotlib.pyplot as plt\n",
    "\n",
    "from IPython.core.display import display, HTML\n",
    "\n",
    "def display_side_by_side(dfs:list, captions:list):\n",
    "    \"\"\"Display tables side by side to save vertical space\n",
    "    Input:\n",
    "        dfs: list of pandas.DataFrame\n",
    "        captions: list of table captions\n",
    "    \"\"\"\n",
    "    output = \"\"\n",
    "    combined = dict(zip(captions, dfs))\n",
    "    for caption, df in combined.items():\n",
    "        output += df.style.set_table_attributes(\"style='display:inline'\").set_caption(caption)._repr_html_()\n",
    "        output += \"\\xa0\\xa0\\xa0\"\n",
    "    display(HTML(output))\n",
    "\n",
    "\n",
    "from __future__ import print_function\n",
    "from ipywidgets import interact, interactive, fixed, interact_manual\n",
    "pd.set_option('display.max_columns', 50)\n",
    "%matplotlib widget\n"
   ]
  },
  {
   "cell_type": "markdown",
   "metadata": {},
   "source": [
    "# A) Dataset 1 "
   ]
  },
  {
   "cell_type": "markdown",
   "metadata": {},
   "source": [
    "## Parsing the table for Virat Kohli's dismissal stats"
   ]
  },
  {
   "cell_type": "code",
   "execution_count": 253,
   "metadata": {
    "scrolled": false
   },
   "outputs": [],
   "source": [
    "import requests\n",
    "import pandas as pd\n",
    "from bs4 import BeautifulSoup\n",
    "\n",
    "#dismissal stats for T20Is(2010-2020)\n",
    " \n",
    "#\"https://stats.espncricinfo.com/ci/engine/player/253802.html?class=3;template=results;type=batting;view=dismissal_summary\"\n",
    "url_shaw = \"https://stats.espncricinfo.com/ci/engine/player/1070168.html?class=11;template=results;type=batting;view=dismissal_summary\"\n",
    "url_dhawan = \"https://stats.espncricinfo.com/ci/engine/player/28235.html?class=3;template=results;type=batting;view=dismissal_summary\"\n",
    "url_rahane= \"https://stats.espncricinfo.com/ci/engine/player/277916.html?class=3;template=results;type=batting;view=dismissal_summary\"\n",
    "url_iyer = \"https://stats.espncricinfo.com/ci/engine/player/642519.html?class=3;template=results;type=batting;view=dismissal_summary\"\n",
    "url_pant = \"https://stats.espncricinfo.com/ci/engine/player/931581.html?class=3;template=results;type=batting;view=dismissal_summary\"\n",
    "url_stoinis = \"https://stats.espncricinfo.com/ci/engine/player/325012.html?class=3;template=results;type=batting;view=dismissal_summary\"\n",
    "url_patel = \"https://stats.espncricinfo.com/ci/engine/player/554691.html?class=3;template=results;type=batting;view=dismissal_summary\"\n",
    "# MI\n",
    "url_sharma =\"https://stats.espncricinfo.com/ci/engine/player/34102.html?class=3;template=results;type=batting;view=dismissal_summary\"\n",
    "url_qdk = \"https://stats.espncricinfo.com/ci/engine/player/379143.html?class=3;template=results;type=batting;view=dismissal_summary\"\n",
    "url_kishan =\"https://stats.espncricinfo.com/ci/engine/player/720471.html?class=21;template=results;type=batting;view=dismissal_summary\"\n",
    "url_hpandya =\"https://stats.espncricinfo.com/ci/engine/player/625371.html?class=3;template=results;type=batting;view=dismissal_summary\"\n",
    "url_kpandya = \"https://stats.espncricinfo.com/ci/engine/player/471342.html?class=3;template=results;type=batting;view=dismissal_summary\"\n",
    "url_pollard = \"https://stats.espncricinfo.com/ci/engine/player/230559.html?class=3;template=results;type=batting;view=dismissal_summary\"\n",
    "\n",
    "\n",
    "# bowlers\n",
    "url_bumrah = \"https://stats.espncricinfo.com/ci/engine/player/625383.html?class=3;template=results;type=bowling;view=dismissal_summary\"\n",
    "url_boult =\"https://stats.espncricinfo.com/ci/engine/player/277912.html?class=3;template=results;type=bowling;view=dismissal_summary\"\n",
    "url_chahar = \"https://stats.espncricinfo.com/ci/engine/player/1064812.html?class=3;template=results;type=bowling;view=dismissal_summary\"\n",
    "url_rabada = \"https://stats.espncricinfo.com/ci/engine/player/550215.html?class=3;template=results;type=bowling;view=dismissal_summary\"\n",
    "url_nortje = \"https://stats.espncricinfo.com/ci/engine/player/481979.html?class=3;template=results;type=bowling;view=dismissal_summary\"\n",
    "url_ashwin = \"https://stats.espncricinfo.com/ci/engine/player/26421.html?class=3;template=results;type=bowling;view=dismissal_summary\"\n",
    "url_khpandya = \"https://stats.espncricinfo.com/ci/engine/player/471342.html?class=3;template=results;type=bowling;view=dismissal_summary\"\n",
    "url_kapollard = \"https://stats.espncricinfo.com/ci/engine/player/230559.html?class=3;template=results;type=bowling;view=dismissal_summary\"\n",
    "url_mpstoinins = \"https://stats.espncricinfo.com/ci/engine/player/325012.html?class=3;template=results;type=bowling;view=dismissal_summary\"\n",
    "url_pattinson =\"https://stats.espncricinfo.com/ci/engine/player/272465.html?class=3;template=results;type=bowling;view=dismissal_summary\"\n",
    "\n",
    "def htmlData_parser(url):\n",
    "    column_=[]\n",
    "    response = requests.get(url) \n",
    "    cric_data = BeautifulSoup(response.content, 'html.parser')\n",
    "    container = cric_data.find(\"caption\", text=\"Dismissal summary\").find_parent(\"table\")\n",
    "    attr = container.find_all(\"tbody\")\n",
    "    for i in range(len(attr)):\n",
    "        table_col = attr[i].find_all(\"td\")\n",
    "        for j in range(len(table_col)):\n",
    "            column_.append(table_col[j].text)\n",
    "    return column_\n",
    "\n",
    "def htmlData_parser_bowler(url):\n",
    "    column_=[]\n",
    "    response = requests.get(url) \n",
    "    cric_data = BeautifulSoup(response.content, 'html.parser')\n",
    "    container = cric_data.find(\"caption\", text=\"Wickets summary\").find_parent(\"table\")\n",
    "    attr = container.find_all(\"tbody\")\n",
    "    for i in range(len(attr)):\n",
    "        table_col = attr[i].find_all(\"td\")\n",
    "        for j in range(len(table_col)):\n",
    "            column_.append(table_col[j].text)\n",
    "    return column_\n",
    "\n",
    "# Collect a required data\n",
    "def required_data(column):\n",
    "    dismissal_list = [column[0:14], column[14:28], column[28:42], column[43:57], column[57:71],column[71:85],\n",
    "                     column[86:100], column[100:114],column[114:128], column[128:142]]\n",
    "    return dismissal_list\n",
    "\n",
    "def required_data_2(column):\n",
    "    dismissal_list = [column[0:15], column[15:30], column[30:45], column[46:61], column[61:76], column[76:91], column[92:107],\n",
    "                 column[107:122], column[122:137],column[137:152], column[152:167]]\n",
    "    return dismissal_list\n",
    "\n",
    "def required_data_3(column): #rahane\n",
    "    dismissal_list = [column[0:15], column[15:30], column[30:45], column[46:61], column[61:76], column[76:91], column[92:107],\n",
    "                 column[107:122], column[122:137],column[137:152]]\n",
    "    return dismissal_list\n",
    "\n",
    "def required_data_4(column): #ar patel\n",
    "    dismissal_list = [column[0:15], column[15:30], column[31:46] , column[47:62],  column[62:77]]\n",
    "    return dismissal_list\n",
    "\n",
    "def required_data_5(column): #KH pandya\n",
    "    dismissal_list = [column[0:14], column[14:28], column[29:43], column[44:58],  column[58:72]]\n",
    "    return dismissal_list\n",
    "\n",
    "def required_data_6(column): #pollard\n",
    "    dismissal_list = [column[0:15], column[15:30], column[31:46], column[46:61], column[62:77], column[77:92], column[92:107],\n",
    "                 column[107:122]]\n",
    "    return dismissal_list\n",
    "\n",
    "def required_data_bowler(column):\n",
    "    dismissal_list = [column[0:11], column[12:23]]\n",
    "    return dismissal_list\n",
    "\n",
    "def required_data_bowler1(column):\n",
    "    dismissal_list = [column[0:10]]\n",
    "    return dismissal_list\n",
    "def required_data_bowler2(column):\n",
    "    dismissal_list = [column[0:10], column[11:21]]\n",
    "    return dismissal_list"
   ]
  },
  {
   "cell_type": "markdown",
   "metadata": {},
   "source": [
    "## Creating a data frame from parsed data"
   ]
  },
  {
   "cell_type": "markdown",
   "metadata": {},
   "source": [
    "## Data for T20Is(2010 - 2020)"
   ]
  },
  {
   "cell_type": "code",
   "execution_count": 129,
   "metadata": {},
   "outputs": [],
   "source": [
    "# Shaw\n",
    "data_shaw = htmlData_parser(url_shaw)\n",
    "dismissal_list_shaw = required_data(data_shaw)\n",
    "\n",
    "dismissal_summary_Shaw = pd.DataFrame(columns=['dismissal', 'Dis', 'bwd', 'c_fie', 'c_wk', 'st', 'lbw', 'hw', 'ro','oth','no','ave','0s','remove'], data=dismissal_list_shaw)\n",
    "dismissal_summary_Shaw.drop('remove', axis=1, inplace=True)\n",
    "dismissal_summary_Shaw[\"batsman\"] = \"P Shaw\"\n",
    "\n",
    "dismissal_summary_Shaw[\"match_type\"] = \"ALL\"\n",
    "\n",
    "# Dhawan\n",
    "data_dhawan = htmlData_parser(url_dhawan)\n",
    "dismissal_list_dhawan = required_data_2(data_dhawan)\n",
    "\n",
    "dismissal_summary_dhawan = pd.DataFrame(columns=['dismissal', 'span','Dis', 'bwd', 'c_fie', 'c_wk', 'st', 'lbw', 'hw', 'ro','oth','no','ave','0s','remove'], data=dismissal_list_dhawan)\n",
    "dismissal_summary_dhawan.drop('remove', axis=1, inplace=True)\n",
    "dismissal_summary_dhawan.drop('span', axis=1, inplace=True)\n",
    "dismissal_summary_dhawan[\"batsman\"] = \"S Dhawan\"\n",
    "\n",
    "dismissal_summary_dhawan[\"match_type\"] = \"T20\"\n",
    "\n",
    "\n",
    "#Rahane\n",
    "data_rahane = htmlData_parser(url_rahane)\n",
    "dismissal_list_rahane = required_data_3(data_rahane)\n",
    "\n",
    "dismissal_summary_rahane = pd.DataFrame(columns=['dismissal', 'span','Dis', 'bwd', 'c_fie', 'c_wk', 'st', 'lbw', 'hw', 'ro','oth','no','ave','0s','remove'], data=dismissal_list_rahane)\n",
    "dismissal_summary_rahane.drop('remove', axis=1, inplace=True)\n",
    "dismissal_summary_rahane.drop('span', axis=1, inplace=True)\n",
    "dismissal_summary_rahane[\"batsman\"] = \"A Rahane\"\n",
    "\n",
    "dismissal_summary_rahane[\"match_type\"] = \"T20\"\n",
    "\n",
    "\n",
    "#Iyer\n",
    "data_iyer = htmlData_parser(url_iyer)\n",
    "dismissal_list_iyer = required_data_3(data_iyer)\n",
    "\n",
    "dismissal_summary_iyer = pd.DataFrame(columns=['dismissal', 'span','Dis', 'bwd', 'c_fie', 'c_wk', 'st', 'lbw', 'hw', 'ro','oth','no','ave','0s','remove'], data=dismissal_list_iyer)\n",
    "dismissal_summary_iyer.drop('remove', axis=1, inplace=True)\n",
    "dismissal_summary_iyer.drop('span', axis=1, inplace=True)\n",
    "dismissal_summary_iyer[\"batsman\"] = \"S Iyer\"\n",
    "\n",
    "dismissal_summary_iyer[\"match_type\"] = \"T20\"\n",
    "\n",
    "\n",
    "#pant\n",
    "\n",
    "data_pant = htmlData_parser(url_pant)\n",
    "dismissal_list_pant= required_data_2(data_pant)\n",
    "\n",
    "dismissal_summary_pant = pd.DataFrame(columns=['dismissal', 'span','Dis', 'bwd', 'c_fie', 'c_wk', 'st', 'lbw', 'hw', 'ro','oth','no','ave','0s','remove'], data=dismissal_list_pant)\n",
    "dismissal_summary_pant.drop('remove', axis=1, inplace=True)\n",
    "dismissal_summary_pant.drop('span', axis=1, inplace=True)\n",
    "dismissal_summary_pant[\"batsman\"] = \"RR Pant\"\n",
    "\n",
    "dismissal_summary_pant[\"match_type\"] = \"T20\"\n",
    "\n",
    "\n",
    "#MP Stoinis\n",
    "data_stoinis = htmlData_parser(url_stoinis)\n",
    "dismissal_list_stoinis = required_data_3(data_stoinis)\n",
    "\n",
    "dismissal_summary_stoinis = pd.DataFrame(columns=['dismissal', 'span','Dis', 'bwd', 'c_fie', 'c_wk', 'st', 'lbw', 'hw', 'ro','oth','no','ave','0s','remove'], data=dismissal_list_stoinis)\n",
    "dismissal_summary_stoinis.drop('remove', axis=1, inplace=True)\n",
    "dismissal_summary_stoinis.drop('span', axis=1, inplace=True)\n",
    "dismissal_summary_stoinis[\"batsman\"] = \"MP Stoinis\"\n",
    "\n",
    "dismissal_summary_stoinis[\"match_type\"] = \"T20\"\n",
    "\n",
    "\n",
    "#AR Patel\n",
    "data_patel = htmlData_parser(url_patel)\n",
    "dismissal_list_patel = required_data_4(data_patel)\n",
    "\n",
    "dismissal_summary_patel = pd.DataFrame(columns=['dismissal', 'span','Dis', 'bwd', 'c_fie', 'c_wk', 'st', 'lbw', 'hw', 'ro','oth','no','ave','0s','remove'], data=dismissal_list_patel)\n",
    "dismissal_summary_patel.drop('remove', axis=1, inplace=True)\n",
    "dismissal_summary_patel.drop('span', axis=1, inplace=True)\n",
    "dismissal_summary_patel[\"batsman\"] = \"AR Patel\"\n",
    "\n",
    "dismissal_summary_patel[\"match_type\"] = \"T20\"\n",
    "\n",
    "\n",
    "DC_batsmen_data =dismissal_summary_Shaw.append(dismissal_summary_dhawan, ignore_index =True).append(dismissal_summary_rahane, ignore_index  =True).append(dismissal_summary_iyer,ignore_index  =True).append(dismissal_summary_pant, ignore_index  =True).append(dismissal_summary_stoinis, ignore_index  =True).append(dismissal_summary_patel, ignore_index  =True)\n",
    "DC_batsmen_data[\"Team\"] =\"Delhi Capitals\""
   ]
  },
  {
   "cell_type": "code",
   "execution_count": 189,
   "metadata": {},
   "outputs": [],
   "source": [
    "# MI batsmen\n",
    "# RG Sharma\n",
    "data_sharma = htmlData_parser(url_sharma)\n",
    "dismissal_list_sharma = required_data_2(data_sharma)\n",
    "\n",
    "dismissal_summary_sharma = pd.DataFrame(columns=['dismissal', 'span','Dis', 'bwd', 'c_fie', 'c_wk', 'st', 'lbw', 'hw', 'ro','oth','no','ave','0s','remove'], data=dismissal_list_sharma)\n",
    "dismissal_summary_sharma.drop('remove', axis=1, inplace=True)\n",
    "dismissal_summary_sharma.drop('span', axis=1, inplace=True)\n",
    "dismissal_summary_sharma[\"batsman\"] = \"RG Sharma\"\n",
    "\n",
    "dismissal_summary_sharma[\"match_type\"] = \"T20\"\n",
    "\n",
    "# Q de Kock\n",
    "data_qdk = htmlData_parser(url_qdk)\n",
    "dismissal_list_qdk = required_data_2(data_qdk)\n",
    "\n",
    "dismissal_summary_qdk = pd.DataFrame(columns=['dismissal', 'span','Dis', 'bwd', 'c_fie', 'c_wk', 'st', 'lbw', 'hw', 'ro','oth','no','ave','0s','remove'], data=dismissal_list_qdk)\n",
    "dismissal_summary_qdk.drop('remove', axis=1, inplace=True)\n",
    "dismissal_summary_qdk.drop('span', axis=1, inplace=True)\n",
    "dismissal_summary_qdk[\"batsman\"] = \"Q de Kock\"\n",
    "\n",
    "dismissal_summary_qdk[\"match_type\"] = \"T20\"\n",
    "\n",
    "# I Kishan\n",
    "data_kishan = htmlData_parser(url_kishan)\n",
    "dismissal_list_kishan = required_data(data_kishan)\n",
    "\n",
    "dismissal_summary_kishan = pd.DataFrame(columns=['dismissal', 'Dis', 'bwd', 'c_fie', 'c_wk', 'st', 'lbw', 'hw', 'ro','oth','no','ave','0s','remove'], data=dismissal_list_kishan)\n",
    "dismissal_summary_kishan.drop('remove', axis=1, inplace=True)\n",
    "dismissal_summary_kishan[\"batsman\"] = \"I Kishan\"\n",
    "\n",
    "dismissal_summary_kishan[\"match_type\"] = \"T20/other\"\n",
    "\n",
    "# HH Pandya\n",
    "data_hpandya = htmlData_parser(url_hpandya)\n",
    "dismissal_list_hpandya = required_data_2(data_hpandya)\n",
    "\n",
    "dismissal_summary_hpandya = pd.DataFrame(columns=['dismissal', 'span','Dis', 'bwd', 'c_fie', 'c_wk', 'st', 'lbw', 'hw', 'ro','oth','no','ave','0s','remove'], data=dismissal_list_hpandya)\n",
    "dismissal_summary_hpandya.drop('remove', axis=1, inplace=True)\n",
    "dismissal_summary_hpandya.drop('span', axis=1, inplace=True)\n",
    "dismissal_summary_hpandya[\"batsman\"] = \"HH Pandya\"\n",
    "\n",
    "dismissal_summary_hpandya[\"match_type\"] = \"T20\"\n",
    "\n",
    "#KH Pandya\n",
    "data_kpandya = htmlData_parser(url_kpandya)\n",
    "dismissal_list_kpandya = required_data_5(data_kpandya)\n",
    "\n",
    "dismissal_summary_kpandya = pd.DataFrame(columns=['dismissal', 'Dis', 'bwd', 'c_fie', 'c_wk', 'st', 'lbw', 'hw', 'ro','oth','no','ave','0s','remove'], data=dismissal_list_kpandya)\n",
    "dismissal_summary_kpandya.drop('remove', axis=1, inplace=True)\n",
    "dismissal_summary_kpandya[\"batsman\"] = \"KH Pandya\"\n",
    "dismissal_summary_kpandya[\"match_type\"] = \"T20\"\n",
    "\n",
    "#K Pollard\n",
    "data_pollard = htmlData_parser(url_pollard)\n",
    "dismissal_list_pollard = required_data_6(data_pollard)\n",
    "\n",
    "dismissal_summary_pollard = pd.DataFrame(columns=['dismissal', 'span','Dis', 'bwd', 'c_fie', 'c_wk', 'st', 'lbw', 'hw', 'ro','oth','no','ave','0s','remove'], data=dismissal_list_pollard)\n",
    "dismissal_summary_pollard.drop('remove', axis=1, inplace=True)\n",
    "dismissal_summary_pollard.drop('span', axis=1, inplace=True)\n",
    "dismissal_summary_pollard[\"batsman\"] = \"K Pollard\"\n",
    "\n",
    "dismissal_summary_pollard[\"match_type\"] = \"T20\"\n"
   ]
  },
  {
   "cell_type": "code",
   "execution_count": 197,
   "metadata": {},
   "outputs": [],
   "source": [
    "MI_batsmen_dismissal_summary = dismissal_summary_sharma.append(dismissal_summary_qdk, ignore_index =True).append(dismissal_summary_kishan, ignore_index =True).append(dismissal_summary_kpandya, ignore_index =True).append(dismissal_summary_kpandya, ignore_index =True).append(dismissal_summary_pollard, ignore_index =True)\n",
    "MI_batsmen_dismissal_summary[\"Team\"] =\"Mumbai Indians\"\n"
   ]
  },
  {
   "cell_type": "code",
   "execution_count": 257,
   "metadata": {},
   "outputs": [
    {
     "data": {
      "text/html": [
       "<div>\n",
       "<style scoped>\n",
       "    .dataframe tbody tr th:only-of-type {\n",
       "        vertical-align: middle;\n",
       "    }\n",
       "\n",
       "    .dataframe tbody tr th {\n",
       "        vertical-align: top;\n",
       "    }\n",
       "\n",
       "    .dataframe thead th {\n",
       "        text-align: right;\n",
       "    }\n",
       "</style>\n",
       "<table border=\"1\" class=\"dataframe\">\n",
       "  <thead>\n",
       "    <tr style=\"text-align: right;\">\n",
       "      <th></th>\n",
       "      <th>dismissal</th>\n",
       "      <th>Dis</th>\n",
       "      <th>bwd</th>\n",
       "      <th>c_fie</th>\n",
       "      <th>c_wk</th>\n",
       "      <th>st</th>\n",
       "      <th>lbw</th>\n",
       "      <th>hw</th>\n",
       "      <th>Ave</th>\n",
       "      <th>0s</th>\n",
       "      <th>bowler</th>\n",
       "      <th>match_type</th>\n",
       "    </tr>\n",
       "  </thead>\n",
       "  <tbody>\n",
       "    <tr>\n",
       "      <th>0</th>\n",
       "      <td>right-hand batsman</td>\n",
       "      <td>45</td>\n",
       "      <td>21</td>\n",
       "      <td>15</td>\n",
       "      <td>5</td>\n",
       "      <td>0</td>\n",
       "      <td>4</td>\n",
       "      <td>0</td>\n",
       "      <td>9.46</td>\n",
       "      <td>8</td>\n",
       "      <td>JJ Bumrah</td>\n",
       "      <td>T20</td>\n",
       "    </tr>\n",
       "    <tr>\n",
       "      <th>1</th>\n",
       "      <td>left-hand batsman</td>\n",
       "      <td>14</td>\n",
       "      <td>3</td>\n",
       "      <td>7</td>\n",
       "      <td>3</td>\n",
       "      <td>0</td>\n",
       "      <td>1</td>\n",
       "      <td>0</td>\n",
       "      <td>9.28</td>\n",
       "      <td>0</td>\n",
       "      <td>JJ Bumrah</td>\n",
       "      <td>T20</td>\n",
       "    </tr>\n",
       "    <tr>\n",
       "      <th>2</th>\n",
       "      <td>right-hand batsman</td>\n",
       "      <td>23</td>\n",
       "      <td>4</td>\n",
       "      <td>13</td>\n",
       "      <td>4</td>\n",
       "      <td>0</td>\n",
       "      <td>2</td>\n",
       "      <td>0</td>\n",
       "      <td>18.91</td>\n",
       "      <td>2</td>\n",
       "      <td>TA Boult</td>\n",
       "      <td>T20</td>\n",
       "    </tr>\n",
       "    <tr>\n",
       "      <th>3</th>\n",
       "      <td>left-hand batsman</td>\n",
       "      <td>16</td>\n",
       "      <td>2</td>\n",
       "      <td>10</td>\n",
       "      <td>4</td>\n",
       "      <td>0</td>\n",
       "      <td>0</td>\n",
       "      <td>0</td>\n",
       "      <td>18.93</td>\n",
       "      <td>1</td>\n",
       "      <td>TA Boult</td>\n",
       "      <td>T20</td>\n",
       "    </tr>\n",
       "    <tr>\n",
       "      <th>4</th>\n",
       "      <td>right-hand batsman</td>\n",
       "      <td>1</td>\n",
       "      <td>0</td>\n",
       "      <td>1</td>\n",
       "      <td>0</td>\n",
       "      <td>0</td>\n",
       "      <td>0</td>\n",
       "      <td>0</td>\n",
       "      <td>10.00</td>\n",
       "      <td>0</td>\n",
       "      <td>RD Chahar</td>\n",
       "      <td>T20</td>\n",
       "    </tr>\n",
       "    <tr>\n",
       "      <th>5</th>\n",
       "      <td>right-hand batsman</td>\n",
       "      <td>16</td>\n",
       "      <td>5</td>\n",
       "      <td>9</td>\n",
       "      <td>1</td>\n",
       "      <td>0</td>\n",
       "      <td>1</td>\n",
       "      <td>0</td>\n",
       "      <td>13.75</td>\n",
       "      <td>3</td>\n",
       "      <td>K Rabada</td>\n",
       "      <td>T20</td>\n",
       "    </tr>\n",
       "    <tr>\n",
       "      <th>6</th>\n",
       "      <td>left-hand batsman</td>\n",
       "      <td>14</td>\n",
       "      <td>5</td>\n",
       "      <td>8</td>\n",
       "      <td>1</td>\n",
       "      <td>0</td>\n",
       "      <td>0</td>\n",
       "      <td>0</td>\n",
       "      <td>15.21</td>\n",
       "      <td>0</td>\n",
       "      <td>K Rabada</td>\n",
       "      <td>T20</td>\n",
       "    </tr>\n",
       "    <tr>\n",
       "      <th>7</th>\n",
       "      <td>left-hand batsman</td>\n",
       "      <td>2</td>\n",
       "      <td>1</td>\n",
       "      <td>1</td>\n",
       "      <td>0</td>\n",
       "      <td>0</td>\n",
       "      <td>0</td>\n",
       "      <td>0</td>\n",
       "      <td>29.00</td>\n",
       "      <td>0</td>\n",
       "      <td>A Nortje</td>\n",
       "      <td>T20</td>\n",
       "    </tr>\n",
       "    <tr>\n",
       "      <th>8</th>\n",
       "      <td>right-hand batsman</td>\n",
       "      <td>35</td>\n",
       "      <td>5</td>\n",
       "      <td>22</td>\n",
       "      <td>1</td>\n",
       "      <td>2</td>\n",
       "      <td>5</td>\n",
       "      <td>0</td>\n",
       "      <td>16.65</td>\n",
       "      <td>2</td>\n",
       "      <td>R Ashwin</td>\n",
       "      <td>T20</td>\n",
       "    </tr>\n",
       "    <tr>\n",
       "      <th>9</th>\n",
       "      <td>left-hand batsman</td>\n",
       "      <td>17</td>\n",
       "      <td>2</td>\n",
       "      <td>11</td>\n",
       "      <td>0</td>\n",
       "      <td>3</td>\n",
       "      <td>1</td>\n",
       "      <td>0</td>\n",
       "      <td>14.88</td>\n",
       "      <td>1</td>\n",
       "      <td>R Ashwin</td>\n",
       "      <td>T20</td>\n",
       "    </tr>\n",
       "    <tr>\n",
       "      <th>10</th>\n",
       "      <td>right-hand batsman</td>\n",
       "      <td>9</td>\n",
       "      <td>2</td>\n",
       "      <td>3</td>\n",
       "      <td>0</td>\n",
       "      <td>0</td>\n",
       "      <td>4</td>\n",
       "      <td>0</td>\n",
       "      <td>14.44</td>\n",
       "      <td>2</td>\n",
       "      <td>KH Pandya</td>\n",
       "      <td>T20</td>\n",
       "    </tr>\n",
       "    <tr>\n",
       "      <th>11</th>\n",
       "      <td>left-hand batsman</td>\n",
       "      <td>5</td>\n",
       "      <td>0</td>\n",
       "      <td>4</td>\n",
       "      <td>0</td>\n",
       "      <td>0</td>\n",
       "      <td>1</td>\n",
       "      <td>0</td>\n",
       "      <td>25.00</td>\n",
       "      <td>0</td>\n",
       "      <td>KH Pandya</td>\n",
       "      <td>T20</td>\n",
       "    </tr>\n",
       "    <tr>\n",
       "      <th>12</th>\n",
       "      <td>right-hand batsman</td>\n",
       "      <td>30</td>\n",
       "      <td>3</td>\n",
       "      <td>23</td>\n",
       "      <td>4</td>\n",
       "      <td>0</td>\n",
       "      <td>0</td>\n",
       "      <td>0</td>\n",
       "      <td>26.03</td>\n",
       "      <td>0</td>\n",
       "      <td>KA Pollard</td>\n",
       "      <td>T20</td>\n",
       "    </tr>\n",
       "    <tr>\n",
       "      <th>13</th>\n",
       "      <td>left-hand batsman</td>\n",
       "      <td>5</td>\n",
       "      <td>0</td>\n",
       "      <td>3</td>\n",
       "      <td>2</td>\n",
       "      <td>0</td>\n",
       "      <td>0</td>\n",
       "      <td>0</td>\n",
       "      <td>17.20</td>\n",
       "      <td>1</td>\n",
       "      <td>KA Pollard</td>\n",
       "      <td>T20</td>\n",
       "    </tr>\n",
       "    <tr>\n",
       "      <th>14</th>\n",
       "      <td>right-hand batsman</td>\n",
       "      <td>7</td>\n",
       "      <td>2</td>\n",
       "      <td>5</td>\n",
       "      <td>0</td>\n",
       "      <td>0</td>\n",
       "      <td>0</td>\n",
       "      <td>0</td>\n",
       "      <td>19.57</td>\n",
       "      <td>0</td>\n",
       "      <td>MP Stoinis</td>\n",
       "      <td>T20</td>\n",
       "    </tr>\n",
       "    <tr>\n",
       "      <th>15</th>\n",
       "      <td>left-hand batsman</td>\n",
       "      <td>2</td>\n",
       "      <td>0</td>\n",
       "      <td>2</td>\n",
       "      <td>0</td>\n",
       "      <td>0</td>\n",
       "      <td>0</td>\n",
       "      <td>0</td>\n",
       "      <td>37.50</td>\n",
       "      <td>0</td>\n",
       "      <td>MP Stoinis</td>\n",
       "      <td>T20</td>\n",
       "    </tr>\n",
       "    <tr>\n",
       "      <th>16</th>\n",
       "      <td>right-hand batsman</td>\n",
       "      <td>1</td>\n",
       "      <td>0</td>\n",
       "      <td>1</td>\n",
       "      <td>0</td>\n",
       "      <td>0</td>\n",
       "      <td>0</td>\n",
       "      <td>0</td>\n",
       "      <td>3.00</td>\n",
       "      <td>0</td>\n",
       "      <td>J Pattinson</td>\n",
       "      <td>T20</td>\n",
       "    </tr>\n",
       "    <tr>\n",
       "      <th>17</th>\n",
       "      <td>left-hand batsman</td>\n",
       "      <td>2</td>\n",
       "      <td>1</td>\n",
       "      <td>1</td>\n",
       "      <td>0</td>\n",
       "      <td>0</td>\n",
       "      <td>0</td>\n",
       "      <td>0</td>\n",
       "      <td>21.50</td>\n",
       "      <td>0</td>\n",
       "      <td>J Pattinson</td>\n",
       "      <td>T20</td>\n",
       "    </tr>\n",
       "  </tbody>\n",
       "</table>\n",
       "</div>"
      ],
      "text/plain": [
       "             dismissal Dis bwd c_fie c_wk st lbw hw    Ave 0s       bowler  \\\n",
       "0   right-hand batsman  45  21    15    5  0   4  0   9.46  8    JJ Bumrah   \n",
       "1    left-hand batsman  14   3     7    3  0   1  0   9.28  0    JJ Bumrah   \n",
       "2   right-hand batsman  23   4    13    4  0   2  0  18.91  2     TA Boult   \n",
       "3    left-hand batsman  16   2    10    4  0   0  0  18.93  1     TA Boult   \n",
       "4   right-hand batsman   1   0     1    0  0   0  0  10.00  0    RD Chahar   \n",
       "5   right-hand batsman  16   5     9    1  0   1  0  13.75  3     K Rabada   \n",
       "6    left-hand batsman  14   5     8    1  0   0  0  15.21  0     K Rabada   \n",
       "7    left-hand batsman   2   1     1    0  0   0  0  29.00  0     A Nortje   \n",
       "8   right-hand batsman  35   5    22    1  2   5  0  16.65  2     R Ashwin   \n",
       "9    left-hand batsman  17   2    11    0  3   1  0  14.88  1     R Ashwin   \n",
       "10  right-hand batsman   9   2     3    0  0   4  0  14.44  2    KH Pandya   \n",
       "11   left-hand batsman   5   0     4    0  0   1  0  25.00  0    KH Pandya   \n",
       "12  right-hand batsman  30   3    23    4  0   0  0  26.03  0   KA Pollard   \n",
       "13   left-hand batsman   5   0     3    2  0   0  0  17.20  1   KA Pollard   \n",
       "14  right-hand batsman   7   2     5    0  0   0  0  19.57  0   MP Stoinis   \n",
       "15   left-hand batsman   2   0     2    0  0   0  0  37.50  0   MP Stoinis   \n",
       "16  right-hand batsman   1   0     1    0  0   0  0   3.00  0  J Pattinson   \n",
       "17   left-hand batsman   2   1     1    0  0   0  0  21.50  0  J Pattinson   \n",
       "\n",
       "   match_type  \n",
       "0         T20  \n",
       "1         T20  \n",
       "2         T20  \n",
       "3         T20  \n",
       "4         T20  \n",
       "5         T20  \n",
       "6         T20  \n",
       "7         T20  \n",
       "8         T20  \n",
       "9         T20  \n",
       "10        T20  \n",
       "11        T20  \n",
       "12        T20  \n",
       "13        T20  \n",
       "14        T20  \n",
       "15        T20  \n",
       "16        T20  \n",
       "17        T20  "
      ]
     },
     "execution_count": 257,
     "metadata": {},
     "output_type": "execute_result"
    }
   ],
   "source": [
    "# Bowlers\n",
    "# Bumrah\n",
    "data_bumrah = htmlData_parser_bowler(url_bumrah)\n",
    "dismissal_list_bumrah = required_data_bowler(data_bumrah)\n",
    "dismissal_summary_bumrah = pd.DataFrame(columns=['dismissal', 'span','Dis', 'bwd', 'c_fie', 'c_wk', 'st', 'lbw', 'hw', 'Ave','0s'], data=dismissal_list_bumrah)\n",
    "dismissal_summary_bumrah.drop('span', axis=1, inplace=True)\n",
    "dismissal_summary_bumrah[\"bowler\"] = \"JJ Bumrah\"\n",
    "dismissal_summary_bumrah[\"match_type\"] = \"T20\"\n",
    "\n",
    "# boult\n",
    "data_boult = htmlData_parser_bowler(url_boult)\n",
    "dismissal_list_boult = required_data_bowler(data_boult)\n",
    "dismissal_summary_boult = pd.DataFrame(columns=['dismissal', 'span','Dis', 'bwd', 'c_fie', 'c_wk', 'st', 'lbw', 'hw', 'Ave','0s'], data=dismissal_list_boult)\n",
    "dismissal_summary_boult.drop('span', axis=1, inplace=True)\n",
    "dismissal_summary_boult[\"bowler\"] = \"TA Boult\"\n",
    "dismissal_summary_boult[\"match_type\"] = \"T20\"\n",
    "\n",
    "\n",
    "# RD Chahar\n",
    "data_chahar = htmlData_parser_bowler(url_chahar)\n",
    "dismissal_list_chahar = required_data_bowler1(data_chahar)\n",
    "dismissal_summary_chahar = pd.DataFrame(columns=['dismissal', 'Dis', 'bwd', 'c_fie', 'c_wk', 'st', 'lbw', 'hw', 'Ave','0s'], data=dismissal_list_chahar)\n",
    "dismissal_summary_chahar[\"bowler\"] = \"RD Chahar\"\n",
    "dismissal_summary_chahar[\"match_type\"] = \"T20\"\n",
    "\n",
    "\n",
    "# rabada\n",
    "data_rabada = htmlData_parser_bowler(url_rabada)\n",
    "dismissal_list_rabada = required_data_bowler(data_rabada)\n",
    "dismissal_summary_rabada = pd.DataFrame(columns=['dismissal', 'span','Dis', 'bwd', 'c_fie', 'c_wk', 'st', 'lbw', 'hw', 'Ave','0s'], data=dismissal_list_rabada)\n",
    "dismissal_summary_rabada.drop('span', axis=1, inplace=True)\n",
    "dismissal_summary_rabada[\"bowler\"] = \"K Rabada\"\n",
    "dismissal_summary_rabada[\"match_type\"] = \"T20\"\n",
    "\n",
    "\n",
    "# A Nortje\n",
    "data_nortje = htmlData_parser_bowler(url_nortje)\n",
    "dismissal_list_nortje = required_data_bowler1(data_nortje)\n",
    "dismissal_summary_nortje = pd.DataFrame(columns=['dismissal', 'Dis', 'bwd', 'c_fie', 'c_wk', 'st', 'lbw', 'hw', 'Ave','0s'], data=dismissal_list_nortje)\n",
    "dismissal_summary_nortje[\"bowler\"] = \"A Nortje\"\n",
    "dismissal_summary_nortje[\"match_type\"] = \"T20\"\n",
    "\n",
    "\n",
    "# R Ashwin\n",
    "data_ashwin = htmlData_parser_bowler(url_ashwin)\n",
    "dismissal_list_ashwin = required_data_bowler(data_ashwin)\n",
    "dismissal_summary_ashwin = pd.DataFrame(columns=['dismissal', 'span','Dis', 'bwd', 'c_fie', 'c_wk', 'st', 'lbw', 'hw', 'Ave','0s'], data=dismissal_list_ashwin)\n",
    "dismissal_summary_ashwin.drop('span', axis=1, inplace=True)\n",
    "dismissal_summary_ashwin[\"bowler\"] = \"R Ashwin\"\n",
    "dismissal_summary_ashwin[\"match_type\"] = \"T20\"\n",
    "\n",
    "\n",
    "# KH Pandya\n",
    "data_khpandya = htmlData_parser_bowler(url_khpandya)\n",
    "dismissal_list_khpandya = required_data_bowler2(data_khpandya)\n",
    "dismissal_summary_khpandya = pd.DataFrame(columns=['dismissal', 'Dis', 'bwd', 'c_fie', 'c_wk', 'st', 'lbw', 'hw', 'Ave','0s'], data=dismissal_list_khpandya)\n",
    "dismissal_summary_khpandya[\"bowler\"] = \"KH Pandya\"\n",
    "dismissal_summary_khpandya[\"match_type\"] = \"T20\"\n",
    "\n",
    "\n",
    "# KA Pollard\n",
    "data_kapollard = htmlData_parser_bowler(url_kapollard)\n",
    "dismissal_list_kapollard = required_data_bowler(data_kapollard)\n",
    "dismissal_summary_kapollard = pd.DataFrame(columns=['dismissal', 'span','Dis', 'bwd', 'c_fie', 'c_wk', 'st', 'lbw', 'hw', 'Ave','0s'], data=dismissal_list_kapollard)\n",
    "dismissal_summary_kapollard.drop('span', axis=1, inplace=True)\n",
    "dismissal_summary_kapollard[\"bowler\"] = \"KA Pollard\"\n",
    "dismissal_summary_kapollard[\"match_type\"] = \"T20\"\n",
    "\n",
    "\n",
    "\n",
    "# MP Stoinis\n",
    "data_mpstoinins= htmlData_parser_bowler(url_mpstoinins)\n",
    "dismissal_list_mpstoinins = required_data_bowler(data_mpstoinins)\n",
    "dismissal_summary_mpstoinins = pd.DataFrame(columns=['dismissal', 'span','Dis', 'bwd', 'c_fie', 'c_wk', 'st', 'lbw', 'hw', 'Ave','0s'], data=dismissal_list_mpstoinins)\n",
    "dismissal_summary_mpstoinins.drop('span', axis=1, inplace=True)\n",
    "dismissal_summary_mpstoinins[\"bowler\"] = \"MP Stoinis\"\n",
    "dismissal_summary_mpstoinins[\"match_type\"] = \"T20\"\n",
    "\n",
    "\n",
    "# pattinson\n",
    "data_pattinson = htmlData_parser_bowler(url_pattinson)\n",
    "dismissal_list_pattinson = required_data_bowler2(data_pattinson)\n",
    "dismissal_summary_pattinson = pd.DataFrame(columns=['dismissal', 'Dis', 'bwd', 'c_fie', 'c_wk', 'st', 'lbw', 'hw', 'Ave','0s'], data=dismissal_list_pattinson)\n",
    "\n",
    "dismissal_summary_pattinson[\"bowler\"] = \"J Pattinson\"\n",
    "dismissal_summary_pattinson[\"match_type\"] = \"T20\"\n",
    "\n",
    "MI_DC_bowlers_wicket_summary = dismissal_summary_bumrah.append(dismissal_summary_boult, ignore_index =True).append(dismissal_summary_chahar, ignore_index =True).append(dismissal_summary_rabada, ignore_index =True).append(dismissal_summary_nortje, ignore_index =True).append(dismissal_summary_ashwin, ignore_index =True).append(dismissal_summary_khpandya, ignore_index =True).append(dismissal_summary_kapollard, ignore_index =True).append(dismissal_summary_mpstoinins, ignore_index =True).append(dismissal_summary_pattinson, ignore_index =True)\n",
    "\n",
    "MI_DC_bowlers_wicket_summary\n",
    "\n",
    "\n",
    "\n"
   ]
  },
  {
   "cell_type": "markdown",
   "metadata": {},
   "source": [
    "# B) Dataset 2"
   ]
  },
  {
   "cell_type": "markdown",
   "metadata": {},
   "source": [
    "# List of Dismissals\n"
   ]
  },
  {
   "cell_type": "code",
   "execution_count": 64,
   "metadata": {},
   "outputs": [],
   "source": [
    "def htmlData_parser_dismissals(url):\n",
    "    column_=[]\n",
    "    response = requests.get(url) \n",
    "    cric_data = BeautifulSoup(response.content, 'html.parser')\n",
    "    container = cric_data.find(\"caption\", text=\"List of dismissals\").find_parent(\"table\")\n",
    "    attr = container.find_all(\"tbody\")\n",
    "    for i in range(len(attr)):\n",
    "        table_col = attr[i].find_all(\"td\")\n",
    "        for j in range(len(table_col)):\n",
    "            column_.append(table_col[j].text)\n",
    "    return column_\n",
    "\n",
    "def split_list (x, list_):\n",
    "   return [list_[i:i+x] for i in range(0, len(list_), x)]"
   ]
  },
  {
   "cell_type": "code",
   "execution_count": 124,
   "metadata": {},
   "outputs": [],
   "source": [
    "def list_of_dismissal(url_ra_pace, url_ra_spin, url_la_pace, url_la_spin, match_type, batsman_name):\n",
    "    \n",
    "    ## Type of bowler : right arm pace\n",
    "    \n",
    "    right_arm_pace = htmlData_parser_dismissals(url_ra_pace)\n",
    "    right_arm_pace_list = split_list(10, right_arm_pace)\n",
    "    dismissal_summary_ra = pd.DataFrame(columns=['how out', 'fielder', 'bowler', 'runs', 'Inns', 'remove', 'opposition','Ground', 'Start Date', 'Test_no'], data=right_arm_pace_list)\n",
    "    dismissal_summary_ra.drop('remove', axis=1, inplace=True)\n",
    "    dismissal_summary_ra[\"batsman\"] = batsman_name\n",
    "    dismissal_summary_ra[\"bowler_type\"] = \"right_arm_pace\"\n",
    "    dismissal_summary_ra[\"match_type\"]  = match_type\n",
    "    \n",
    "    ## Type of bowler : right-arm spin\n",
    "    \n",
    "    right_arm_spin = htmlData_parser_dismissals(url_ra_spin)\n",
    "    right_arm_spin_list = split_list(10, right_arm_spin)\n",
    "    dismissal_summary_rs = pd.DataFrame(columns=['how out', 'fielder', 'bowler', 'runs', 'Inns', 'remove', 'opposition','Ground', 'Start Date', 'Test_no'], data=right_arm_spin_list)\n",
    "    dismissal_summary_rs.drop('remove', axis=1, inplace=True)\n",
    "    dismissal_summary_rs[\"batsman\"] = batsman_name\n",
    "    dismissal_summary_rs[\"bowler_type\"] = \"right_arm_spin\"\n",
    "    dismissal_summary_rs[\"match_type\"]  = match_type\n",
    "    \n",
    "    ## Type of bowler : left arm pace\n",
    "    #if url_la_pace != '-':\n",
    "    left_arm_pace = htmlData_parser_dismissals(url_la_pace)\n",
    "    left_arm_pace_list = split_list(10, left_arm_pace)\n",
    "    dismissal_summary_la = pd.DataFrame(columns=['how out', 'fielder', 'bowler', 'runs', 'Inns', 'remove', 'opposition','Ground', 'Start Date', 'Test_no'], data=left_arm_pace_list)\n",
    "    dismissal_summary_la.drop('remove', axis=1, inplace=True)\n",
    "    dismissal_summary_la[\"batsman\"] = batsman_name\n",
    "    dismissal_summary_la[\"bowler_type\"] = \"left_arm_pace\"\n",
    "    dismissal_summary_la[\"match_type\"]  = match_type\n",
    "    \n",
    "    ## Type of bowler : Left Arm Spin\n",
    "    #if url_la_spin != '-':\n",
    "    left_arm_spin = htmlData_parser_dismissals(url_la_spin)\n",
    "    left_arm_spin_list = split_list(10, left_arm_spin)\n",
    "    dismissal_summary_ls = pd.DataFrame(columns=['how out', 'fielder', 'bowler', 'runs', 'Inns', 'remove', 'opposition','Ground', 'Start Date', 'Test_no'], data=left_arm_spin_list)\n",
    "    dismissal_summary_ls.drop('remove', axis=1, inplace=True)\n",
    "    dismissal_summary_ls[\"batsman\"] = batsman_name\n",
    "    dismissal_summary_ls[\"bowler_type\"] = \"left_arm_spin\"\n",
    "    dismissal_summary_ls[\"match_type\"]  = match_type\n",
    "    \n",
    "    \n",
    "    list_of_dismissal_Test = dismissal_summary_ra.append(dismissal_summary_rs, ignore_index = True).append(dismissal_summary_la, ignore_index = True).append(dismissal_summary_ls, ignore_index = True)\n",
    "    return list_of_dismissal_Test\n",
    "\n",
    "#####################################################################################################################\n",
    "def list_of_dismissal1(url_ra_pace, url_ra_spin, url_la_pace, match_type, batsman_name):\n",
    "    \n",
    "    ## Type of bowler : right arm pace\n",
    "    \n",
    "    right_arm_pace = htmlData_parser_dismissals(url_ra_pace)\n",
    "    right_arm_pace_list = split_list(10, right_arm_pace)\n",
    "    dismissal_summary_ra = pd.DataFrame(columns=['how out', 'fielder', 'bowler', 'runs', 'Inns', 'remove', 'opposition','Ground', 'Start Date', 'Test_no'], data=right_arm_pace_list)\n",
    "    dismissal_summary_ra.drop('remove', axis=1, inplace=True)\n",
    "    dismissal_summary_ra[\"batsman\"] = batsman_name\n",
    "    dismissal_summary_ra[\"bowler_type\"] = \"right_arm_pace\"\n",
    "    dismissal_summary_ra[\"match_type\"]  = match_type\n",
    "    \n",
    "    ## Type of bowler : right-arm spin\n",
    "    \n",
    "    right_arm_spin = htmlData_parser_dismissals(url_ra_spin)\n",
    "    right_arm_spin_list = split_list(10, right_arm_spin)\n",
    "    dismissal_summary_rs = pd.DataFrame(columns=['how out', 'fielder', 'bowler', 'runs', 'Inns', 'remove', 'opposition','Ground', 'Start Date', 'Test_no'], data=right_arm_spin_list)\n",
    "    dismissal_summary_rs.drop('remove', axis=1, inplace=True)\n",
    "    dismissal_summary_rs[\"batsman\"] = batsman_name\n",
    "    dismissal_summary_rs[\"bowler_type\"] = \"right_arm_spin\"\n",
    "    dismissal_summary_rs[\"match_type\"]  = match_type\n",
    "    \n",
    "    ## Type of bowler : left arm pace\n",
    "    #if url_la_pace != '-':\n",
    "    left_arm_pace = htmlData_parser_dismissals(url_la_pace)\n",
    "    left_arm_pace_list = split_list(10, left_arm_pace)\n",
    "    dismissal_summary_la = pd.DataFrame(columns=['how out', 'fielder', 'bowler', 'runs', 'Inns', 'remove', 'opposition','Ground', 'Start Date', 'Test_no'], data=left_arm_pace_list)\n",
    "    dismissal_summary_la.drop('remove', axis=1, inplace=True)\n",
    "    dismissal_summary_la[\"batsman\"] = batsman_name\n",
    "    dismissal_summary_la[\"bowler_type\"] = \"left_arm_pace\"\n",
    "    dismissal_summary_la[\"match_type\"]  = match_type\n",
    "    \n",
    "        \n",
    "    \n",
    "    list_of_dismissal_Test1 = dismissal_summary_ra.append(dismissal_summary_rs, ignore_index = True).append(dismissal_summary_la, ignore_index = True)\n",
    "    return list_of_dismissal_Test1\n",
    "\n",
    "#########################################################################################################################\n",
    "def list_of_dismissal2(url_ra_pace, url_ra_spin,url_la_spin, match_type, batsman_name):\n",
    "    \n",
    "    ## Type of bowler : right arm pace\n",
    "    \n",
    "    right_arm_pace = htmlData_parser_dismissals(url_ra_pace)\n",
    "    right_arm_pace_list = split_list(10, right_arm_pace)\n",
    "    dismissal_summary_ra = pd.DataFrame(columns=['how out', 'fielder', 'bowler', 'runs', 'Inns', 'remove', 'opposition','Ground', 'Start Date', 'Test_no'], data=right_arm_pace_list)\n",
    "    dismissal_summary_ra.drop('remove', axis=1, inplace=True)\n",
    "    dismissal_summary_ra[\"batsman\"] = batsman_name\n",
    "    dismissal_summary_ra[\"bowler_type\"] = \"right_arm_pace\"\n",
    "    dismissal_summary_ra[\"match_type\"]  = match_type\n",
    "    \n",
    "    ## Type of bowler : right-arm spin\n",
    "    \n",
    "    right_arm_spin = htmlData_parser_dismissals(url_ra_spin)\n",
    "    right_arm_spin_list = split_list(10, right_arm_spin)\n",
    "    dismissal_summary_rs = pd.DataFrame(columns=['how out', 'fielder', 'bowler', 'runs', 'Inns', 'remove', 'opposition','Ground', 'Start Date', 'Test_no'], data=right_arm_spin_list)\n",
    "    dismissal_summary_rs.drop('remove', axis=1, inplace=True)\n",
    "    dismissal_summary_rs[\"batsman\"] = batsman_name\n",
    "    dismissal_summary_rs[\"bowler_type\"] = \"right_arm_spin\"\n",
    "    dismissal_summary_rs[\"match_type\"]  = match_type\n",
    "    \n",
    "    \n",
    "    \n",
    "    ## Type of bowler : Left Arm Spin\n",
    "    #if url_la_spin != '-':\n",
    "    left_arm_spin = htmlData_parser_dismissals(url_la_spin)\n",
    "    left_arm_spin_list = split_list(10, left_arm_spin)\n",
    "    dismissal_summary_ls = pd.DataFrame(columns=['how out', 'fielder', 'bowler', 'runs', 'Inns', 'remove', 'opposition','Ground', 'Start Date', 'Test_no'], data=left_arm_spin_list)\n",
    "    dismissal_summary_ls.drop('remove', axis=1, inplace=True)\n",
    "    dismissal_summary_ls[\"batsman\"] = batsman_name\n",
    "    dismissal_summary_ls[\"bowler_type\"] = \"left_arm_spin\"\n",
    "    dismissal_summary_ls[\"match_type\"]  = match_type\n",
    "    \n",
    "    \n",
    "    list_of_dismissal_Test2 = dismissal_summary_ra.append(dismissal_summary_rs, ignore_index = True).append(dismissal_summary_ls, ignore_index = True)\n",
    "    return list_of_dismissal_Test2\n",
    "\n",
    "##################################################################################################################\n",
    "def list_of_dismissal3(url_ra_pace, url_la_pace,match_type, batsman_name):\n",
    "    \n",
    "    ## Type of bowler : right arm pace\n",
    "    \n",
    "    right_arm_pace = htmlData_parser_dismissals(url_ra_pace)\n",
    "    right_arm_pace_list = split_list(10, right_arm_pace)\n",
    "    dismissal_summary_ra = pd.DataFrame(columns=['how out', 'fielder', 'bowler', 'runs', 'Inns', 'remove', 'opposition','Ground', 'Start Date', 'Test_no'], data=right_arm_pace_list)\n",
    "    dismissal_summary_ra.drop('remove', axis=1, inplace=True)\n",
    "    dismissal_summary_ra[\"batsman\"] = batsman_name\n",
    "    dismissal_summary_ra[\"bowler_type\"] = \"right_arm_pace\"\n",
    "    dismissal_summary_ra[\"match_type\"]  = match_type\n",
    "    \n",
    "    ## Type of bowler : left arm pace\n",
    "   \n",
    "    left_arm_pace = htmlData_parser_dismissals(url_la_pace)\n",
    "    left_arm_pace_list = split_list(10, left_arm_pace)\n",
    "    dismissal_summary_la = pd.DataFrame(columns=['how out', 'fielder', 'bowler', 'runs', 'Inns', 'remove', 'opposition','Ground', 'Start Date', 'Test_no'], data=left_arm_pace_list)\n",
    "    dismissal_summary_la.drop('remove', axis=1, inplace=True)\n",
    "    dismissal_summary_la[\"batsman\"] = batsman_name\n",
    "    dismissal_summary_la[\"bowler_type\"] = \"left_arm_pace\"\n",
    "    dismissal_summary_la[\"match_type\"]  = match_type\n",
    "    \n",
    "    \n",
    "    list_of_dismissal_Test3 = dismissal_summary_ra.append(dismissal_summary_la, ignore_index = True)\n",
    "    return list_of_dismissal_Test3\n",
    "\n",
    "\n",
    "\n"
   ]
  },
  {
   "cell_type": "markdown",
   "metadata": {},
   "source": [
    "# 3. T20"
   ]
  },
  {
   "cell_type": "code",
   "execution_count": 130,
   "metadata": {
    "scrolled": false
   },
   "outputs": [],
   "source": [
    "#shaw\n",
    "url_ra_pace2 = \"https://stats.espncricinfo.com/ci/engine/player/1070168.html?bowling_hand_pacespin=11;class=11;template=results;type=batting;view=dismissal_list\"\n",
    "url_ra_spin2 = \"https://stats.espncricinfo.com/ci/engine/player/1070168.html?bowling_hand_pacespin=12;class=11;template=results;type=batting;view=dismissal_list\"\n",
    "url_la_pace2 = \"https://stats.espncricinfo.com/ci/engine/player/1070168.html?bowling_hand_pacespin=21;class=11;template=results;type=batting;view=dismissal_list\"\n",
    "url_la_spin2 =\"https://stats.espncricinfo.com/ci/engine/player/1070168.html?bowling_hand_pacespin=22;class=11;template=results;type=batting;view=dismissal_list\"\n",
    "\n",
    "list_of_dismissal_shaw = list_of_dismissal(url_ra_pace2, url_ra_spin2, url_la_pace2, url_la_spin2, \"T20\", \"P Shaw\")\n",
    "\n",
    "# dhawan\n",
    "url_ra_pace_dhawan = \"https://stats.espncricinfo.com/ci/engine/player/28235.html?bowling_hand_pacespin=11;class=3;template=results;type=batting;view=dismissal_list\"\n",
    "url_ra_spin_dhawan = \"https://stats.espncricinfo.com/ci/engine/player/28235.html?bowling_hand_pacespin=12;class=3;template=results;type=batting;view=dismissal_list\"\n",
    "url_la_pace_dhawan = \"https://stats.espncricinfo.com/ci/engine/player/28235.html?bowling_hand_pacespin=21;class=3;template=results;type=batting;view=dismissal_list\"\n",
    "url_la_spin_dhawan = \"https://stats.espncricinfo.com/ci/engine/player/28235.html?bowling_hand_pacespin=22;class=3;template=results;type=batting;view=dismissal_list\"\n",
    "list_of_dismissal_dhawan = list_of_dismissal(url_ra_pace_dhawan, url_ra_spin_dhawan, url_la_pace_dhawan, url_la_spin_dhawan, \"T20\", \"S Dhawan\")\n",
    "\n",
    "\n",
    "#'A Rahane', \n",
    "url_ra_pace_rahane = \"https://stats.espncricinfo.com/ci/engine/player/277916.html?bowling_hand_pacespin=11;class=3;template=results;type=batting;view=dismissal_list\"\n",
    "url_ra_spin_rahane = \"https://stats.espncricinfo.com/ci/engine/player/277916.html?bowling_hand_pacespin=12;class=3;template=results;type=batting;view=dismissal_list\"\n",
    "url_la_pace_rahane = \"https://stats.espncricinfo.com/ci/engine/player/277916.html?bowling_hand_pacespin=21;class=3;template=results;type=batting;view=dismissal_list\"\n",
    "list_of_dismissal_rahane = list_of_dismissal1(url_ra_pace_rahane, url_ra_spin_rahane, url_la_pace_rahane, \"T20\", \"A Rahane\")\n",
    "\n",
    "\n",
    "#S Iyer \n",
    "url_ra_pace_iyer = \"https://stats.espncricinfo.com/ci/engine/player/642519.html?bowling_hand_pacespin=11;class=3;template=results;type=batting;view=dismissal_list\"\n",
    "url_ra_spin_iyer = \"https://stats.espncricinfo.com/ci/engine/player/642519.html?bowling_hand_pacespin=12;class=3;template=results;type=batting;view=dismissal_list\"\n",
    "url_la_spin_iyer = \"https://stats.espncricinfo.com/ci/engine/player/642519.html?bowling_hand_pacespin=22;class=3;template=results;type=batting;view=dismissal_list\"\n",
    "list_of_dismissal_iyer = list_of_dismissal2(url_ra_pace_iyer, url_ra_spin_iyer, url_la_spin_iyer, \"T20\", \"S Iyer\")\n",
    "\n",
    "\n",
    "# RR Pant\n",
    "url_ra_pace_pant = \"https://stats.espncricinfo.com/ci/engine/player/931581.html?bowling_hand_pacespin=11;class=3;template=results;type=batting;view=dismissal_list\"\n",
    "url_ra_spin_pant = \"https://stats.espncricinfo.com/ci/engine/player/931581.html?bowling_hand_pacespin=12;class=3;template=results;type=batting;view=dismissal_list\"\n",
    "url_la_pace_pant = \"https://stats.espncricinfo.com/ci/engine/player/931581.html?bowling_hand_pacespin=21;class=3;template=results;type=batting;view=dismissal_list\"\n",
    "url_la_spin_pant = \"https://stats.espncricinfo.com/ci/engine/player/931581.html?bowling_hand_pacespin=22;class=3;template=results;type=batting;view=dismissal_list\"\n",
    "list_of_dismissal_pant = list_of_dismissal(url_ra_pace_pant, url_ra_spin_pant, url_la_pace_pant, url_la_spin_pant, \"T20\", \"RR Pant\")\n",
    "\n",
    "\n",
    "\n",
    "#MP Stoinis\n",
    "url_ra_pace_stoinis = \"https://stats.espncricinfo.com/ci/engine/player/325012.html?bowling_hand_pacespin=11;class=3;template=results;type=batting;view=dismissal_list\"\n",
    "url_ra_spin_stoinis = \"https://stats.espncricinfo.com/ci/engine/player/325012.html?bowling_hand_pacespin=12;class=3;template=results;type=batting;view=dismissal_list\"\n",
    "url_la_pace_stoinis = \"https://stats.espncricinfo.com/ci/engine/player/325012.html?bowling_hand_pacespin=21;class=3;template=results;type=batting;view=dismissal_list\"\n",
    "\n",
    "list_of_dismissal_stoinis = list_of_dismissal1(url_ra_pace_stoinis, url_ra_spin_stoinis, url_la_pace_stoinis,  \"T20\", \"MP Stoinis\")\n",
    "\n",
    "\n",
    "#AR Patel\n",
    "url_ra_pace_patel = \"https://stats.espncricinfo.com/ci/engine/player/554691.html?bowling_hand_pacespin=11;class=3;template=results;type=batting;view=dismissal_list\"\n",
    "url_la_pace_patel = \"https://stats.espncricinfo.com/ci/engine/player/554691.html?bowling_hand_pacespin=21;class=3;template=results;type=batting;view=dismissal_list\"\n",
    "\n",
    "list_of_dismissal_patel = list_of_dismissal3(url_ra_pace_patel, url_la_pace_patel,  \"T20\", \"AR Patel\")\n",
    "\n",
    "DC_batsmen_dismissals = list_of_dismissal_shaw.append(list_of_dismissal_dhawan, ignore_index = True).append(list_of_dismissal_rahane, ignore_index = True).append(list_of_dismissal_iyer, ignore_index = True).append(list_of_dismissal_pant, ignore_index = True).append(list_of_dismissal_stoinis, ignore_index = True).append(list_of_dismissal_patel, ignore_index = True)\n",
    "DC_batsmen_dismissals[\"team\"] =\"Delhi Capitals\""
   ]
  },
  {
   "cell_type": "code",
   "execution_count": 187,
   "metadata": {},
   "outputs": [
    {
     "data": {
      "text/html": [
       "<div>\n",
       "<style scoped>\n",
       "    .dataframe tbody tr th:only-of-type {\n",
       "        vertical-align: middle;\n",
       "    }\n",
       "\n",
       "    .dataframe tbody tr th {\n",
       "        vertical-align: top;\n",
       "    }\n",
       "\n",
       "    .dataframe thead th {\n",
       "        text-align: right;\n",
       "    }\n",
       "</style>\n",
       "<table border=\"1\" class=\"dataframe\">\n",
       "  <thead>\n",
       "    <tr style=\"text-align: right;\">\n",
       "      <th></th>\n",
       "      <th>how out</th>\n",
       "      <th>fielder</th>\n",
       "      <th>bowler</th>\n",
       "      <th>runs</th>\n",
       "      <th>Inns</th>\n",
       "      <th>opposition</th>\n",
       "      <th>Ground</th>\n",
       "      <th>Start Date</th>\n",
       "      <th>Test_no</th>\n",
       "      <th>batsman</th>\n",
       "      <th>bowler_type</th>\n",
       "      <th>match_type</th>\n",
       "      <th>Team</th>\n",
       "    </tr>\n",
       "  </thead>\n",
       "  <tbody>\n",
       "    <tr>\n",
       "      <th>0</th>\n",
       "      <td>bowled</td>\n",
       "      <td></td>\n",
       "      <td>JR Hopes</td>\n",
       "      <td>8</td>\n",
       "      <td>1</td>\n",
       "      <td>v Australia</td>\n",
       "      <td>Melbourne</td>\n",
       "      <td>1 Feb 2008</td>\n",
       "      <td>T20I # 52</td>\n",
       "      <td>RG Sharma</td>\n",
       "      <td>right_arm_pace</td>\n",
       "      <td>T20</td>\n",
       "      <td>Mumbai Indians</td>\n",
       "    </tr>\n",
       "    <tr>\n",
       "      <th>1</th>\n",
       "      <td>caught</td>\n",
       "      <td>BB McCullum</td>\n",
       "      <td>IG Butler</td>\n",
       "      <td>7</td>\n",
       "      <td>1</td>\n",
       "      <td>v New Zealand</td>\n",
       "      <td>Christchurch</td>\n",
       "      <td>25 Feb 2009</td>\n",
       "      <td>T20I # 84</td>\n",
       "      <td>RG Sharma</td>\n",
       "      <td>right_arm_pace</td>\n",
       "      <td>T20</td>\n",
       "      <td>Mumbai Indians</td>\n",
       "    </tr>\n",
       "    <tr>\n",
       "      <th>2</th>\n",
       "      <td>caught</td>\n",
       "      <td>LMP Simmons</td>\n",
       "      <td>FH Edwards</td>\n",
       "      <td>5</td>\n",
       "      <td>1</td>\n",
       "      <td>v West Indies</td>\n",
       "      <td>Lord's</td>\n",
       "      <td>12 Jun 2009</td>\n",
       "      <td>T20I # 105</td>\n",
       "      <td>RG Sharma</td>\n",
       "      <td>right_arm_pace</td>\n",
       "      <td>T20</td>\n",
       "      <td>Mumbai Indians</td>\n",
       "    </tr>\n",
       "    <tr>\n",
       "      <th>3</th>\n",
       "      <td>caught</td>\n",
       "      <td>D Ramdin</td>\n",
       "      <td>KA Pollard</td>\n",
       "      <td>5</td>\n",
       "      <td>2</td>\n",
       "      <td>v West Indies</td>\n",
       "      <td>Bridgetown</td>\n",
       "      <td>9 May 2010</td>\n",
       "      <td>T20I # 169</td>\n",
       "      <td>RG Sharma</td>\n",
       "      <td>right_arm_pace</td>\n",
       "      <td>T20</td>\n",
       "      <td>Mumbai Indians</td>\n",
       "    </tr>\n",
       "    <tr>\n",
       "      <th>4</th>\n",
       "      <td>bowled</td>\n",
       "      <td></td>\n",
       "      <td>CD Barnwell</td>\n",
       "      <td>26</td>\n",
       "      <td>1</td>\n",
       "      <td>v West Indies</td>\n",
       "      <td>Port of Spain</td>\n",
       "      <td>4 Jun 2011</td>\n",
       "      <td>T20I # 200</td>\n",
       "      <td>RG Sharma</td>\n",
       "      <td>right_arm_pace</td>\n",
       "      <td>T20</td>\n",
       "      <td>Mumbai Indians</td>\n",
       "    </tr>\n",
       "    <tr>\n",
       "      <th>...</th>\n",
       "      <td>...</td>\n",
       "      <td>...</td>\n",
       "      <td>...</td>\n",
       "      <td>...</td>\n",
       "      <td>...</td>\n",
       "      <td>...</td>\n",
       "      <td>...</td>\n",
       "      <td>...</td>\n",
       "      <td>...</td>\n",
       "      <td>...</td>\n",
       "      <td>...</td>\n",
       "      <td>...</td>\n",
       "      <td>...</td>\n",
       "    </tr>\n",
       "    <tr>\n",
       "      <th>193</th>\n",
       "      <td>caught</td>\n",
       "      <td>DA Warner</td>\n",
       "      <td>XJ Doherty</td>\n",
       "      <td>38</td>\n",
       "      <td>1</td>\n",
       "      <td>v Australia</td>\n",
       "      <td>Colombo (RPS)</td>\n",
       "      <td>5 Oct 2012</td>\n",
       "      <td>T20I # 288</td>\n",
       "      <td>K Pollard</td>\n",
       "      <td>left_arm_spin</td>\n",
       "      <td>T20</td>\n",
       "      <td>Mumbai Indians</td>\n",
       "    </tr>\n",
       "    <tr>\n",
       "      <th>194</th>\n",
       "      <td>caught</td>\n",
       "      <td>Haris Sohail</td>\n",
       "      <td>Zulfiqar Babar</td>\n",
       "      <td>23</td>\n",
       "      <td>2</td>\n",
       "      <td>v Pakistan</td>\n",
       "      <td>Kingstown</td>\n",
       "      <td>28 Jul 2013</td>\n",
       "      <td>T20I # 322</td>\n",
       "      <td>K Pollard</td>\n",
       "      <td>left_arm_spin</td>\n",
       "      <td>T20</td>\n",
       "      <td>Mumbai Indians</td>\n",
       "    </tr>\n",
       "    <tr>\n",
       "      <th>195</th>\n",
       "      <td>caught</td>\n",
       "      <td>KMDN Kulasekara</td>\n",
       "      <td>TAM Siriwardana</td>\n",
       "      <td>26</td>\n",
       "      <td>2</td>\n",
       "      <td>v Sri Lanka</td>\n",
       "      <td>Pallekele</td>\n",
       "      <td>9 Nov 2015</td>\n",
       "      <td>T20I # 460</td>\n",
       "      <td>K Pollard</td>\n",
       "      <td>left_arm_spin</td>\n",
       "      <td>T20</td>\n",
       "      <td>Mumbai Indians</td>\n",
       "    </tr>\n",
       "    <tr>\n",
       "      <th>196</th>\n",
       "      <td>bowled</td>\n",
       "      <td></td>\n",
       "      <td>Imad Wasim</td>\n",
       "      <td>9</td>\n",
       "      <td>1</td>\n",
       "      <td>v Pakistan</td>\n",
       "      <td>Dubai (DSC)</td>\n",
       "      <td>23 Sep 2016</td>\n",
       "      <td>T20I # 568</td>\n",
       "      <td>K Pollard</td>\n",
       "      <td>left_arm_spin</td>\n",
       "      <td>T20</td>\n",
       "      <td>Mumbai Indians</td>\n",
       "    </tr>\n",
       "    <tr>\n",
       "      <th>197</th>\n",
       "      <td>caught</td>\n",
       "      <td>MK Pandey</td>\n",
       "      <td>KH Pandya</td>\n",
       "      <td>14</td>\n",
       "      <td>1</td>\n",
       "      <td>v India</td>\n",
       "      <td>Kolkata</td>\n",
       "      <td>4 Nov 2018</td>\n",
       "      <td>T20I # 707</td>\n",
       "      <td>K Pollard</td>\n",
       "      <td>left_arm_spin</td>\n",
       "      <td>T20</td>\n",
       "      <td>Mumbai Indians</td>\n",
       "    </tr>\n",
       "  </tbody>\n",
       "</table>\n",
       "<p>198 rows × 13 columns</p>\n",
       "</div>"
      ],
      "text/plain": [
       "    how out          fielder           bowler runs Inns     opposition  \\\n",
       "0    bowled                          JR Hopes    8    1    v Australia   \n",
       "1    caught      BB McCullum        IG Butler    7    1  v New Zealand   \n",
       "2    caught      LMP Simmons       FH Edwards    5    1  v West Indies   \n",
       "3    caught         D Ramdin       KA Pollard    5    2  v West Indies   \n",
       "4    bowled                       CD Barnwell   26    1  v West Indies   \n",
       "..      ...              ...              ...  ...  ...            ...   \n",
       "193  caught        DA Warner       XJ Doherty   38    1    v Australia   \n",
       "194  caught     Haris Sohail   Zulfiqar Babar   23    2     v Pakistan   \n",
       "195  caught  KMDN Kulasekara  TAM Siriwardana   26    2    v Sri Lanka   \n",
       "196  bowled                        Imad Wasim    9    1     v Pakistan   \n",
       "197  caught        MK Pandey        KH Pandya   14    1        v India   \n",
       "\n",
       "            Ground   Start Date     Test_no    batsman     bowler_type  \\\n",
       "0        Melbourne   1 Feb 2008   T20I # 52  RG Sharma  right_arm_pace   \n",
       "1     Christchurch  25 Feb 2009   T20I # 84  RG Sharma  right_arm_pace   \n",
       "2           Lord's  12 Jun 2009  T20I # 105  RG Sharma  right_arm_pace   \n",
       "3       Bridgetown   9 May 2010  T20I # 169  RG Sharma  right_arm_pace   \n",
       "4    Port of Spain   4 Jun 2011  T20I # 200  RG Sharma  right_arm_pace   \n",
       "..             ...          ...         ...        ...             ...   \n",
       "193  Colombo (RPS)   5 Oct 2012  T20I # 288  K Pollard   left_arm_spin   \n",
       "194      Kingstown  28 Jul 2013  T20I # 322  K Pollard   left_arm_spin   \n",
       "195      Pallekele   9 Nov 2015  T20I # 460  K Pollard   left_arm_spin   \n",
       "196    Dubai (DSC)  23 Sep 2016  T20I # 568  K Pollard   left_arm_spin   \n",
       "197        Kolkata   4 Nov 2018  T20I # 707  K Pollard   left_arm_spin   \n",
       "\n",
       "    match_type            Team  \n",
       "0          T20  Mumbai Indians  \n",
       "1          T20  Mumbai Indians  \n",
       "2          T20  Mumbai Indians  \n",
       "3          T20  Mumbai Indians  \n",
       "4          T20  Mumbai Indians  \n",
       "..         ...             ...  \n",
       "193        T20  Mumbai Indians  \n",
       "194        T20  Mumbai Indians  \n",
       "195        T20  Mumbai Indians  \n",
       "196        T20  Mumbai Indians  \n",
       "197        T20  Mumbai Indians  \n",
       "\n",
       "[198 rows x 13 columns]"
      ]
     },
     "execution_count": 187,
     "metadata": {},
     "output_type": "execute_result"
    }
   ],
   "source": [
    "# MI batsmen\n",
    "# RG Sharma\n",
    "\n",
    "url_ra_pace_sharma = \"https://stats.espncricinfo.com/ci/engine/player/34102.html?bowling_hand_pacespin=11;class=3;template=results;type=batting;view=dismissal_list\"\n",
    "url_ra_spin_sharma = \"https://stats.espncricinfo.com/ci/engine/player/34102.html?bowling_hand_pacespin=12;class=3;template=results;type=batting;view=dismissal_list\"\n",
    "url_la_pace_sharma = \"https://stats.espncricinfo.com/ci/engine/player/34102.html?bowling_hand_pacespin=21;class=3;template=results;type=batting;view=dismissal_list\"\n",
    "url_la_spin_sharma = \"https://stats.espncricinfo.com/ci/engine/player/34102.html?bowling_hand_pacespin=22;class=3;template=results;type=batting;view=dismissal_list\"\n",
    "list_of_dismissal_sharma = list_of_dismissal(url_ra_pace_sharma, url_ra_spin_sharma, url_la_pace_sharma, url_la_spin_sharma, \"T20\", \"RG Sharma\")\n",
    "# RG Sharma\n",
    "\n",
    "url_ra_pace_qdk = \"https://stats.espncricinfo.com/ci/engine/player/379143.html?bowling_hand_pacespin=11;class=3;template=results;type=batting;view=dismissal_list\"\n",
    "url_ra_spin_qdk = \"https://stats.espncricinfo.com/ci/engine/player/379143.html?bowling_hand_pacespin=12;class=3;template=results;type=batting;view=dismissal_list\"\n",
    "url_la_pace_qdk = \"https://stats.espncricinfo.com/ci/engine/player/379143.html?bowling_hand_pacespin=21;class=3;template=results;type=batting;view=dismissal_list\"\n",
    "url_la_spin_qdk = \"https://stats.espncricinfo.com/ci/engine/player/379143.html?bowling_hand_pacespin=22;class=3;template=results;type=batting;view=dismissal_list\"\n",
    "list_of_dismissal_qdk = list_of_dismissal(url_ra_pace_qdk, url_ra_spin_qdk, url_la_pace_qdk, url_la_spin_qdk, \"T20\", \"Q de Kock\")\n",
    "\n",
    "\n",
    "# I Kishan\n",
    "\n",
    "url_ra_pace_kishan = \"https://stats.espncricinfo.com/ci/engine/player/720471.html?bowling_hand_pacespin=11;class=21;template=results;type=batting;view=dismissal_list\"\n",
    "url_ra_spin_kishan = \"https://stats.espncricinfo.com/ci/engine/player/720471.html?bowling_hand_pacespin=12;class=21;template=results;type=batting;view=dismissal_list\"\n",
    "url_la_pace_kishan = \"https://stats.espncricinfo.com/ci/engine/player/720471.html?bowling_hand_pacespin=21;class=21;template=results;type=batting;view=dismissal_list\"\n",
    "url_la_spin_kishan = \"https://stats.espncricinfo.com/ci/engine/player/720471.html?bowling_hand_pacespin=22;class=21;template=results;type=batting;view=dismissal_list\"\n",
    "list_of_dismissal_kishan = list_of_dismissal(url_ra_pace_kishan, url_ra_spin_kishan, url_la_pace_kishan, url_la_spin_kishan, \"T20\", \"I Kishan\")\n",
    "\n",
    "# HH Pandya\n",
    "url_ra_pace_hpandya = \"https://stats.espncricinfo.com/ci/engine/player/625371.html?bowling_hand_pacespin=11;class=3;template=results;type=batting;view=dismissal_list\"\n",
    "url_ra_spin_hpandya = \"https://stats.espncricinfo.com/ci/engine/player/625371.html?bowling_hand_pacespin=12;class=3;template=results;type=batting;view=dismissal_list\"\n",
    "url_la_pace_hpandya = \"https://stats.espncricinfo.com/ci/engine/player/625371.html?bowling_hand_pacespin=21;class=3;template=results;type=batting;view=dismissal_list\"\n",
    "url_la_spin_hpandya = \"https://stats.espncricinfo.com/ci/engine/player/625371.html?bowling_hand_pacespin=22;class=3;template=results;type=batting;view=dismissal_list\"\n",
    "list_of_dismissal_hpandya = list_of_dismissal(url_ra_pace_hpandya, url_ra_spin_hpandya, url_la_pace_hpandya, url_la_spin_hpandya, \"T20\", \"HH Pandya\")\n",
    "\n",
    "# KH Pandya\n",
    "url_ra_pace_kpandya = \"https://stats.espncricinfo.com/ci/engine/player/471342.html?bowling_hand_pacespin=11;class=3;template=results;type=batting;view=dismissal_list\"\n",
    "url_la_pace_kpandya = \"https://stats.espncricinfo.com/ci/engine/player/471342.html?bowling_hand_pacespin=21;class=3;template=results;type=batting;view=dismissal_list\"\n",
    "list_of_dismissal_kpandya = list_of_dismissal3(url_ra_pace_kpandya, url_la_pace_kpandya,  \"T20\", \"KH Pandya\")\n",
    "\n",
    "\n",
    "# K pollard\n",
    "url_ra_pace_pollard = \"https://stats.espncricinfo.com/ci/engine/player/230559.html?bowling_hand_pacespin=11;class=3;template=results;type=batting;view=dismissal_list\"\n",
    "url_ra_spin_pollard = \"https://stats.espncricinfo.com/ci/engine/player/230559.html?bowling_hand_pacespin=12;class=3;template=results;type=batting;view=dismissal_list\"\n",
    "url_la_pace_pollard = \"https://stats.espncricinfo.com/ci/engine/player/230559.html?bowling_hand_pacespin=21;class=3;template=results;type=batting;view=dismissal_list\"\n",
    "url_la_spin_pollard = \"https://stats.espncricinfo.com/ci/engine/player/230559.html?bowling_hand_pacespin=22;class=3;template=results;type=batting;view=dismissal_list\"\n",
    "list_of_dismissal_pollard = list_of_dismissal(url_ra_pace_pollard, url_ra_spin_pollard, url_la_pace_pollard, url_la_spin_pollard, \"T20\", \"K Pollard\")\n",
    "MI_batsmen_dismissal_list = list_of_dismissal_sharma.append(list_of_dismissal_qdk, ignore_index = True).append(list_of_dismissal_kishan, ignore_index = True).append(list_of_dismissal_hpandya, ignore_index = True).append(list_of_dismissal_kpandya, ignore_index = True).append(list_of_dismissal_pollard, ignore_index = True)\n",
    "MI_batsmen_dismissal_list[\"Team\"] = \"Mumbai Indians\"\n"
   ]
  },
  {
   "cell_type": "code",
   "execution_count": 258,
   "metadata": {},
   "outputs": [],
   "source": [
    "DC_batsmen_data.to_csv(\"DC_batsmen_dismissal_summary.csv\")\n",
    "DC_batsmen_dismissals.to_csv(\"DC_batsmen_dismissal_list.csv\")\n",
    "MI_batsmen_dismissal_list.to_csv(\"MI_batsmen_dismissal_list.csv\")\n",
    "MI_batsmen_dismissal_summary.to_csv(\"MI_batsmen_dismissal_summary.csv\")\n",
    "MI_DC_bowlers_wicket_summary.to_csv(\"MI_DC_bowlers_wicket_summary.csv\")"
   ]
  }
 ],
 "metadata": {
  "kernelspec": {
   "display_name": "Python 3",
   "language": "python",
   "name": "python3"
  },
  "language_info": {
   "codemirror_mode": {
    "name": "ipython",
    "version": 3
   },
   "file_extension": ".py",
   "mimetype": "text/x-python",
   "name": "python",
   "nbconvert_exporter": "python",
   "pygments_lexer": "ipython3",
   "version": "3.8.3"
  },
  "widgets": {
   "application/vnd.jupyter.widget-state+json": {
    "state": {
     "01a42adba98443d88bc75453a2e97a13": {
      "model_module": "@jupyter-widgets/base",
      "model_module_version": "1.2.0",
      "model_name": "LayoutModel",
      "state": {}
     },
     "022a50d473ae44099b8bc3af252469b4": {
      "model_module": "@jupyter-widgets/base",
      "model_module_version": "1.2.0",
      "model_name": "LayoutModel",
      "state": {}
     },
     "0248af6052e042e5824a2fdf6f31be7e": {
      "model_module": "jupyter-matplotlib",
      "model_module_version": "^0.7.4",
      "model_name": "MPLCanvasModel",
      "state": {
       "_cursor": "default",
       "_figure_label": "Figure 39",
       "_height": 576,
       "_width": 1152,
       "layout": "IPY_MODEL_fee4c40763ad438780f568dde70909fb",
       "toolbar": "IPY_MODEL_932e59ec62354d7490bc248f836374be",
       "toolbar_position": "left"
      }
     },
     "02bcaa8a62c34163a1f615985615d13c": {
      "model_module": "jupyter-matplotlib",
      "model_module_version": "^0.7.4",
      "model_name": "MPLCanvasModel",
      "state": {
       "_cursor": "default",
       "_figure_label": "Figure 41",
       "_height": 432,
       "_width": 864,
       "layout": "IPY_MODEL_8d5e617782a84d5c8b3bdef1cddeaccf",
       "toolbar": "IPY_MODEL_a65d8cb2361f445aa94fef23949d83bb",
       "toolbar_position": "left"
      }
     },
     "03865ec967234b2dbdb1d1807bc5f211": {
      "model_module": "@jupyter-widgets/base",
      "model_module_version": "1.2.0",
      "model_name": "LayoutModel",
      "state": {}
     },
     "03c3c2cfdd3b49569b4e4b4929258dd3": {
      "model_module": "jupyter-matplotlib",
      "model_module_version": "^0.7.4",
      "model_name": "MPLCanvasModel",
      "state": {
       "_cursor": "default",
       "_figure_label": "Figure 12",
       "_height": 576,
       "_width": 1800,
       "layout": "IPY_MODEL_5701b9f07ed44529bef1268b28ec4b96",
       "toolbar": "IPY_MODEL_87acf867c9a042ebba0fd72207ce00f1",
       "toolbar_position": "left"
      }
     },
     "0906feefd9ae4fbab900471393ae112e": {
      "model_module": "@jupyter-widgets/base",
      "model_module_version": "1.2.0",
      "model_name": "LayoutModel",
      "state": {}
     },
     "0a88d21f43ad4b55afcdeac1cc273959": {
      "model_module": "jupyter-matplotlib",
      "model_module_version": "^0.7.4",
      "model_name": "ToolbarModel",
      "state": {
       "layout": "IPY_MODEL_723ce5877ac940a8915c0c9448ebb032",
       "toolitems": [
        [
         "Home",
         "Reset original view",
         "home",
         "home"
        ],
        [
         "Back",
         "Back to previous view",
         "arrow-left",
         "back"
        ],
        [
         "Forward",
         "Forward to next view",
         "arrow-right",
         "forward"
        ],
        [
         "Pan",
         "Pan axes with left mouse, zoom with right",
         "arrows",
         "pan"
        ],
        [
         "Zoom",
         "Zoom to rectangle",
         "square-o",
         "zoom"
        ],
        [
         "Download",
         "Download plot",
         "floppy-o",
         "save_figure"
        ]
       ]
      }
     },
     "0acec163a7d440fb8a6a8cb86cbd3eb6": {
      "model_module": "@jupyter-widgets/base",
      "model_module_version": "1.2.0",
      "model_name": "LayoutModel",
      "state": {}
     },
     "0d5c4ae260b4421d89918060aabc3fc3": {
      "model_module": "@jupyter-widgets/base",
      "model_module_version": "1.2.0",
      "model_name": "LayoutModel",
      "state": {}
     },
     "0e5dd7d4554b48eb8f2c563dc73cfaa5": {
      "model_module": "jupyter-matplotlib",
      "model_module_version": "^0.7.4",
      "model_name": "ToolbarModel",
      "state": {
       "layout": "IPY_MODEL_a453212c850e4b3a8de4215744fbed19",
       "toolitems": [
        [
         "Home",
         "Reset original view",
         "home",
         "home"
        ],
        [
         "Back",
         "Back to previous view",
         "arrow-left",
         "back"
        ],
        [
         "Forward",
         "Forward to next view",
         "arrow-right",
         "forward"
        ],
        [
         "Pan",
         "Pan axes with left mouse, zoom with right",
         "arrows",
         "pan"
        ],
        [
         "Zoom",
         "Zoom to rectangle",
         "square-o",
         "zoom"
        ],
        [
         "Download",
         "Download plot",
         "floppy-o",
         "save_figure"
        ]
       ]
      }
     },
     "0e8e01a531734ad4a63d2db2a6ab8854": {
      "model_module": "jupyter-matplotlib",
      "model_module_version": "^0.7.4",
      "model_name": "ToolbarModel",
      "state": {
       "layout": "IPY_MODEL_d80ad3576eae4dab90db643db265070f",
       "toolitems": [
        [
         "Home",
         "Reset original view",
         "home",
         "home"
        ],
        [
         "Back",
         "Back to previous view",
         "arrow-left",
         "back"
        ],
        [
         "Forward",
         "Forward to next view",
         "arrow-right",
         "forward"
        ],
        [
         "Pan",
         "Pan axes with left mouse, zoom with right",
         "arrows",
         "pan"
        ],
        [
         "Zoom",
         "Zoom to rectangle",
         "square-o",
         "zoom"
        ],
        [
         "Download",
         "Download plot",
         "floppy-o",
         "save_figure"
        ]
       ]
      }
     },
     "12252c1d9b9149c599bfb39292dfda16": {
      "model_module": "@jupyter-widgets/base",
      "model_module_version": "1.2.0",
      "model_name": "LayoutModel",
      "state": {}
     },
     "126397b10e6a4fef893b49155d9d966b": {
      "model_module": "jupyter-matplotlib",
      "model_module_version": "^0.7.4",
      "model_name": "ToolbarModel",
      "state": {
       "layout": "IPY_MODEL_16124703a637407aade42f46c5b1d205",
       "toolitems": [
        [
         "Home",
         "Reset original view",
         "home",
         "home"
        ],
        [
         "Back",
         "Back to previous view",
         "arrow-left",
         "back"
        ],
        [
         "Forward",
         "Forward to next view",
         "arrow-right",
         "forward"
        ],
        [
         "Pan",
         "Pan axes with left mouse, zoom with right",
         "arrows",
         "pan"
        ],
        [
         "Zoom",
         "Zoom to rectangle",
         "square-o",
         "zoom"
        ],
        [
         "Download",
         "Download plot",
         "floppy-o",
         "save_figure"
        ]
       ]
      }
     },
     "12d409ad501c4767b7ea2bd284e41e2d": {
      "model_module": "@jupyter-widgets/base",
      "model_module_version": "1.2.0",
      "model_name": "LayoutModel",
      "state": {}
     },
     "14b679f6915546bc9772f5f5414c57b4": {
      "model_module": "jupyter-matplotlib",
      "model_module_version": "^0.7.4",
      "model_name": "ToolbarModel",
      "state": {
       "layout": "IPY_MODEL_b5583f12c706410095753d1699c26d8d",
       "toolitems": [
        [
         "Home",
         "Reset original view",
         "home",
         "home"
        ],
        [
         "Back",
         "Back to previous view",
         "arrow-left",
         "back"
        ],
        [
         "Forward",
         "Forward to next view",
         "arrow-right",
         "forward"
        ],
        [
         "Pan",
         "Pan axes with left mouse, zoom with right",
         "arrows",
         "pan"
        ],
        [
         "Zoom",
         "Zoom to rectangle",
         "square-o",
         "zoom"
        ],
        [
         "Download",
         "Download plot",
         "floppy-o",
         "save_figure"
        ]
       ]
      }
     },
     "159321439bc64ee28d689433d66c3e0a": {
      "model_module": "jupyter-matplotlib",
      "model_module_version": "^0.7.4",
      "model_name": "ToolbarModel",
      "state": {
       "layout": "IPY_MODEL_aebd034e56eb4c38b38a3b1a446bed5a",
       "toolitems": [
        [
         "Home",
         "Reset original view",
         "home",
         "home"
        ],
        [
         "Back",
         "Back to previous view",
         "arrow-left",
         "back"
        ],
        [
         "Forward",
         "Forward to next view",
         "arrow-right",
         "forward"
        ],
        [
         "Pan",
         "Pan axes with left mouse, zoom with right",
         "arrows",
         "pan"
        ],
        [
         "Zoom",
         "Zoom to rectangle",
         "square-o",
         "zoom"
        ],
        [
         "Download",
         "Download plot",
         "floppy-o",
         "save_figure"
        ]
       ]
      }
     },
     "16124703a637407aade42f46c5b1d205": {
      "model_module": "@jupyter-widgets/base",
      "model_module_version": "1.2.0",
      "model_name": "LayoutModel",
      "state": {}
     },
     "165b3e78b44d41d1aac6048d0f6a4084": {
      "model_module": "jupyter-matplotlib",
      "model_module_version": "^0.7.4",
      "model_name": "ToolbarModel",
      "state": {
       "layout": "IPY_MODEL_2916b6c25307490a8ba4460431a436e5",
       "toolitems": [
        [
         "Home",
         "Reset original view",
         "home",
         "home"
        ],
        [
         "Back",
         "Back to previous view",
         "arrow-left",
         "back"
        ],
        [
         "Forward",
         "Forward to next view",
         "arrow-right",
         "forward"
        ],
        [
         "Pan",
         "Pan axes with left mouse, zoom with right",
         "arrows",
         "pan"
        ],
        [
         "Zoom",
         "Zoom to rectangle",
         "square-o",
         "zoom"
        ],
        [
         "Download",
         "Download plot",
         "floppy-o",
         "save_figure"
        ]
       ]
      }
     },
     "1a01c6a17da44340b83c5b08a91b7fc8": {
      "model_module": "@jupyter-widgets/base",
      "model_module_version": "1.2.0",
      "model_name": "LayoutModel",
      "state": {}
     },
     "1b030d84a892430cb4858328fccfee56": {
      "model_module": "@jupyter-widgets/base",
      "model_module_version": "1.2.0",
      "model_name": "LayoutModel",
      "state": {}
     },
     "1b77a4636ac345dc9729920ce92a11d6": {
      "model_module": "@jupyter-widgets/base",
      "model_module_version": "1.2.0",
      "model_name": "LayoutModel",
      "state": {}
     },
     "1f47dd37288b4542a8d9212a8a873dc2": {
      "model_module": "jupyter-matplotlib",
      "model_module_version": "^0.7.4",
      "model_name": "MPLCanvasModel",
      "state": {
       "_cursor": "default",
       "_figure_label": "Figure 29",
       "_height": 576,
       "_width": 864,
       "layout": "IPY_MODEL_61e069ee6a824c1cb443d61d58e2a029",
       "toolbar": "IPY_MODEL_e3a84e42a6e44ca380b61c4b902c6f5a",
       "toolbar_position": "left"
      }
     },
     "1f94f67f49e04d50b2ed71959dd3e823": {
      "model_module": "@jupyter-widgets/base",
      "model_module_version": "1.2.0",
      "model_name": "LayoutModel",
      "state": {}
     },
     "20b2fb2379e1467fb6e4fb9d0f2a23e3": {
      "model_module": "jupyter-matplotlib",
      "model_module_version": "^0.7.4",
      "model_name": "MPLCanvasModel",
      "state": {
       "_cursor": "default",
       "_figure_label": "Figure 38",
       "_height": 576,
       "_width": 864,
       "layout": "IPY_MODEL_75bdc6ade3254256b1e5d9245b77aaed",
       "toolbar": "IPY_MODEL_59f2661a36fd46d4b4c5e6f021a9f9da",
       "toolbar_position": "left"
      }
     },
     "216951092c644422bd49e95a81ab1197": {
      "model_module": "jupyter-matplotlib",
      "model_module_version": "^0.7.4",
      "model_name": "MPLCanvasModel",
      "state": {
       "_cursor": "default",
       "_figure_label": "Figure 16",
       "_height": 576,
       "_width": 864,
       "layout": "IPY_MODEL_dbdd23b8a110493fb66e31fc69deddf5",
       "toolbar": "IPY_MODEL_0e8e01a531734ad4a63d2db2a6ab8854",
       "toolbar_position": "left"
      }
     },
     "2255dbef0ff44a1ea37d264b001331f1": {
      "model_module": "@jupyter-widgets/base",
      "model_module_version": "1.2.0",
      "model_name": "LayoutModel",
      "state": {}
     },
     "2360568609e849318feabca2f6c82e42": {
      "model_module": "jupyter-matplotlib",
      "model_module_version": "^0.7.4",
      "model_name": "ToolbarModel",
      "state": {
       "layout": "IPY_MODEL_7747921bb7234ffebdb624562bcaf0d3",
       "toolitems": [
        [
         "Home",
         "Reset original view",
         "home",
         "home"
        ],
        [
         "Back",
         "Back to previous view",
         "arrow-left",
         "back"
        ],
        [
         "Forward",
         "Forward to next view",
         "arrow-right",
         "forward"
        ],
        [
         "Pan",
         "Pan axes with left mouse, zoom with right",
         "arrows",
         "pan"
        ],
        [
         "Zoom",
         "Zoom to rectangle",
         "square-o",
         "zoom"
        ],
        [
         "Download",
         "Download plot",
         "floppy-o",
         "save_figure"
        ]
       ]
      }
     },
     "254745a93de54ded8b2812e8ba82df0d": {
      "model_module": "@jupyter-widgets/base",
      "model_module_version": "1.2.0",
      "model_name": "LayoutModel",
      "state": {}
     },
     "25f8fe0bc4db446fa242867c92a475c3": {
      "model_module": "jupyter-matplotlib",
      "model_module_version": "^0.7.4",
      "model_name": "MPLCanvasModel",
      "state": {
       "_cursor": "default",
       "_figure_label": "Figure 4",
       "_height": 360,
       "_width": 864,
       "layout": "IPY_MODEL_f13db87df93242cdab9b8b54df0ce537",
       "toolbar": "IPY_MODEL_0a88d21f43ad4b55afcdeac1cc273959",
       "toolbar_position": "left"
      }
     },
     "2674a58998f04dc9a89b39b484feb23f": {
      "model_module": "@jupyter-widgets/base",
      "model_module_version": "1.2.0",
      "model_name": "LayoutModel",
      "state": {}
     },
     "27e2ac663b364f6489b359009eb2f37f": {
      "model_module": "jupyter-matplotlib",
      "model_module_version": "^0.7.4",
      "model_name": "MPLCanvasModel",
      "state": {
       "_cursor": "default",
       "_figure_label": "Figure 5",
       "_height": 360,
       "_width": 2160,
       "layout": "IPY_MODEL_4672cb41463f483cbdc9569dbe3d780a",
       "toolbar": "IPY_MODEL_5cc56248f9164d419fe8d7734e7453c1",
       "toolbar_position": "left"
      }
     },
     "2916b6c25307490a8ba4460431a436e5": {
      "model_module": "@jupyter-widgets/base",
      "model_module_version": "1.2.0",
      "model_name": "LayoutModel",
      "state": {}
     },
     "2a909782476a49e9ab319892be2e4cef": {
      "model_module": "jupyter-matplotlib",
      "model_module_version": "^0.7.4",
      "model_name": "ToolbarModel",
      "state": {
       "layout": "IPY_MODEL_cf47a2ad214648589b6343b8b75908c7",
       "toolitems": [
        [
         "Home",
         "Reset original view",
         "home",
         "home"
        ],
        [
         "Back",
         "Back to previous view",
         "arrow-left",
         "back"
        ],
        [
         "Forward",
         "Forward to next view",
         "arrow-right",
         "forward"
        ],
        [
         "Pan",
         "Pan axes with left mouse, zoom with right",
         "arrows",
         "pan"
        ],
        [
         "Zoom",
         "Zoom to rectangle",
         "square-o",
         "zoom"
        ],
        [
         "Download",
         "Download plot",
         "floppy-o",
         "save_figure"
        ]
       ]
      }
     },
     "2b3cb42e09bb475fa4967a982cd1117e": {
      "model_module": "@jupyter-widgets/base",
      "model_module_version": "1.2.0",
      "model_name": "LayoutModel",
      "state": {}
     },
     "2c2e79b24c0f4f4ca5c7c7d5265e53f7": {
      "model_module": "jupyter-matplotlib",
      "model_module_version": "^0.7.4",
      "model_name": "ToolbarModel",
      "state": {
       "layout": "IPY_MODEL_c19b513a91694632a70db66dc6c9c5c5",
       "toolitems": [
        [
         "Home",
         "Reset original view",
         "home",
         "home"
        ],
        [
         "Back",
         "Back to previous view",
         "arrow-left",
         "back"
        ],
        [
         "Forward",
         "Forward to next view",
         "arrow-right",
         "forward"
        ],
        [
         "Pan",
         "Pan axes with left mouse, zoom with right",
         "arrows",
         "pan"
        ],
        [
         "Zoom",
         "Zoom to rectangle",
         "square-o",
         "zoom"
        ],
        [
         "Download",
         "Download plot",
         "floppy-o",
         "save_figure"
        ]
       ]
      }
     },
     "2c6678a78ce54923b8af72ba39670ac2": {
      "model_module": "jupyter-matplotlib",
      "model_module_version": "^0.7.4",
      "model_name": "MPLCanvasModel",
      "state": {
       "_cursor": "default",
       "_figure_label": "Figure 58",
       "_height": 360,
       "_message": "x= y=12.2929     ",
       "_width": 864,
       "layout": "IPY_MODEL_c3759c726e024731b0f41ce9452d11fe",
       "toolbar": "IPY_MODEL_c47c7624084d46cf86a24f25b062aa03",
       "toolbar_position": "left"
      }
     },
     "2cfae5790c1146edbfbd3a6a860b4bd1": {
      "model_module": "@jupyter-widgets/base",
      "model_module_version": "1.2.0",
      "model_name": "LayoutModel",
      "state": {}
     },
     "304f5023f99c493b9bcfca6afc37c2bc": {
      "model_module": "jupyter-matplotlib",
      "model_module_version": "^0.7.4",
      "model_name": "ToolbarModel",
      "state": {
       "layout": "IPY_MODEL_022a50d473ae44099b8bc3af252469b4",
       "toolitems": [
        [
         "Home",
         "Reset original view",
         "home",
         "home"
        ],
        [
         "Back",
         "Back to previous view",
         "arrow-left",
         "back"
        ],
        [
         "Forward",
         "Forward to next view",
         "arrow-right",
         "forward"
        ],
        [
         "Pan",
         "Pan axes with left mouse, zoom with right",
         "arrows",
         "pan"
        ],
        [
         "Zoom",
         "Zoom to rectangle",
         "square-o",
         "zoom"
        ],
        [
         "Download",
         "Download plot",
         "floppy-o",
         "save_figure"
        ]
       ]
      }
     },
     "374751b4397642f8a400a067364eac70": {
      "model_module": "jupyter-matplotlib",
      "model_module_version": "^0.7.4",
      "model_name": "MPLCanvasModel",
      "state": {
       "_cursor": "default",
       "_figure_label": "Figure 49",
       "_height": 360,
       "_width": 864,
       "layout": "IPY_MODEL_646c19946c034250b96de2cc091f23a7",
       "toolbar": "IPY_MODEL_7f708c415e0b449c8b9fdd9a22501bd5",
       "toolbar_position": "left"
      }
     },
     "3931602c318e426791752b6e7f419a11": {
      "model_module": "jupyter-matplotlib",
      "model_module_version": "^0.7.4",
      "model_name": "ToolbarModel",
      "state": {
       "layout": "IPY_MODEL_410ecab04d0a4fe1a2526780dfb623e5",
       "toolitems": [
        [
         "Home",
         "Reset original view",
         "home",
         "home"
        ],
        [
         "Back",
         "Back to previous view",
         "arrow-left",
         "back"
        ],
        [
         "Forward",
         "Forward to next view",
         "arrow-right",
         "forward"
        ],
        [
         "Pan",
         "Pan axes with left mouse, zoom with right",
         "arrows",
         "pan"
        ],
        [
         "Zoom",
         "Zoom to rectangle",
         "square-o",
         "zoom"
        ],
        [
         "Download",
         "Download plot",
         "floppy-o",
         "save_figure"
        ]
       ]
      }
     },
     "3958250d2ae441d7ace0ab688d78c202": {
      "model_module": "jupyter-matplotlib",
      "model_module_version": "^0.7.4",
      "model_name": "MPLCanvasModel",
      "state": {
       "_cursor": "default",
       "_figure_label": "Figure 15",
       "_height": 576,
       "_width": 864,
       "layout": "IPY_MODEL_65c8e7ab03cc4ea5b3cc8259d5a58299",
       "toolbar": "IPY_MODEL_685197ed1075419696eae486e13cf309",
       "toolbar_position": "left"
      }
     },
     "3967cfad5b4149afa6329d6797eb307c": {
      "model_module": "jupyter-matplotlib",
      "model_module_version": "^0.7.4",
      "model_name": "MPLCanvasModel",
      "state": {
       "_cursor": "default",
       "_figure_label": "Figure 22",
       "_height": 576,
       "_message": "x= y=3.17817     ",
       "_width": 1152,
       "layout": "IPY_MODEL_fad1ab71ac254025ad8ed23f7c29cf4b",
       "toolbar": "IPY_MODEL_c74932776e3749b59e39c10d8894b5ef",
       "toolbar_position": "left"
      }
     },
     "3af0eebbf41f4e37a03a12911536d0e8": {
      "model_module": "@jupyter-widgets/base",
      "model_module_version": "1.2.0",
      "model_name": "LayoutModel",
      "state": {}
     },
     "3c8ee5c9636146029ff0518b43173162": {
      "model_module": "@jupyter-widgets/base",
      "model_module_version": "1.2.0",
      "model_name": "LayoutModel",
      "state": {}
     },
     "3cca3fece53d49968efbf95211f7990e": {
      "model_module": "@jupyter-widgets/base",
      "model_module_version": "1.2.0",
      "model_name": "LayoutModel",
      "state": {}
     },
     "3cfb9fc3cb0a4a41b79aaab1a3dc1182": {
      "model_module": "@jupyter-widgets/base",
      "model_module_version": "1.2.0",
      "model_name": "LayoutModel",
      "state": {}
     },
     "3dc5b500937f4a7f92d85f777c171b51": {
      "model_module": "jupyter-matplotlib",
      "model_module_version": "^0.7.4",
      "model_name": "MPLCanvasModel",
      "state": {
       "_cursor": "default",
       "_figure_label": "Figure 18",
       "_height": 576,
       "_width": 864,
       "layout": "IPY_MODEL_6ce1e4ab10f942168dc7f83558790f81",
       "toolbar": "IPY_MODEL_93eb0d84706e424fb87aa4e1c2dd3168",
       "toolbar_position": "left"
      }
     },
     "3e37a56bb86e4d368ac425f9f5b77bdd": {
      "model_module": "jupyter-matplotlib",
      "model_module_version": "^0.7.4",
      "model_name": "ToolbarModel",
      "state": {
       "layout": "IPY_MODEL_d087ac47b7404f5fb0f0e06e1515eff7",
       "toolitems": [
        [
         "Home",
         "Reset original view",
         "home",
         "home"
        ],
        [
         "Back",
         "Back to previous view",
         "arrow-left",
         "back"
        ],
        [
         "Forward",
         "Forward to next view",
         "arrow-right",
         "forward"
        ],
        [
         "Pan",
         "Pan axes with left mouse, zoom with right",
         "arrows",
         "pan"
        ],
        [
         "Zoom",
         "Zoom to rectangle",
         "square-o",
         "zoom"
        ],
        [
         "Download",
         "Download plot",
         "floppy-o",
         "save_figure"
        ]
       ]
      }
     },
     "3ea292a57b2d47dc9f1389a33c22f9ed": {
      "model_module": "@jupyter-widgets/base",
      "model_module_version": "1.2.0",
      "model_name": "LayoutModel",
      "state": {}
     },
     "401295d0dd904f8ca39996fa2cef5c35": {
      "model_module": "jupyter-matplotlib",
      "model_module_version": "^0.7.4",
      "model_name": "ToolbarModel",
      "state": {
       "layout": "IPY_MODEL_9b7f939878824949af0be4635830f1c3",
       "toolitems": [
        [
         "Home",
         "Reset original view",
         "home",
         "home"
        ],
        [
         "Back",
         "Back to previous view",
         "arrow-left",
         "back"
        ],
        [
         "Forward",
         "Forward to next view",
         "arrow-right",
         "forward"
        ],
        [
         "Pan",
         "Pan axes with left mouse, zoom with right",
         "arrows",
         "pan"
        ],
        [
         "Zoom",
         "Zoom to rectangle",
         "square-o",
         "zoom"
        ],
        [
         "Download",
         "Download plot",
         "floppy-o",
         "save_figure"
        ]
       ]
      }
     },
     "40a224fd80e8412da51c2af8668cac7f": {
      "model_module": "jupyter-matplotlib",
      "model_module_version": "^0.7.4",
      "model_name": "MPLCanvasModel",
      "state": {
       "_cursor": "default",
       "_figure_label": "Figure 25",
       "_height": 576,
       "_width": 864,
       "layout": "IPY_MODEL_f4e6a6b5d9034c2d841fad32c3353e4a",
       "toolbar": "IPY_MODEL_933ebdc0b5b342e794fd1082dae342b0",
       "toolbar_position": "left"
      }
     },
     "40beb7bbee604e1ba0ffa28715dbb993": {
      "model_module": "jupyter-matplotlib",
      "model_module_version": "^0.7.4",
      "model_name": "MPLCanvasModel",
      "state": {
       "_cursor": "default",
       "_figure_label": "Figure 6",
       "_height": 360,
       "_message": "x= y=2.87101     ",
       "_width": 3600,
       "layout": "IPY_MODEL_887b63edb20c4c498838938668887325",
       "toolbar": "IPY_MODEL_eb688db724714adf923904092c56ee80",
       "toolbar_position": "left"
      }
     },
     "410ecab04d0a4fe1a2526780dfb623e5": {
      "model_module": "@jupyter-widgets/base",
      "model_module_version": "1.2.0",
      "model_name": "LayoutModel",
      "state": {}
     },
     "42577704dbc245308d6ef7dad6606a59": {
      "model_module": "@jupyter-widgets/base",
      "model_module_version": "1.2.0",
      "model_name": "LayoutModel",
      "state": {}
     },
     "430dafc6797641d3bad68fb0c2e09c7b": {
      "model_module": "jupyter-matplotlib",
      "model_module_version": "^0.7.4",
      "model_name": "MPLCanvasModel",
      "state": {
       "_cursor": "default",
       "_figure_label": "Figure 56",
       "_height": 432,
       "_message": "x= y=0.415433    ",
       "_width": 1008,
       "layout": "IPY_MODEL_8a58873125cd487cab1c8fe31ebbd25e",
       "toolbar": "IPY_MODEL_14b679f6915546bc9772f5f5414c57b4",
       "toolbar_position": "left"
      }
     },
     "439890ff913a4612b3c08fa118be5142": {
      "model_module": "jupyter-matplotlib",
      "model_module_version": "^0.7.4",
      "model_name": "MPLCanvasModel",
      "state": {
       "_cursor": "default",
       "_figure_label": "Figure 61",
       "_height": 432,
       "_message": "x= y=0.0805552   ",
       "_width": 1152,
       "layout": "IPY_MODEL_1f94f67f49e04d50b2ed71959dd3e823",
       "toolbar": "IPY_MODEL_304f5023f99c493b9bcfca6afc37c2bc",
       "toolbar_position": "left"
      }
     },
     "43f407169b1940deb18d5c6448dc1518": {
      "model_module": "@jupyter-widgets/base",
      "model_module_version": "1.2.0",
      "model_name": "LayoutModel",
      "state": {}
     },
     "4442648a45ab410095cf53ce6c45b066": {
      "model_module": "@jupyter-widgets/base",
      "model_module_version": "1.2.0",
      "model_name": "LayoutModel",
      "state": {}
     },
     "44dfc4dbe22d4ba88e18fd37bbb85b85": {
      "model_module": "@jupyter-widgets/base",
      "model_module_version": "1.2.0",
      "model_name": "LayoutModel",
      "state": {}
     },
     "457ad6206c7543bfa11ed5a112df03ec": {
      "model_module": "jupyter-matplotlib",
      "model_module_version": "^0.7.4",
      "model_name": "MPLCanvasModel",
      "state": {
       "_cursor": "default",
       "_figure_label": "Figure 33",
       "_height": 576,
       "_width": 864,
       "layout": "IPY_MODEL_43f407169b1940deb18d5c6448dc1518",
       "toolbar": "IPY_MODEL_73afe6fee72a44d0acfb42e630f1b270",
       "toolbar_position": "left"
      }
     },
     "4606ad9160be4eec84505a614a8e3e97": {
      "model_module": "jupyter-matplotlib",
      "model_module_version": "^0.7.4",
      "model_name": "ToolbarModel",
      "state": {
       "layout": "IPY_MODEL_4442648a45ab410095cf53ce6c45b066",
       "toolitems": [
        [
         "Home",
         "Reset original view",
         "home",
         "home"
        ],
        [
         "Back",
         "Back to previous view",
         "arrow-left",
         "back"
        ],
        [
         "Forward",
         "Forward to next view",
         "arrow-right",
         "forward"
        ],
        [
         "Pan",
         "Pan axes with left mouse, zoom with right",
         "arrows",
         "pan"
        ],
        [
         "Zoom",
         "Zoom to rectangle",
         "square-o",
         "zoom"
        ],
        [
         "Download",
         "Download plot",
         "floppy-o",
         "save_figure"
        ]
       ]
      }
     },
     "466a3d51b14e41749a4c3f8ff248a0b0": {
      "model_module": "jupyter-matplotlib",
      "model_module_version": "^0.7.4",
      "model_name": "ToolbarModel",
      "state": {
       "layout": "IPY_MODEL_adb565986e67443eb5c043e56e0141f1",
       "toolitems": [
        [
         "Home",
         "Reset original view",
         "home",
         "home"
        ],
        [
         "Back",
         "Back to previous view",
         "arrow-left",
         "back"
        ],
        [
         "Forward",
         "Forward to next view",
         "arrow-right",
         "forward"
        ],
        [
         "Pan",
         "Pan axes with left mouse, zoom with right",
         "arrows",
         "pan"
        ],
        [
         "Zoom",
         "Zoom to rectangle",
         "square-o",
         "zoom"
        ],
        [
         "Download",
         "Download plot",
         "floppy-o",
         "save_figure"
        ]
       ]
      }
     },
     "4672cb41463f483cbdc9569dbe3d780a": {
      "model_module": "@jupyter-widgets/base",
      "model_module_version": "1.2.0",
      "model_name": "LayoutModel",
      "state": {}
     },
     "47ba96943630484ea47e7309855578e0": {
      "model_module": "jupyter-matplotlib",
      "model_module_version": "^0.7.4",
      "model_name": "MPLCanvasModel",
      "state": {
       "_cursor": "default",
       "_figure_label": "Figure 64",
       "_height": 432,
       "_width": 864,
       "layout": "IPY_MODEL_5e355988f99e47cb9ebd7513605ad2f5",
       "toolbar": "IPY_MODEL_466a3d51b14e41749a4c3f8ff248a0b0",
       "toolbar_position": "left"
      }
     },
     "496300dad5e445fdb5e3b3662e69adf0": {
      "model_module": "@jupyter-widgets/base",
      "model_module_version": "1.2.0",
      "model_name": "LayoutModel",
      "state": {}
     },
     "4b8012f530d5478188d8f3595636aae6": {
      "model_module": "@jupyter-widgets/base",
      "model_module_version": "1.2.0",
      "model_name": "LayoutModel",
      "state": {}
     },
     "4d7783f97ece4a909a0bcbecda88972b": {
      "model_module": "@jupyter-widgets/base",
      "model_module_version": "1.2.0",
      "model_name": "LayoutModel",
      "state": {}
     },
     "4f7d9eb23c2f497ca3f3b78ea4437459": {
      "model_module": "@jupyter-widgets/base",
      "model_module_version": "1.2.0",
      "model_name": "LayoutModel",
      "state": {}
     },
     "501b3840a0ef47258789de481095701f": {
      "model_module": "jupyter-matplotlib",
      "model_module_version": "^0.7.4",
      "model_name": "ToolbarModel",
      "state": {
       "layout": "IPY_MODEL_0d5c4ae260b4421d89918060aabc3fc3",
       "toolitems": [
        [
         "Home",
         "Reset original view",
         "home",
         "home"
        ],
        [
         "Back",
         "Back to previous view",
         "arrow-left",
         "back"
        ],
        [
         "Forward",
         "Forward to next view",
         "arrow-right",
         "forward"
        ],
        [
         "Pan",
         "Pan axes with left mouse, zoom with right",
         "arrows",
         "pan"
        ],
        [
         "Zoom",
         "Zoom to rectangle",
         "square-o",
         "zoom"
        ],
        [
         "Download",
         "Download plot",
         "floppy-o",
         "save_figure"
        ]
       ]
      }
     },
     "506d8b4417ca4139affabe9e9ffa0b08": {
      "model_module": "@jupyter-widgets/base",
      "model_module_version": "1.2.0",
      "model_name": "LayoutModel",
      "state": {}
     },
     "51ad0d37e9884f8382fea92dc6cf323d": {
      "model_module": "@jupyter-widgets/base",
      "model_module_version": "1.2.0",
      "model_name": "LayoutModel",
      "state": {}
     },
     "528ed1a785de4defb42d1da52cf2fc9e": {
      "model_module": "@jupyter-widgets/base",
      "model_module_version": "1.2.0",
      "model_name": "LayoutModel",
      "state": {}
     },
     "544e8efbe4ea4a9bb33484440f77909b": {
      "model_module": "jupyter-matplotlib",
      "model_module_version": "^0.7.4",
      "model_name": "MPLCanvasModel",
      "state": {
       "_cursor": "default",
       "_figure_label": "Figure 30",
       "_height": 576,
       "_width": 864,
       "layout": "IPY_MODEL_bb9d9c4817ca4c6a82712cc5a9c8a86c",
       "toolbar": "IPY_MODEL_980cb9c3691e490b9296af08449b208b",
       "toolbar_position": "left"
      }
     },
     "5701b9f07ed44529bef1268b28ec4b96": {
      "model_module": "@jupyter-widgets/base",
      "model_module_version": "1.2.0",
      "model_name": "LayoutModel",
      "state": {}
     },
     "589659f5c0cd42b782b859c24f34680f": {
      "model_module": "jupyter-matplotlib",
      "model_module_version": "^0.7.4",
      "model_name": "ToolbarModel",
      "state": {
       "layout": "IPY_MODEL_51ad0d37e9884f8382fea92dc6cf323d",
       "toolitems": [
        [
         "Home",
         "Reset original view",
         "home",
         "home"
        ],
        [
         "Back",
         "Back to previous view",
         "arrow-left",
         "back"
        ],
        [
         "Forward",
         "Forward to next view",
         "arrow-right",
         "forward"
        ],
        [
         "Pan",
         "Pan axes with left mouse, zoom with right",
         "arrows",
         "pan"
        ],
        [
         "Zoom",
         "Zoom to rectangle",
         "square-o",
         "zoom"
        ],
        [
         "Download",
         "Download plot",
         "floppy-o",
         "save_figure"
        ]
       ]
      }
     },
     "58c5d4672dfa465686ec273cd3dd1e09": {
      "model_module": "@jupyter-widgets/base",
      "model_module_version": "1.2.0",
      "model_name": "LayoutModel",
      "state": {}
     },
     "59f2661a36fd46d4b4c5e6f021a9f9da": {
      "model_module": "jupyter-matplotlib",
      "model_module_version": "^0.7.4",
      "model_name": "ToolbarModel",
      "state": {
       "layout": "IPY_MODEL_0906feefd9ae4fbab900471393ae112e",
       "toolitems": [
        [
         "Home",
         "Reset original view",
         "home",
         "home"
        ],
        [
         "Back",
         "Back to previous view",
         "arrow-left",
         "back"
        ],
        [
         "Forward",
         "Forward to next view",
         "arrow-right",
         "forward"
        ],
        [
         "Pan",
         "Pan axes with left mouse, zoom with right",
         "arrows",
         "pan"
        ],
        [
         "Zoom",
         "Zoom to rectangle",
         "square-o",
         "zoom"
        ],
        [
         "Download",
         "Download plot",
         "floppy-o",
         "save_figure"
        ]
       ]
      }
     },
     "5ab3590f585344f78199f7c3ed85b3ab": {
      "model_module": "jupyter-matplotlib",
      "model_module_version": "^0.7.4",
      "model_name": "MPLCanvasModel",
      "state": {
       "_cursor": "default",
       "_figure_label": "Figure 43",
       "_height": 432,
       "_width": 1008,
       "layout": "IPY_MODEL_c47cf2ab3252404b907ea7a9519a28cb",
       "toolbar": "IPY_MODEL_401295d0dd904f8ca39996fa2cef5c35",
       "toolbar_position": "left"
      }
     },
     "5cc56248f9164d419fe8d7734e7453c1": {
      "model_module": "jupyter-matplotlib",
      "model_module_version": "^0.7.4",
      "model_name": "ToolbarModel",
      "state": {
       "layout": "IPY_MODEL_12252c1d9b9149c599bfb39292dfda16",
       "toolitems": [
        [
         "Home",
         "Reset original view",
         "home",
         "home"
        ],
        [
         "Back",
         "Back to previous view",
         "arrow-left",
         "back"
        ],
        [
         "Forward",
         "Forward to next view",
         "arrow-right",
         "forward"
        ],
        [
         "Pan",
         "Pan axes with left mouse, zoom with right",
         "arrows",
         "pan"
        ],
        [
         "Zoom",
         "Zoom to rectangle",
         "square-o",
         "zoom"
        ],
        [
         "Download",
         "Download plot",
         "floppy-o",
         "save_figure"
        ]
       ]
      }
     },
     "5d5044799f994f6abd69731cf896063a": {
      "model_module": "jupyter-matplotlib",
      "model_module_version": "^0.7.4",
      "model_name": "MPLCanvasModel",
      "state": {
       "_cursor": "default",
       "_figure_label": "Figure 50",
       "_height": 432,
       "_width": 864,
       "layout": "IPY_MODEL_bfea968682654ac29bba2edddaa6c9b6",
       "toolbar": "IPY_MODEL_a75d6a6161514b10b63b181849e62f85",
       "toolbar_position": "left"
      }
     },
     "5e1f0ca5f85740adbd8622ecbe6f8240": {
      "model_module": "@jupyter-widgets/base",
      "model_module_version": "1.2.0",
      "model_name": "LayoutModel",
      "state": {}
     },
     "5e355988f99e47cb9ebd7513605ad2f5": {
      "model_module": "@jupyter-widgets/base",
      "model_module_version": "1.2.0",
      "model_name": "LayoutModel",
      "state": {}
     },
     "5e441305698d44babddaae8437db58cc": {
      "model_module": "jupyter-matplotlib",
      "model_module_version": "^0.7.4",
      "model_name": "MPLCanvasModel",
      "state": {
       "_cursor": "default",
       "_figure_label": "Figure 45",
       "_height": 432,
       "_width": 1008,
       "layout": "IPY_MODEL_e6be35c14f6642b3994feed724874a18",
       "toolbar": "IPY_MODEL_159321439bc64ee28d689433d66c3e0a",
       "toolbar_position": "left"
      }
     },
     "5e4a3a7a433341cb882a7d9f2da8052d": {
      "model_module": "jupyter-matplotlib",
      "model_module_version": "^0.7.4",
      "model_name": "ToolbarModel",
      "state": {
       "layout": "IPY_MODEL_12d409ad501c4767b7ea2bd284e41e2d",
       "toolitems": [
        [
         "Home",
         "Reset original view",
         "home",
         "home"
        ],
        [
         "Back",
         "Back to previous view",
         "arrow-left",
         "back"
        ],
        [
         "Forward",
         "Forward to next view",
         "arrow-right",
         "forward"
        ],
        [
         "Pan",
         "Pan axes with left mouse, zoom with right",
         "arrows",
         "pan"
        ],
        [
         "Zoom",
         "Zoom to rectangle",
         "square-o",
         "zoom"
        ],
        [
         "Download",
         "Download plot",
         "floppy-o",
         "save_figure"
        ]
       ]
      }
     },
     "6067a5265f994299b517b1a698254f2c": {
      "model_module": "@jupyter-widgets/base",
      "model_module_version": "1.2.0",
      "model_name": "LayoutModel",
      "state": {}
     },
     "612182e5eff04f3f8f1ed33b265f4450": {
      "model_module": "@jupyter-widgets/base",
      "model_module_version": "1.2.0",
      "model_name": "LayoutModel",
      "state": {}
     },
     "61ae43d41fc949fc86e1ed48b86546cd": {
      "model_module": "jupyter-matplotlib",
      "model_module_version": "^0.7.4",
      "model_name": "MPLCanvasModel",
      "state": {
       "_cursor": "default",
       "_figure_label": "Figure 1",
       "_height": 360,
       "_message": "x= y=142.621     ",
       "_width": 1440,
       "layout": "IPY_MODEL_e2291d37329e4b1a8e7cf96aedd0e7f6",
       "toolbar": "IPY_MODEL_5e4a3a7a433341cb882a7d9f2da8052d",
       "toolbar_position": "left"
      }
     },
     "61e069ee6a824c1cb443d61d58e2a029": {
      "model_module": "@jupyter-widgets/base",
      "model_module_version": "1.2.0",
      "model_name": "LayoutModel",
      "state": {}
     },
     "6260cc7037934cc0b74597bdf1e824e6": {
      "model_module": "@jupyter-widgets/base",
      "model_module_version": "1.2.0",
      "model_name": "LayoutModel",
      "state": {}
     },
     "62d005643f2d4f0a92852d08f2791071": {
      "model_module": "@jupyter-widgets/base",
      "model_module_version": "1.2.0",
      "model_name": "LayoutModel",
      "state": {}
     },
     "638330df60564d7d915eadc43cd284c0": {
      "model_module": "jupyter-matplotlib",
      "model_module_version": "^0.7.4",
      "model_name": "MPLCanvasModel",
      "state": {
       "_cursor": "default",
       "_figure_label": "Figure 37",
       "_height": 576,
       "_width": 864,
       "layout": "IPY_MODEL_42577704dbc245308d6ef7dad6606a59",
       "toolbar": "IPY_MODEL_753acd468e7041c5b9206e5f4049dbcd",
       "toolbar_position": "left"
      }
     },
     "6389426b391543c49ee493d64eea942b": {
      "model_module": "jupyter-matplotlib",
      "model_module_version": "^0.7.4",
      "model_name": "MPLCanvasModel",
      "state": {
       "_cursor": "default",
       "_figure_label": "Figure 59",
       "_height": 432,
       "_width": 864,
       "layout": "IPY_MODEL_e51a4f7676154803bff7bdd661b8ee29",
       "toolbar": "IPY_MODEL_7e3c75b0e30543548204423589250a2c",
       "toolbar_position": "left"
      }
     },
     "641d002399bf45d3a8e337073ba2b0f4": {
      "model_module": "jupyter-matplotlib",
      "model_module_version": "^0.7.4",
      "model_name": "ToolbarModel",
      "state": {
       "layout": "IPY_MODEL_ea32a6771e014a6792c9cf4a6b328175",
       "toolitems": [
        [
         "Home",
         "Reset original view",
         "home",
         "home"
        ],
        [
         "Back",
         "Back to previous view",
         "arrow-left",
         "back"
        ],
        [
         "Forward",
         "Forward to next view",
         "arrow-right",
         "forward"
        ],
        [
         "Pan",
         "Pan axes with left mouse, zoom with right",
         "arrows",
         "pan"
        ],
        [
         "Zoom",
         "Zoom to rectangle",
         "square-o",
         "zoom"
        ],
        [
         "Download",
         "Download plot",
         "floppy-o",
         "save_figure"
        ]
       ]
      }
     },
     "646c19946c034250b96de2cc091f23a7": {
      "model_module": "@jupyter-widgets/base",
      "model_module_version": "1.2.0",
      "model_name": "LayoutModel",
      "state": {}
     },
     "65c8e7ab03cc4ea5b3cc8259d5a58299": {
      "model_module": "@jupyter-widgets/base",
      "model_module_version": "1.2.0",
      "model_name": "LayoutModel",
      "state": {}
     },
     "685197ed1075419696eae486e13cf309": {
      "model_module": "jupyter-matplotlib",
      "model_module_version": "^0.7.4",
      "model_name": "ToolbarModel",
      "state": {
       "layout": "IPY_MODEL_58c5d4672dfa465686ec273cd3dd1e09",
       "toolitems": [
        [
         "Home",
         "Reset original view",
         "home",
         "home"
        ],
        [
         "Back",
         "Back to previous view",
         "arrow-left",
         "back"
        ],
        [
         "Forward",
         "Forward to next view",
         "arrow-right",
         "forward"
        ],
        [
         "Pan",
         "Pan axes with left mouse, zoom with right",
         "arrows",
         "pan"
        ],
        [
         "Zoom",
         "Zoom to rectangle",
         "square-o",
         "zoom"
        ],
        [
         "Download",
         "Download plot",
         "floppy-o",
         "save_figure"
        ]
       ]
      }
     },
     "6a5553d9510b4253bf0d67ced8b8bde0": {
      "model_module": "jupyter-matplotlib",
      "model_module_version": "^0.7.4",
      "model_name": "MPLCanvasModel",
      "state": {
       "_cursor": "default",
       "_figure_label": "Figure 42",
       "_height": 432,
       "_width": 1152,
       "layout": "IPY_MODEL_3cca3fece53d49968efbf95211f7990e",
       "toolbar": "IPY_MODEL_b453f85b1b7d4c819ebc4f75ba9d643c",
       "toolbar_position": "left"
      }
     },
     "6ce1e4ab10f942168dc7f83558790f81": {
      "model_module": "@jupyter-widgets/base",
      "model_module_version": "1.2.0",
      "model_name": "LayoutModel",
      "state": {}
     },
     "6d6fae7229f14648b2a054acd56339d7": {
      "model_module": "jupyter-matplotlib",
      "model_module_version": "^0.7.4",
      "model_name": "MPLCanvasModel",
      "state": {
       "_cursor": "default",
       "_figure_label": "Figure 23",
       "_height": 360,
       "_width": 864,
       "layout": "IPY_MODEL_da42c8d9bdc84c51afbad80f8d148d5d",
       "toolbar": "IPY_MODEL_4606ad9160be4eec84505a614a8e3e97",
       "toolbar_position": "left"
      }
     },
     "6e0342af59784e9d926fb918c92b4394": {
      "model_module": "@jupyter-widgets/base",
      "model_module_version": "1.2.0",
      "model_name": "LayoutModel",
      "state": {}
     },
     "6e4a41514e1945cfb1b85f789d9b9eae": {
      "model_module": "jupyter-matplotlib",
      "model_module_version": "^0.7.4",
      "model_name": "MPLCanvasModel",
      "state": {
       "_cursor": "default",
       "_figure_label": "Figure 19",
       "_height": 576,
       "_width": 864,
       "layout": "IPY_MODEL_62d005643f2d4f0a92852d08f2791071",
       "toolbar": "IPY_MODEL_501b3840a0ef47258789de481095701f",
       "toolbar_position": "left"
      }
     },
     "6e8a860c9a3b4fbf89f773270e86cab4": {
      "model_module": "@jupyter-widgets/base",
      "model_module_version": "1.2.0",
      "model_name": "LayoutModel",
      "state": {}
     },
     "6ea0dae8e3a84d3d86aa17bce6197a21": {
      "model_module": "jupyter-matplotlib",
      "model_module_version": "^0.7.4",
      "model_name": "MPLCanvasModel",
      "state": {
       "_cursor": "default",
       "_figure_label": "Figure 32",
       "_height": 360,
       "_width": 864,
       "layout": "IPY_MODEL_f1123d4976964f22a029f8092a9e4bae",
       "toolbar": "IPY_MODEL_3e37a56bb86e4d368ac425f9f5b77bdd",
       "toolbar_position": "left"
      }
     },
     "6ecef094fb474183ab958d53fdb68534": {
      "model_module": "jupyter-matplotlib",
      "model_module_version": "^0.7.4",
      "model_name": "MPLCanvasModel",
      "state": {
       "_cursor": "default",
       "_figure_label": "Figure 31",
       "_height": 576,
       "_width": 1152,
       "layout": "IPY_MODEL_6e8a860c9a3b4fbf89f773270e86cab4",
       "toolbar": "IPY_MODEL_589659f5c0cd42b782b859c24f34680f",
       "toolbar_position": "left"
      }
     },
     "6f94fa6b888d4df78ae80074d242bae9": {
      "model_module": "jupyter-matplotlib",
      "model_module_version": "^0.7.4",
      "model_name": "ToolbarModel",
      "state": {
       "layout": "IPY_MODEL_cd97d674ed0d43e9a00e35f1e68fe3ac",
       "toolitems": [
        [
         "Home",
         "Reset original view",
         "home",
         "home"
        ],
        [
         "Back",
         "Back to previous view",
         "arrow-left",
         "back"
        ],
        [
         "Forward",
         "Forward to next view",
         "arrow-right",
         "forward"
        ],
        [
         "Pan",
         "Pan axes with left mouse, zoom with right",
         "arrows",
         "pan"
        ],
        [
         "Zoom",
         "Zoom to rectangle",
         "square-o",
         "zoom"
        ],
        [
         "Download",
         "Download plot",
         "floppy-o",
         "save_figure"
        ]
       ]
      }
     },
     "7190c18e00cd46beae45af4b12011299": {
      "model_module": "jupyter-matplotlib",
      "model_module_version": "^0.7.4",
      "model_name": "ToolbarModel",
      "state": {
       "layout": "IPY_MODEL_8a08f33987764ed58e628c38e0090436",
       "toolitems": [
        [
         "Home",
         "Reset original view",
         "home",
         "home"
        ],
        [
         "Back",
         "Back to previous view",
         "arrow-left",
         "back"
        ],
        [
         "Forward",
         "Forward to next view",
         "arrow-right",
         "forward"
        ],
        [
         "Pan",
         "Pan axes with left mouse, zoom with right",
         "arrows",
         "pan"
        ],
        [
         "Zoom",
         "Zoom to rectangle",
         "square-o",
         "zoom"
        ],
        [
         "Download",
         "Download plot",
         "floppy-o",
         "save_figure"
        ]
       ]
      }
     },
     "723ce5877ac940a8915c0c9448ebb032": {
      "model_module": "@jupyter-widgets/base",
      "model_module_version": "1.2.0",
      "model_name": "LayoutModel",
      "state": {}
     },
     "72c2d1f42793487a9ec8d6a75ba78289": {
      "model_module": "@jupyter-widgets/base",
      "model_module_version": "1.2.0",
      "model_name": "LayoutModel",
      "state": {}
     },
     "73afe6fee72a44d0acfb42e630f1b270": {
      "model_module": "jupyter-matplotlib",
      "model_module_version": "^0.7.4",
      "model_name": "ToolbarModel",
      "state": {
       "layout": "IPY_MODEL_bf1d53a06c4245efab1849c024f0492f",
       "toolitems": [
        [
         "Home",
         "Reset original view",
         "home",
         "home"
        ],
        [
         "Back",
         "Back to previous view",
         "arrow-left",
         "back"
        ],
        [
         "Forward",
         "Forward to next view",
         "arrow-right",
         "forward"
        ],
        [
         "Pan",
         "Pan axes with left mouse, zoom with right",
         "arrows",
         "pan"
        ],
        [
         "Zoom",
         "Zoom to rectangle",
         "square-o",
         "zoom"
        ],
        [
         "Download",
         "Download plot",
         "floppy-o",
         "save_figure"
        ]
       ]
      }
     },
     "73dde0962d0b48438b7fd10c2732c353": {
      "model_module": "@jupyter-widgets/base",
      "model_module_version": "1.2.0",
      "model_name": "LayoutModel",
      "state": {}
     },
     "74700604668e42a39af721c08e387f5b": {
      "model_module": "@jupyter-widgets/base",
      "model_module_version": "1.2.0",
      "model_name": "LayoutModel",
      "state": {}
     },
     "753acd468e7041c5b9206e5f4049dbcd": {
      "model_module": "jupyter-matplotlib",
      "model_module_version": "^0.7.4",
      "model_name": "ToolbarModel",
      "state": {
       "layout": "IPY_MODEL_fef55b583d464eb59166e67df5a1a8c7",
       "toolitems": [
        [
         "Home",
         "Reset original view",
         "home",
         "home"
        ],
        [
         "Back",
         "Back to previous view",
         "arrow-left",
         "back"
        ],
        [
         "Forward",
         "Forward to next view",
         "arrow-right",
         "forward"
        ],
        [
         "Pan",
         "Pan axes with left mouse, zoom with right",
         "arrows",
         "pan"
        ],
        [
         "Zoom",
         "Zoom to rectangle",
         "square-o",
         "zoom"
        ],
        [
         "Download",
         "Download plot",
         "floppy-o",
         "save_figure"
        ]
       ]
      }
     },
     "7561405523214c3e9b74811826dd4338": {
      "model_module": "@jupyter-widgets/base",
      "model_module_version": "1.2.0",
      "model_name": "LayoutModel",
      "state": {}
     },
     "75bdc6ade3254256b1e5d9245b77aaed": {
      "model_module": "@jupyter-widgets/base",
      "model_module_version": "1.2.0",
      "model_name": "LayoutModel",
      "state": {}
     },
     "761d54efbd664e4cbf96f1752824e7ac": {
      "model_module": "jupyter-matplotlib",
      "model_module_version": "^0.7.4",
      "model_name": "MPLCanvasModel",
      "state": {
       "_cursor": "default",
       "_figure_label": "Figure 24",
       "_height": 576,
       "_width": 864,
       "layout": "IPY_MODEL_aad11d9c904b491690d9f1d1891aaac5",
       "toolbar": "IPY_MODEL_914e88fb7fe747a78699e417abe7b593",
       "toolbar_position": "left"
      }
     },
     "7747921bb7234ffebdb624562bcaf0d3": {
      "model_module": "@jupyter-widgets/base",
      "model_module_version": "1.2.0",
      "model_name": "LayoutModel",
      "state": {}
     },
     "78fb13260a4b48a0839e4f1727097bca": {
      "model_module": "jupyter-matplotlib",
      "model_module_version": "^0.7.4",
      "model_name": "MPLCanvasModel",
      "state": {
       "_cursor": "default",
       "_figure_label": "Figure 27",
       "_height": 360,
       "_width": 864,
       "layout": "IPY_MODEL_aea307b93a87474ab8923be362dbabcd",
       "toolbar": "IPY_MODEL_126397b10e6a4fef893b49155d9d966b",
       "toolbar_position": "left"
      }
     },
     "79045041020a4940a7cd8decd0767055": {
      "model_module": "@jupyter-widgets/base",
      "model_module_version": "1.2.0",
      "model_name": "LayoutModel",
      "state": {}
     },
     "7a3a8a2302374c1fbcdea66372134405": {
      "model_module": "jupyter-matplotlib",
      "model_module_version": "^0.7.4",
      "model_name": "MPLCanvasModel",
      "state": {
       "layout": "IPY_MODEL_830f1327a2744542bcaece6b5b0f0438",
       "toolbar": "IPY_MODEL_f97199b6b42e4032bfc4a45f50f2e694",
       "toolbar_position": "left"
      }
     },
     "7b636137dc774efb8fc7c6e901d39bca": {
      "model_module": "jupyter-matplotlib",
      "model_module_version": "^0.7.4",
      "model_name": "MPLCanvasModel",
      "state": {
       "_cursor": "default",
       "_figure_label": "Figure 14",
       "_height": 576,
       "_message": "x= y=0.367519    ",
       "_width": 864,
       "layout": "IPY_MODEL_4f7d9eb23c2f497ca3f3b78ea4437459",
       "toolbar": "IPY_MODEL_8e03cade253940239565e2dcff6b9bc0",
       "toolbar_position": "left"
      }
     },
     "7c18a9c26cbe4714bc3747c10dd140be": {
      "model_module": "@jupyter-widgets/base",
      "model_module_version": "1.2.0",
      "model_name": "LayoutModel",
      "state": {}
     },
     "7dc4a5c18c45409ab3303a465964ebbe": {
      "model_module": "jupyter-matplotlib",
      "model_module_version": "^0.7.4",
      "model_name": "MPLCanvasModel",
      "state": {
       "_cursor": "default",
       "_figure_label": "Figure 44",
       "_height": 432,
       "_width": 1008,
       "layout": "IPY_MODEL_5e1f0ca5f85740adbd8622ecbe6f8240",
       "toolbar": "IPY_MODEL_7190c18e00cd46beae45af4b12011299",
       "toolbar_position": "left"
      }
     },
     "7e3c75b0e30543548204423589250a2c": {
      "model_module": "jupyter-matplotlib",
      "model_module_version": "^0.7.4",
      "model_name": "ToolbarModel",
      "state": {
       "layout": "IPY_MODEL_1b77a4636ac345dc9729920ce92a11d6",
       "toolitems": [
        [
         "Home",
         "Reset original view",
         "home",
         "home"
        ],
        [
         "Back",
         "Back to previous view",
         "arrow-left",
         "back"
        ],
        [
         "Forward",
         "Forward to next view",
         "arrow-right",
         "forward"
        ],
        [
         "Pan",
         "Pan axes with left mouse, zoom with right",
         "arrows",
         "pan"
        ],
        [
         "Zoom",
         "Zoom to rectangle",
         "square-o",
         "zoom"
        ],
        [
         "Download",
         "Download plot",
         "floppy-o",
         "save_figure"
        ]
       ]
      }
     },
     "7e4114a2047240549bcbb648c6366d54": {
      "model_module": "jupyter-matplotlib",
      "model_module_version": "^0.7.4",
      "model_name": "MPLCanvasModel",
      "state": {
       "_cursor": "default",
       "_figure_label": "Figure 57",
       "_height": 432,
       "_message": "x= y=0.242543    ",
       "_width": 1008,
       "layout": "IPY_MODEL_94970c2ac1944e719f186060c069cf82",
       "toolbar": "IPY_MODEL_b993213e66154d6cad662337ae1e2c0f",
       "toolbar_position": "left"
      }
     },
     "7f708c415e0b449c8b9fdd9a22501bd5": {
      "model_module": "jupyter-matplotlib",
      "model_module_version": "^0.7.4",
      "model_name": "ToolbarModel",
      "state": {
       "layout": "IPY_MODEL_f07cb280e4a748729ff31ad37b1c692e",
       "toolitems": [
        [
         "Home",
         "Reset original view",
         "home",
         "home"
        ],
        [
         "Back",
         "Back to previous view",
         "arrow-left",
         "back"
        ],
        [
         "Forward",
         "Forward to next view",
         "arrow-right",
         "forward"
        ],
        [
         "Pan",
         "Pan axes with left mouse, zoom with right",
         "arrows",
         "pan"
        ],
        [
         "Zoom",
         "Zoom to rectangle",
         "square-o",
         "zoom"
        ],
        [
         "Download",
         "Download plot",
         "floppy-o",
         "save_figure"
        ]
       ]
      }
     },
     "830f1327a2744542bcaece6b5b0f0438": {
      "model_module": "@jupyter-widgets/base",
      "model_module_version": "1.2.0",
      "model_name": "LayoutModel",
      "state": {}
     },
     "833e842403914167866475cd771f7b4b": {
      "model_module": "jupyter-matplotlib",
      "model_module_version": "^0.7.4",
      "model_name": "MPLCanvasModel",
      "state": {
       "_cursor": "default",
       "_figure_label": "Figure 7",
       "_height": 360,
       "_width": 864,
       "layout": "IPY_MODEL_fe3b84439f714a35be0996b2a1b2cd03",
       "toolbar": "IPY_MODEL_be1e6ae43515498c97faedee84f8e816",
       "toolbar_position": "left"
      }
     },
     "87acf867c9a042ebba0fd72207ce00f1": {
      "model_module": "jupyter-matplotlib",
      "model_module_version": "^0.7.4",
      "model_name": "ToolbarModel",
      "state": {
       "layout": "IPY_MODEL_a58a24acd6c340f788bd0f19f4294e76",
       "toolitems": [
        [
         "Home",
         "Reset original view",
         "home",
         "home"
        ],
        [
         "Back",
         "Back to previous view",
         "arrow-left",
         "back"
        ],
        [
         "Forward",
         "Forward to next view",
         "arrow-right",
         "forward"
        ],
        [
         "Pan",
         "Pan axes with left mouse, zoom with right",
         "arrows",
         "pan"
        ],
        [
         "Zoom",
         "Zoom to rectangle",
         "square-o",
         "zoom"
        ],
        [
         "Download",
         "Download plot",
         "floppy-o",
         "save_figure"
        ]
       ]
      }
     },
     "882d5bd3504c4f7aac6eab18520cfe94": {
      "model_module": "jupyter-matplotlib",
      "model_module_version": "^0.7.4",
      "model_name": "ToolbarModel",
      "state": {
       "layout": "IPY_MODEL_d91104e5badc4ca697450a981a769cf4",
       "toolitems": [
        [
         "Home",
         "Reset original view",
         "home",
         "home"
        ],
        [
         "Back",
         "Back to previous view",
         "arrow-left",
         "back"
        ],
        [
         "Forward",
         "Forward to next view",
         "arrow-right",
         "forward"
        ],
        [
         "Pan",
         "Pan axes with left mouse, zoom with right",
         "arrows",
         "pan"
        ],
        [
         "Zoom",
         "Zoom to rectangle",
         "square-o",
         "zoom"
        ],
        [
         "Download",
         "Download plot",
         "floppy-o",
         "save_figure"
        ]
       ]
      }
     },
     "887b63edb20c4c498838938668887325": {
      "model_module": "@jupyter-widgets/base",
      "model_module_version": "1.2.0",
      "model_name": "LayoutModel",
      "state": {}
     },
     "88ff9795e2024ea2a867410db2608338": {
      "model_module": "jupyter-matplotlib",
      "model_module_version": "^0.7.4",
      "model_name": "ToolbarModel",
      "state": {
       "layout": "IPY_MODEL_44dfc4dbe22d4ba88e18fd37bbb85b85",
       "toolitems": [
        [
         "Home",
         "Reset original view",
         "home",
         "home"
        ],
        [
         "Back",
         "Back to previous view",
         "arrow-left",
         "back"
        ],
        [
         "Forward",
         "Forward to next view",
         "arrow-right",
         "forward"
        ],
        [
         "Pan",
         "Pan axes with left mouse, zoom with right",
         "arrows",
         "pan"
        ],
        [
         "Zoom",
         "Zoom to rectangle",
         "square-o",
         "zoom"
        ],
        [
         "Download",
         "Download plot",
         "floppy-o",
         "save_figure"
        ]
       ]
      }
     },
     "8932cdba4ef04bf79d17ede35a069d5b": {
      "model_module": "jupyter-matplotlib",
      "model_module_version": "^0.7.4",
      "model_name": "MPLCanvasModel",
      "state": {
       "_cursor": "default",
       "_figure_label": "Figure 63",
       "_height": 432,
       "_message": "x= y=0.699901    ",
       "_width": 864,
       "layout": "IPY_MODEL_f19a4d9ce54b431fa6e8c7b24a695f73",
       "toolbar": "IPY_MODEL_3931602c318e426791752b6e7f419a11",
       "toolbar_position": "left"
      }
     },
     "89a8fc3e259a46a29bc965f57045af7e": {
      "model_module": "@jupyter-widgets/base",
      "model_module_version": "1.2.0",
      "model_name": "LayoutModel",
      "state": {}
     },
     "8a08f33987764ed58e628c38e0090436": {
      "model_module": "@jupyter-widgets/base",
      "model_module_version": "1.2.0",
      "model_name": "LayoutModel",
      "state": {}
     },
     "8a58873125cd487cab1c8fe31ebbd25e": {
      "model_module": "@jupyter-widgets/base",
      "model_module_version": "1.2.0",
      "model_name": "LayoutModel",
      "state": {}
     },
     "8b9aa0b297334981b16836d5aeb2c2e5": {
      "model_module": "jupyter-matplotlib",
      "model_module_version": "^0.7.4",
      "model_name": "MPLCanvasModel",
      "state": {
       "_cursor": "default",
       "_figure_label": "Figure 51",
       "_height": 432,
       "_width": 864,
       "layout": "IPY_MODEL_2cfae5790c1146edbfbd3a6a860b4bd1",
       "toolbar": "IPY_MODEL_ce8a1dd83f2747128e41d7c292f93107",
       "toolbar_position": "left"
      }
     },
     "8cb1e7f8cf0644a7b34c00fda88ffe02": {
      "model_module": "@jupyter-widgets/base",
      "model_module_version": "1.2.0",
      "model_name": "LayoutModel",
      "state": {}
     },
     "8cc9428c169c45d591c9935846db748c": {
      "model_module": "jupyter-matplotlib",
      "model_module_version": "^0.7.4",
      "model_name": "MPLCanvasModel",
      "state": {
       "_cursor": "default",
       "_figure_label": "Figure 66",
       "_height": 360,
       "_width": 864,
       "layout": "IPY_MODEL_a3ef542d96e141ba8779517e78c7bc64",
       "toolbar": "IPY_MODEL_99f9c22c16f84ce1b0dde761171a02d5",
       "toolbar_position": "left"
      }
     },
     "8d5e617782a84d5c8b3bdef1cddeaccf": {
      "model_module": "@jupyter-widgets/base",
      "model_module_version": "1.2.0",
      "model_name": "LayoutModel",
      "state": {}
     },
     "8e03cade253940239565e2dcff6b9bc0": {
      "model_module": "jupyter-matplotlib",
      "model_module_version": "^0.7.4",
      "model_name": "ToolbarModel",
      "state": {
       "layout": "IPY_MODEL_1a01c6a17da44340b83c5b08a91b7fc8",
       "toolitems": [
        [
         "Home",
         "Reset original view",
         "home",
         "home"
        ],
        [
         "Back",
         "Back to previous view",
         "arrow-left",
         "back"
        ],
        [
         "Forward",
         "Forward to next view",
         "arrow-right",
         "forward"
        ],
        [
         "Pan",
         "Pan axes with left mouse, zoom with right",
         "arrows",
         "pan"
        ],
        [
         "Zoom",
         "Zoom to rectangle",
         "square-o",
         "zoom"
        ],
        [
         "Download",
         "Download plot",
         "floppy-o",
         "save_figure"
        ]
       ]
      }
     },
     "909c06ea9d4c46e8b514b929830608ed": {
      "model_module": "jupyter-matplotlib",
      "model_module_version": "^0.7.4",
      "model_name": "MPLCanvasModel",
      "state": {
       "_cursor": "default",
       "_figure_label": "Figure 48",
       "_height": 360,
       "_width": 864,
       "layout": "IPY_MODEL_3cfb9fc3cb0a4a41b79aaab1a3dc1182",
       "toolbar": "IPY_MODEL_0e5dd7d4554b48eb8f2c563dc73cfaa5",
       "toolbar_position": "left"
      }
     },
     "913c3fb62bde48d181bd37ead976956e": {
      "model_module": "jupyter-matplotlib",
      "model_module_version": "^0.7.4",
      "model_name": "MPLCanvasModel",
      "state": {
       "_cursor": "default",
       "_figure_label": "Figure 35",
       "_height": 576,
       "_width": 1152,
       "layout": "IPY_MODEL_b453734b7eea49b3802297dc3c250872",
       "toolbar": "IPY_MODEL_bb5de3d3fd9940dc92387b1ee9ada0ca",
       "toolbar_position": "left"
      }
     },
     "914e88fb7fe747a78699e417abe7b593": {
      "model_module": "jupyter-matplotlib",
      "model_module_version": "^0.7.4",
      "model_name": "ToolbarModel",
      "state": {
       "layout": "IPY_MODEL_921c9dfe0470440f828aba2c1736a953",
       "toolitems": [
        [
         "Home",
         "Reset original view",
         "home",
         "home"
        ],
        [
         "Back",
         "Back to previous view",
         "arrow-left",
         "back"
        ],
        [
         "Forward",
         "Forward to next view",
         "arrow-right",
         "forward"
        ],
        [
         "Pan",
         "Pan axes with left mouse, zoom with right",
         "arrows",
         "pan"
        ],
        [
         "Zoom",
         "Zoom to rectangle",
         "square-o",
         "zoom"
        ],
        [
         "Download",
         "Download plot",
         "floppy-o",
         "save_figure"
        ]
       ]
      }
     },
     "9179b99a88da4ecfbf2dcf3c5b349d1c": {
      "model_module": "jupyter-matplotlib",
      "model_module_version": "^0.7.4",
      "model_name": "MPLCanvasModel",
      "state": {
       "_cursor": "default",
       "_figure_label": "Figure 10",
       "_height": 360,
       "_width": 3600,
       "layout": "IPY_MODEL_ce713eab129d4495a9de1752124c086a",
       "toolbar": "IPY_MODEL_c0f08036dce7493484422e47afee4dd3",
       "toolbar_position": "left"
      }
     },
     "919b57aff8b64411843abc158d729ad9": {
      "model_module": "jupyter-matplotlib",
      "model_module_version": "^0.7.4",
      "model_name": "MPLCanvasModel",
      "state": {
       "_cursor": "default",
       "_figure_label": "Figure 13",
       "_height": 576,
       "_width": 1080,
       "layout": "IPY_MODEL_7c18a9c26cbe4714bc3747c10dd140be",
       "toolbar": "IPY_MODEL_c5b3516822b0490da934174175562103",
       "toolbar_position": "left"
      }
     },
     "921c9dfe0470440f828aba2c1736a953": {
      "model_module": "@jupyter-widgets/base",
      "model_module_version": "1.2.0",
      "model_name": "LayoutModel",
      "state": {}
     },
     "932e59ec62354d7490bc248f836374be": {
      "model_module": "jupyter-matplotlib",
      "model_module_version": "^0.7.4",
      "model_name": "ToolbarModel",
      "state": {
       "layout": "IPY_MODEL_74700604668e42a39af721c08e387f5b",
       "toolitems": [
        [
         "Home",
         "Reset original view",
         "home",
         "home"
        ],
        [
         "Back",
         "Back to previous view",
         "arrow-left",
         "back"
        ],
        [
         "Forward",
         "Forward to next view",
         "arrow-right",
         "forward"
        ],
        [
         "Pan",
         "Pan axes with left mouse, zoom with right",
         "arrows",
         "pan"
        ],
        [
         "Zoom",
         "Zoom to rectangle",
         "square-o",
         "zoom"
        ],
        [
         "Download",
         "Download plot",
         "floppy-o",
         "save_figure"
        ]
       ]
      }
     },
     "933ebdc0b5b342e794fd1082dae342b0": {
      "model_module": "jupyter-matplotlib",
      "model_module_version": "^0.7.4",
      "model_name": "ToolbarModel",
      "state": {
       "layout": "IPY_MODEL_ba7d159f078845848bb0cd74a36a2931",
       "toolitems": [
        [
         "Home",
         "Reset original view",
         "home",
         "home"
        ],
        [
         "Back",
         "Back to previous view",
         "arrow-left",
         "back"
        ],
        [
         "Forward",
         "Forward to next view",
         "arrow-right",
         "forward"
        ],
        [
         "Pan",
         "Pan axes with left mouse, zoom with right",
         "arrows",
         "pan"
        ],
        [
         "Zoom",
         "Zoom to rectangle",
         "square-o",
         "zoom"
        ],
        [
         "Download",
         "Download plot",
         "floppy-o",
         "save_figure"
        ]
       ]
      }
     },
     "93eb0d84706e424fb87aa4e1c2dd3168": {
      "model_module": "jupyter-matplotlib",
      "model_module_version": "^0.7.4",
      "model_name": "ToolbarModel",
      "state": {
       "layout": "IPY_MODEL_506d8b4417ca4139affabe9e9ffa0b08",
       "toolitems": [
        [
         "Home",
         "Reset original view",
         "home",
         "home"
        ],
        [
         "Back",
         "Back to previous view",
         "arrow-left",
         "back"
        ],
        [
         "Forward",
         "Forward to next view",
         "arrow-right",
         "forward"
        ],
        [
         "Pan",
         "Pan axes with left mouse, zoom with right",
         "arrows",
         "pan"
        ],
        [
         "Zoom",
         "Zoom to rectangle",
         "square-o",
         "zoom"
        ],
        [
         "Download",
         "Download plot",
         "floppy-o",
         "save_figure"
        ]
       ]
      }
     },
     "94970c2ac1944e719f186060c069cf82": {
      "model_module": "@jupyter-widgets/base",
      "model_module_version": "1.2.0",
      "model_name": "LayoutModel",
      "state": {}
     },
     "94dab36293e6461b882599d7ad409b6c": {
      "model_module": "@jupyter-widgets/base",
      "model_module_version": "1.2.0",
      "model_name": "LayoutModel",
      "state": {}
     },
     "94db3879913d4b0f921c607f90d6d026": {
      "model_module": "@jupyter-widgets/base",
      "model_module_version": "1.2.0",
      "model_name": "LayoutModel",
      "state": {}
     },
     "95dc58839dd3441ea2ade22acaae793a": {
      "model_module": "@jupyter-widgets/base",
      "model_module_version": "1.2.0",
      "model_name": "LayoutModel",
      "state": {}
     },
     "966d6e3f9f39465184a441df1a08a45f": {
      "model_module": "jupyter-matplotlib",
      "model_module_version": "^0.7.4",
      "model_name": "ToolbarModel",
      "state": {
       "layout": "IPY_MODEL_b9abd71ddea14c59be2829445061f743",
       "toolitems": [
        [
         "Home",
         "Reset original view",
         "home",
         "home"
        ],
        [
         "Back",
         "Back to previous view",
         "arrow-left",
         "back"
        ],
        [
         "Forward",
         "Forward to next view",
         "arrow-right",
         "forward"
        ],
        [
         "Pan",
         "Pan axes with left mouse, zoom with right",
         "arrows",
         "pan"
        ],
        [
         "Zoom",
         "Zoom to rectangle",
         "square-o",
         "zoom"
        ],
        [
         "Download",
         "Download plot",
         "floppy-o",
         "save_figure"
        ]
       ]
      }
     },
     "980cb9c3691e490b9296af08449b208b": {
      "model_module": "jupyter-matplotlib",
      "model_module_version": "^0.7.4",
      "model_name": "ToolbarModel",
      "state": {
       "layout": "IPY_MODEL_d7632e4c6ce6476f983bb1bd1be7633b",
       "toolitems": [
        [
         "Home",
         "Reset original view",
         "home",
         "home"
        ],
        [
         "Back",
         "Back to previous view",
         "arrow-left",
         "back"
        ],
        [
         "Forward",
         "Forward to next view",
         "arrow-right",
         "forward"
        ],
        [
         "Pan",
         "Pan axes with left mouse, zoom with right",
         "arrows",
         "pan"
        ],
        [
         "Zoom",
         "Zoom to rectangle",
         "square-o",
         "zoom"
        ],
        [
         "Download",
         "Download plot",
         "floppy-o",
         "save_figure"
        ]
       ]
      }
     },
     "985b97799ab24096b4ed6459527860e9": {
      "model_module": "jupyter-matplotlib",
      "model_module_version": "^0.7.4",
      "model_name": "MPLCanvasModel",
      "state": {
       "_cursor": "default",
       "_figure_label": "Figure 46",
       "_height": 360,
       "_width": 864,
       "layout": "IPY_MODEL_8cb1e7f8cf0644a7b34c00fda88ffe02",
       "toolbar": "IPY_MODEL_641d002399bf45d3a8e337073ba2b0f4",
       "toolbar_position": "left"
      }
     },
     "99f9c22c16f84ce1b0dde761171a02d5": {
      "model_module": "jupyter-matplotlib",
      "model_module_version": "^0.7.4",
      "model_name": "ToolbarModel",
      "state": {
       "layout": "IPY_MODEL_79045041020a4940a7cd8decd0767055",
       "toolitems": [
        [
         "Home",
         "Reset original view",
         "home",
         "home"
        ],
        [
         "Back",
         "Back to previous view",
         "arrow-left",
         "back"
        ],
        [
         "Forward",
         "Forward to next view",
         "arrow-right",
         "forward"
        ],
        [
         "Pan",
         "Pan axes with left mouse, zoom with right",
         "arrows",
         "pan"
        ],
        [
         "Zoom",
         "Zoom to rectangle",
         "square-o",
         "zoom"
        ],
        [
         "Download",
         "Download plot",
         "floppy-o",
         "save_figure"
        ]
       ]
      }
     },
     "9a8eaa5b33e942faa44f31ee5d19152b": {
      "model_module": "jupyter-matplotlib",
      "model_module_version": "^0.7.4",
      "model_name": "MPLCanvasModel",
      "state": {
       "_cursor": "default",
       "_figure_label": "Figure 60",
       "_height": 432,
       "_width": 864,
       "layout": "IPY_MODEL_db31d8462e9246f1ac5a3ded8a75b74c",
       "toolbar": "IPY_MODEL_e2cc241e21604b5286672e7f85acae1e",
       "toolbar_position": "left"
      }
     },
     "9b7f939878824949af0be4635830f1c3": {
      "model_module": "@jupyter-widgets/base",
      "model_module_version": "1.2.0",
      "model_name": "LayoutModel",
      "state": {}
     },
     "9ffe6a3430684f06888ed7811d0a2da2": {
      "model_module": "jupyter-matplotlib",
      "model_module_version": "^0.7.4",
      "model_name": "MPLCanvasModel",
      "state": {
       "_cursor": "default",
       "_figure_label": "Figure 65",
       "_height": 432,
       "_width": 1152,
       "layout": "IPY_MODEL_d1d58bc75f3a445992a5777dc34804cc",
       "toolbar": "IPY_MODEL_882d5bd3504c4f7aac6eab18520cfe94",
       "toolbar_position": "left"
      }
     },
     "a005100b46de46588e67384cc42b41e2": {
      "model_module": "jupyter-matplotlib",
      "model_module_version": "^0.7.4",
      "model_name": "ToolbarModel",
      "state": {
       "layout": "IPY_MODEL_efaea063710b4cf798f393b4fb10a479",
       "toolitems": [
        [
         "Home",
         "Reset original view",
         "home",
         "home"
        ],
        [
         "Back",
         "Back to previous view",
         "arrow-left",
         "back"
        ],
        [
         "Forward",
         "Forward to next view",
         "arrow-right",
         "forward"
        ],
        [
         "Pan",
         "Pan axes with left mouse, zoom with right",
         "arrows",
         "pan"
        ],
        [
         "Zoom",
         "Zoom to rectangle",
         "square-o",
         "zoom"
        ],
        [
         "Download",
         "Download plot",
         "floppy-o",
         "save_figure"
        ]
       ]
      }
     },
     "a3ef542d96e141ba8779517e78c7bc64": {
      "model_module": "@jupyter-widgets/base",
      "model_module_version": "1.2.0",
      "model_name": "LayoutModel",
      "state": {}
     },
     "a453212c850e4b3a8de4215744fbed19": {
      "model_module": "@jupyter-widgets/base",
      "model_module_version": "1.2.0",
      "model_name": "LayoutModel",
      "state": {}
     },
     "a4a8606e290046d6ac367762598d67f5": {
      "model_module": "jupyter-matplotlib",
      "model_module_version": "^0.7.4",
      "model_name": "ToolbarModel",
      "state": {
       "layout": "IPY_MODEL_be11d4704b5b4e09aa8f3240209111ec",
       "toolitems": [
        [
         "Home",
         "Reset original view",
         "home",
         "home"
        ],
        [
         "Back",
         "Back to previous view",
         "arrow-left",
         "back"
        ],
        [
         "Forward",
         "Forward to next view",
         "arrow-right",
         "forward"
        ],
        [
         "Pan",
         "Pan axes with left mouse, zoom with right",
         "arrows",
         "pan"
        ],
        [
         "Zoom",
         "Zoom to rectangle",
         "square-o",
         "zoom"
        ],
        [
         "Download",
         "Download plot",
         "floppy-o",
         "save_figure"
        ]
       ]
      }
     },
     "a58a24acd6c340f788bd0f19f4294e76": {
      "model_module": "@jupyter-widgets/base",
      "model_module_version": "1.2.0",
      "model_name": "LayoutModel",
      "state": {}
     },
     "a65d8cb2361f445aa94fef23949d83bb": {
      "model_module": "jupyter-matplotlib",
      "model_module_version": "^0.7.4",
      "model_name": "ToolbarModel",
      "state": {
       "layout": "IPY_MODEL_4d7783f97ece4a909a0bcbecda88972b",
       "toolitems": [
        [
         "Home",
         "Reset original view",
         "home",
         "home"
        ],
        [
         "Back",
         "Back to previous view",
         "arrow-left",
         "back"
        ],
        [
         "Forward",
         "Forward to next view",
         "arrow-right",
         "forward"
        ],
        [
         "Pan",
         "Pan axes with left mouse, zoom with right",
         "arrows",
         "pan"
        ],
        [
         "Zoom",
         "Zoom to rectangle",
         "square-o",
         "zoom"
        ],
        [
         "Download",
         "Download plot",
         "floppy-o",
         "save_figure"
        ]
       ]
      }
     },
     "a75d6a6161514b10b63b181849e62f85": {
      "model_module": "jupyter-matplotlib",
      "model_module_version": "^0.7.4",
      "model_name": "ToolbarModel",
      "state": {
       "layout": "IPY_MODEL_3af0eebbf41f4e37a03a12911536d0e8",
       "toolitems": [
        [
         "Home",
         "Reset original view",
         "home",
         "home"
        ],
        [
         "Back",
         "Back to previous view",
         "arrow-left",
         "back"
        ],
        [
         "Forward",
         "Forward to next view",
         "arrow-right",
         "forward"
        ],
        [
         "Pan",
         "Pan axes with left mouse, zoom with right",
         "arrows",
         "pan"
        ],
        [
         "Zoom",
         "Zoom to rectangle",
         "square-o",
         "zoom"
        ],
        [
         "Download",
         "Download plot",
         "floppy-o",
         "save_figure"
        ]
       ]
      }
     },
     "a7c8d64c48c6431a8a525a6be6009b4b": {
      "model_module": "jupyter-matplotlib",
      "model_module_version": "^0.7.4",
      "model_name": "ToolbarModel",
      "state": {
       "layout": "IPY_MODEL_4b8012f530d5478188d8f3595636aae6",
       "toolitems": [
        [
         "Home",
         "Reset original view",
         "home",
         "home"
        ],
        [
         "Back",
         "Back to previous view",
         "arrow-left",
         "back"
        ],
        [
         "Forward",
         "Forward to next view",
         "arrow-right",
         "forward"
        ],
        [
         "Pan",
         "Pan axes with left mouse, zoom with right",
         "arrows",
         "pan"
        ],
        [
         "Zoom",
         "Zoom to rectangle",
         "square-o",
         "zoom"
        ],
        [
         "Download",
         "Download plot",
         "floppy-o",
         "save_figure"
        ]
       ]
      }
     },
     "a7db88cdee884cca99c5cca1542182e2": {
      "model_module": "@jupyter-widgets/base",
      "model_module_version": "1.2.0",
      "model_name": "LayoutModel",
      "state": {}
     },
     "a7dc69096c08474783e72f7ee916960e": {
      "model_module": "jupyter-matplotlib",
      "model_module_version": "^0.7.4",
      "model_name": "ToolbarModel",
      "state": {
       "layout": "IPY_MODEL_6067a5265f994299b517b1a698254f2c",
       "toolitems": [
        [
         "Home",
         "Reset original view",
         "home",
         "home"
        ],
        [
         "Back",
         "Back to previous view",
         "arrow-left",
         "back"
        ],
        [
         "Forward",
         "Forward to next view",
         "arrow-right",
         "forward"
        ],
        [
         "Pan",
         "Pan axes with left mouse, zoom with right",
         "arrows",
         "pan"
        ],
        [
         "Zoom",
         "Zoom to rectangle",
         "square-o",
         "zoom"
        ],
        [
         "Download",
         "Download plot",
         "floppy-o",
         "save_figure"
        ]
       ]
      }
     },
     "a98a5273e97c408aa71628c0717a4563": {
      "model_module": "@jupyter-widgets/base",
      "model_module_version": "1.2.0",
      "model_name": "LayoutModel",
      "state": {}
     },
     "aad11d9c904b491690d9f1d1891aaac5": {
      "model_module": "@jupyter-widgets/base",
      "model_module_version": "1.2.0",
      "model_name": "LayoutModel",
      "state": {}
     },
     "ab8a5b0011ec497892b859184eb52201": {
      "model_module": "@jupyter-widgets/base",
      "model_module_version": "1.2.0",
      "model_name": "LayoutModel",
      "state": {}
     },
     "abe0e8cf391b45a5b118ba45d0a498bc": {
      "model_module": "jupyter-matplotlib",
      "model_module_version": "^0.7.4",
      "model_name": "MPLCanvasModel",
      "state": {
       "_cursor": "default",
       "_figure_label": "Figure 52",
       "_height": 432,
       "_width": 1152,
       "layout": "IPY_MODEL_94db3879913d4b0f921c607f90d6d026",
       "toolbar": "IPY_MODEL_2360568609e849318feabca2f6c82e42",
       "toolbar_position": "left"
      }
     },
     "ac10f99cca6f494bb68a1e216863f6fa": {
      "model_module": "jupyter-matplotlib",
      "model_module_version": "^0.7.4",
      "model_name": "MPLCanvasModel",
      "state": {
       "_cursor": "default",
       "_figure_label": "Figure 17",
       "_height": 576,
       "_width": 864,
       "layout": "IPY_MODEL_f007f22b4e5a403d8b9c9bcb3a47b070",
       "toolbar": "IPY_MODEL_a4a8606e290046d6ac367762598d67f5",
       "toolbar_position": "left"
      }
     },
     "adaf0118ec9e404ab2ab3cd3c9c37645": {
      "model_module": "@jupyter-widgets/base",
      "model_module_version": "1.2.0",
      "model_name": "LayoutModel",
      "state": {}
     },
     "adb565986e67443eb5c043e56e0141f1": {
      "model_module": "@jupyter-widgets/base",
      "model_module_version": "1.2.0",
      "model_name": "LayoutModel",
      "state": {}
     },
     "aea307b93a87474ab8923be362dbabcd": {
      "model_module": "@jupyter-widgets/base",
      "model_module_version": "1.2.0",
      "model_name": "LayoutModel",
      "state": {}
     },
     "aebd034e56eb4c38b38a3b1a446bed5a": {
      "model_module": "@jupyter-widgets/base",
      "model_module_version": "1.2.0",
      "model_name": "LayoutModel",
      "state": {}
     },
     "b0a1d9bf8a604e3eba2de20f2f72b031": {
      "model_module": "@jupyter-widgets/base",
      "model_module_version": "1.2.0",
      "model_name": "LayoutModel",
      "state": {}
     },
     "b20b7dcf3e604dd3bcb5c90bebb4a9cd": {
      "model_module": "jupyter-matplotlib",
      "model_module_version": "^0.7.4",
      "model_name": "ToolbarModel",
      "state": {
       "layout": "IPY_MODEL_6e0342af59784e9d926fb918c92b4394",
       "toolitems": [
        [
         "Home",
         "Reset original view",
         "home",
         "home"
        ],
        [
         "Back",
         "Back to previous view",
         "arrow-left",
         "back"
        ],
        [
         "Forward",
         "Forward to next view",
         "arrow-right",
         "forward"
        ],
        [
         "Pan",
         "Pan axes with left mouse, zoom with right",
         "arrows",
         "pan"
        ],
        [
         "Zoom",
         "Zoom to rectangle",
         "square-o",
         "zoom"
        ],
        [
         "Download",
         "Download plot",
         "floppy-o",
         "save_figure"
        ]
       ]
      }
     },
     "b22c403203214530934eabd8b229e1c7": {
      "model_module": "jupyter-matplotlib",
      "model_module_version": "^0.7.4",
      "model_name": "MPLCanvasModel",
      "state": {
       "_cursor": "default",
       "_figure_label": "Figure 3",
       "_height": 360,
       "_width": 864,
       "layout": "IPY_MODEL_254745a93de54ded8b2812e8ba82df0d",
       "toolbar": "IPY_MODEL_6f94fa6b888d4df78ae80074d242bae9",
       "toolbar_position": "left"
      }
     },
     "b36a5c76a85c4559bdc5a81edd4992b1": {
      "model_module": "jupyter-matplotlib",
      "model_module_version": "^0.7.4",
      "model_name": "MPLCanvasModel",
      "state": {
       "_cursor": "default",
       "_figure_label": "Figure 36",
       "_height": 360,
       "_width": 864,
       "layout": "IPY_MODEL_72c2d1f42793487a9ec8d6a75ba78289",
       "toolbar": "IPY_MODEL_966d6e3f9f39465184a441df1a08a45f",
       "toolbar_position": "left"
      }
     },
     "b453734b7eea49b3802297dc3c250872": {
      "model_module": "@jupyter-widgets/base",
      "model_module_version": "1.2.0",
      "model_name": "LayoutModel",
      "state": {}
     },
     "b453f85b1b7d4c819ebc4f75ba9d643c": {
      "model_module": "jupyter-matplotlib",
      "model_module_version": "^0.7.4",
      "model_name": "ToolbarModel",
      "state": {
       "layout": "IPY_MODEL_b7543a19f0f14be184e5b73a37a84bd6",
       "toolitems": [
        [
         "Home",
         "Reset original view",
         "home",
         "home"
        ],
        [
         "Back",
         "Back to previous view",
         "arrow-left",
         "back"
        ],
        [
         "Forward",
         "Forward to next view",
         "arrow-right",
         "forward"
        ],
        [
         "Pan",
         "Pan axes with left mouse, zoom with right",
         "arrows",
         "pan"
        ],
        [
         "Zoom",
         "Zoom to rectangle",
         "square-o",
         "zoom"
        ],
        [
         "Download",
         "Download plot",
         "floppy-o",
         "save_figure"
        ]
       ]
      }
     },
     "b5583f12c706410095753d1699c26d8d": {
      "model_module": "@jupyter-widgets/base",
      "model_module_version": "1.2.0",
      "model_name": "LayoutModel",
      "state": {}
     },
     "b7543a19f0f14be184e5b73a37a84bd6": {
      "model_module": "@jupyter-widgets/base",
      "model_module_version": "1.2.0",
      "model_name": "LayoutModel",
      "state": {}
     },
     "b993213e66154d6cad662337ae1e2c0f": {
      "model_module": "jupyter-matplotlib",
      "model_module_version": "^0.7.4",
      "model_name": "ToolbarModel",
      "state": {
       "layout": "IPY_MODEL_bc3b8425c6424d42ab90569f5a392968",
       "toolitems": [
        [
         "Home",
         "Reset original view",
         "home",
         "home"
        ],
        [
         "Back",
         "Back to previous view",
         "arrow-left",
         "back"
        ],
        [
         "Forward",
         "Forward to next view",
         "arrow-right",
         "forward"
        ],
        [
         "Pan",
         "Pan axes with left mouse, zoom with right",
         "arrows",
         "pan"
        ],
        [
         "Zoom",
         "Zoom to rectangle",
         "square-o",
         "zoom"
        ],
        [
         "Download",
         "Download plot",
         "floppy-o",
         "save_figure"
        ]
       ]
      }
     },
     "b9abd71ddea14c59be2829445061f743": {
      "model_module": "@jupyter-widgets/base",
      "model_module_version": "1.2.0",
      "model_name": "LayoutModel",
      "state": {}
     },
     "ba13c7524ead489f972cc8299c2efa38": {
      "model_module": "jupyter-matplotlib",
      "model_module_version": "^0.7.4",
      "model_name": "MPLCanvasModel",
      "state": {
       "_cursor": "default",
       "_figure_label": "Figure 11",
       "_height": 360,
       "_width": 2160,
       "layout": "IPY_MODEL_94dab36293e6461b882599d7ad409b6c",
       "toolbar": "IPY_MODEL_b20b7dcf3e604dd3bcb5c90bebb4a9cd",
       "toolbar_position": "left"
      }
     },
     "ba7d159f078845848bb0cd74a36a2931": {
      "model_module": "@jupyter-widgets/base",
      "model_module_version": "1.2.0",
      "model_name": "LayoutModel",
      "state": {}
     },
     "bb5de3d3fd9940dc92387b1ee9ada0ca": {
      "model_module": "jupyter-matplotlib",
      "model_module_version": "^0.7.4",
      "model_name": "ToolbarModel",
      "state": {
       "layout": "IPY_MODEL_fe2c0c5e667d4076804ebf0b821adb6f",
       "toolitems": [
        [
         "Home",
         "Reset original view",
         "home",
         "home"
        ],
        [
         "Back",
         "Back to previous view",
         "arrow-left",
         "back"
        ],
        [
         "Forward",
         "Forward to next view",
         "arrow-right",
         "forward"
        ],
        [
         "Pan",
         "Pan axes with left mouse, zoom with right",
         "arrows",
         "pan"
        ],
        [
         "Zoom",
         "Zoom to rectangle",
         "square-o",
         "zoom"
        ],
        [
         "Download",
         "Download plot",
         "floppy-o",
         "save_figure"
        ]
       ]
      }
     },
     "bb9d9c4817ca4c6a82712cc5a9c8a86c": {
      "model_module": "@jupyter-widgets/base",
      "model_module_version": "1.2.0",
      "model_name": "LayoutModel",
      "state": {}
     },
     "bc3b8425c6424d42ab90569f5a392968": {
      "model_module": "@jupyter-widgets/base",
      "model_module_version": "1.2.0",
      "model_name": "LayoutModel",
      "state": {}
     },
     "be11d4704b5b4e09aa8f3240209111ec": {
      "model_module": "@jupyter-widgets/base",
      "model_module_version": "1.2.0",
      "model_name": "LayoutModel",
      "state": {}
     },
     "be1e6ae43515498c97faedee84f8e816": {
      "model_module": "jupyter-matplotlib",
      "model_module_version": "^0.7.4",
      "model_name": "ToolbarModel",
      "state": {
       "layout": "IPY_MODEL_df8e63c3c8884744a7df7231b34144c4",
       "toolitems": [
        [
         "Home",
         "Reset original view",
         "home",
         "home"
        ],
        [
         "Back",
         "Back to previous view",
         "arrow-left",
         "back"
        ],
        [
         "Forward",
         "Forward to next view",
         "arrow-right",
         "forward"
        ],
        [
         "Pan",
         "Pan axes with left mouse, zoom with right",
         "arrows",
         "pan"
        ],
        [
         "Zoom",
         "Zoom to rectangle",
         "square-o",
         "zoom"
        ],
        [
         "Download",
         "Download plot",
         "floppy-o",
         "save_figure"
        ]
       ]
      }
     },
     "be25753f0ab946278bbba64353d68a69": {
      "model_module": "jupyter-matplotlib",
      "model_module_version": "^0.7.4",
      "model_name": "ToolbarModel",
      "state": {
       "layout": "IPY_MODEL_c9e40a38ffc64fc8b1a61c3f27c07205",
       "toolitems": [
        [
         "Home",
         "Reset original view",
         "home",
         "home"
        ],
        [
         "Back",
         "Back to previous view",
         "arrow-left",
         "back"
        ],
        [
         "Forward",
         "Forward to next view",
         "arrow-right",
         "forward"
        ],
        [
         "Pan",
         "Pan axes with left mouse, zoom with right",
         "arrows",
         "pan"
        ],
        [
         "Zoom",
         "Zoom to rectangle",
         "square-o",
         "zoom"
        ],
        [
         "Download",
         "Download plot",
         "floppy-o",
         "save_figure"
        ]
       ]
      }
     },
     "bf1d53a06c4245efab1849c024f0492f": {
      "model_module": "@jupyter-widgets/base",
      "model_module_version": "1.2.0",
      "model_name": "LayoutModel",
      "state": {}
     },
     "bfea968682654ac29bba2edddaa6c9b6": {
      "model_module": "@jupyter-widgets/base",
      "model_module_version": "1.2.0",
      "model_name": "LayoutModel",
      "state": {}
     },
     "c0c0c14db22a49f6af02eff604873d57": {
      "model_module": "@jupyter-widgets/base",
      "model_module_version": "1.2.0",
      "model_name": "LayoutModel",
      "state": {}
     },
     "c0f08036dce7493484422e47afee4dd3": {
      "model_module": "jupyter-matplotlib",
      "model_module_version": "^0.7.4",
      "model_name": "ToolbarModel",
      "state": {
       "layout": "IPY_MODEL_03865ec967234b2dbdb1d1807bc5f211",
       "toolitems": [
        [
         "Home",
         "Reset original view",
         "home",
         "home"
        ],
        [
         "Back",
         "Back to previous view",
         "arrow-left",
         "back"
        ],
        [
         "Forward",
         "Forward to next view",
         "arrow-right",
         "forward"
        ],
        [
         "Pan",
         "Pan axes with left mouse, zoom with right",
         "arrows",
         "pan"
        ],
        [
         "Zoom",
         "Zoom to rectangle",
         "square-o",
         "zoom"
        ],
        [
         "Download",
         "Download plot",
         "floppy-o",
         "save_figure"
        ]
       ]
      }
     },
     "c19b513a91694632a70db66dc6c9c5c5": {
      "model_module": "@jupyter-widgets/base",
      "model_module_version": "1.2.0",
      "model_name": "LayoutModel",
      "state": {}
     },
     "c3759c726e024731b0f41ce9452d11fe": {
      "model_module": "@jupyter-widgets/base",
      "model_module_version": "1.2.0",
      "model_name": "LayoutModel",
      "state": {}
     },
     "c47c7624084d46cf86a24f25b062aa03": {
      "model_module": "jupyter-matplotlib",
      "model_module_version": "^0.7.4",
      "model_name": "ToolbarModel",
      "state": {
       "layout": "IPY_MODEL_95dc58839dd3441ea2ade22acaae793a",
       "toolitems": [
        [
         "Home",
         "Reset original view",
         "home",
         "home"
        ],
        [
         "Back",
         "Back to previous view",
         "arrow-left",
         "back"
        ],
        [
         "Forward",
         "Forward to next view",
         "arrow-right",
         "forward"
        ],
        [
         "Pan",
         "Pan axes with left mouse, zoom with right",
         "arrows",
         "pan"
        ],
        [
         "Zoom",
         "Zoom to rectangle",
         "square-o",
         "zoom"
        ],
        [
         "Download",
         "Download plot",
         "floppy-o",
         "save_figure"
        ]
       ]
      }
     },
     "c47cf2ab3252404b907ea7a9519a28cb": {
      "model_module": "@jupyter-widgets/base",
      "model_module_version": "1.2.0",
      "model_name": "LayoutModel",
      "state": {}
     },
     "c5b3516822b0490da934174175562103": {
      "model_module": "jupyter-matplotlib",
      "model_module_version": "^0.7.4",
      "model_name": "ToolbarModel",
      "state": {
       "layout": "IPY_MODEL_612182e5eff04f3f8f1ed33b265f4450",
       "toolitems": [
        [
         "Home",
         "Reset original view",
         "home",
         "home"
        ],
        [
         "Back",
         "Back to previous view",
         "arrow-left",
         "back"
        ],
        [
         "Forward",
         "Forward to next view",
         "arrow-right",
         "forward"
        ],
        [
         "Pan",
         "Pan axes with left mouse, zoom with right",
         "arrows",
         "pan"
        ],
        [
         "Zoom",
         "Zoom to rectangle",
         "square-o",
         "zoom"
        ],
        [
         "Download",
         "Download plot",
         "floppy-o",
         "save_figure"
        ]
       ]
      }
     },
     "c74932776e3749b59e39c10d8894b5ef": {
      "model_module": "jupyter-matplotlib",
      "model_module_version": "^0.7.4",
      "model_name": "ToolbarModel",
      "state": {
       "layout": "IPY_MODEL_a98a5273e97c408aa71628c0717a4563",
       "toolitems": [
        [
         "Home",
         "Reset original view",
         "home",
         "home"
        ],
        [
         "Back",
         "Back to previous view",
         "arrow-left",
         "back"
        ],
        [
         "Forward",
         "Forward to next view",
         "arrow-right",
         "forward"
        ],
        [
         "Pan",
         "Pan axes with left mouse, zoom with right",
         "arrows",
         "pan"
        ],
        [
         "Zoom",
         "Zoom to rectangle",
         "square-o",
         "zoom"
        ],
        [
         "Download",
         "Download plot",
         "floppy-o",
         "save_figure"
        ]
       ]
      }
     },
     "c7e1bb5596454345a622fbd6f131fb9f": {
      "model_module": "jupyter-matplotlib",
      "model_module_version": "^0.7.4",
      "model_name": "MPLCanvasModel",
      "state": {
       "_cursor": "default",
       "_figure_label": "Figure 2",
       "_height": 360,
       "_width": 1080,
       "layout": "IPY_MODEL_f3fd8035e2074cdc9583963a8b720643",
       "toolbar": "IPY_MODEL_be25753f0ab946278bbba64353d68a69",
       "toolbar_position": "left"
      }
     },
     "c80b593e4d2447e6b7f92bf0886276c7": {
      "model_module": "jupyter-matplotlib",
      "model_module_version": "^0.7.4",
      "model_name": "MPLCanvasModel",
      "state": {
       "_cursor": "default",
       "_figure_label": "Figure 40",
       "_height": 432,
       "_width": 864,
       "layout": "IPY_MODEL_01a42adba98443d88bc75453a2e97a13",
       "toolbar": "IPY_MODEL_f7531f5673aa46b09f667eaf39b9ace5",
       "toolbar_position": "left"
      }
     },
     "c9e40a38ffc64fc8b1a61c3f27c07205": {
      "model_module": "@jupyter-widgets/base",
      "model_module_version": "1.2.0",
      "model_name": "LayoutModel",
      "state": {}
     },
     "cd97d674ed0d43e9a00e35f1e68fe3ac": {
      "model_module": "@jupyter-widgets/base",
      "model_module_version": "1.2.0",
      "model_name": "LayoutModel",
      "state": {}
     },
     "ce06248af65142bc8f3a97500d54ad5a": {
      "model_module": "@jupyter-widgets/base",
      "model_module_version": "1.2.0",
      "model_name": "LayoutModel",
      "state": {}
     },
     "ce713eab129d4495a9de1752124c086a": {
      "model_module": "@jupyter-widgets/base",
      "model_module_version": "1.2.0",
      "model_name": "LayoutModel",
      "state": {}
     },
     "ce8a1dd83f2747128e41d7c292f93107": {
      "model_module": "jupyter-matplotlib",
      "model_module_version": "^0.7.4",
      "model_name": "ToolbarModel",
      "state": {
       "layout": "IPY_MODEL_ab8a5b0011ec497892b859184eb52201",
       "toolitems": [
        [
         "Home",
         "Reset original view",
         "home",
         "home"
        ],
        [
         "Back",
         "Back to previous view",
         "arrow-left",
         "back"
        ],
        [
         "Forward",
         "Forward to next view",
         "arrow-right",
         "forward"
        ],
        [
         "Pan",
         "Pan axes with left mouse, zoom with right",
         "arrows",
         "pan"
        ],
        [
         "Zoom",
         "Zoom to rectangle",
         "square-o",
         "zoom"
        ],
        [
         "Download",
         "Download plot",
         "floppy-o",
         "save_figure"
        ]
       ]
      }
     },
     "cf47a2ad214648589b6343b8b75908c7": {
      "model_module": "@jupyter-widgets/base",
      "model_module_version": "1.2.0",
      "model_name": "LayoutModel",
      "state": {}
     },
     "d087ac47b7404f5fb0f0e06e1515eff7": {
      "model_module": "@jupyter-widgets/base",
      "model_module_version": "1.2.0",
      "model_name": "LayoutModel",
      "state": {}
     },
     "d1d58bc75f3a445992a5777dc34804cc": {
      "model_module": "@jupyter-widgets/base",
      "model_module_version": "1.2.0",
      "model_name": "LayoutModel",
      "state": {}
     },
     "d629c3912bfd484cb0a1bdf53bebd740": {
      "model_module": "jupyter-matplotlib",
      "model_module_version": "^0.7.4",
      "model_name": "MPLCanvasModel",
      "state": {
       "_cursor": "default",
       "_figure_label": "Figure 9",
       "_height": 360,
       "_width": 3600,
       "layout": "IPY_MODEL_496300dad5e445fdb5e3b3662e69adf0",
       "toolbar": "IPY_MODEL_a7c8d64c48c6431a8a525a6be6009b4b",
       "toolbar_position": "left"
      }
     },
     "d7632e4c6ce6476f983bb1bd1be7633b": {
      "model_module": "@jupyter-widgets/base",
      "model_module_version": "1.2.0",
      "model_name": "LayoutModel",
      "state": {}
     },
     "d771cf9207a9498cb2db4d9b402cbc3f": {
      "model_module": "jupyter-matplotlib",
      "model_module_version": "^0.7.4",
      "model_name": "MPLCanvasModel",
      "state": {
       "_cursor": "default",
       "_figure_label": "Figure 20",
       "_height": 576,
       "_width": 864,
       "layout": "IPY_MODEL_0acec163a7d440fb8a6a8cb86cbd3eb6",
       "toolbar": "IPY_MODEL_a7dc69096c08474783e72f7ee916960e",
       "toolbar_position": "left"
      }
     },
     "d80ad3576eae4dab90db643db265070f": {
      "model_module": "@jupyter-widgets/base",
      "model_module_version": "1.2.0",
      "model_name": "LayoutModel",
      "state": {}
     },
     "d882fb43f5654d91945ff6c78f5acfad": {
      "model_module": "jupyter-matplotlib",
      "model_module_version": "^0.7.4",
      "model_name": "MPLCanvasModel",
      "state": {
       "_cursor": "default",
       "_figure_label": "Figure 55",
       "_height": 432,
       "_message": "x= y=4.06471     ",
       "_width": 1008,
       "layout": "IPY_MODEL_ce06248af65142bc8f3a97500d54ad5a",
       "toolbar": "IPY_MODEL_ec9c98d6d39243b8a6b0b731e15c796d",
       "toolbar_position": "left"
      }
     },
     "d91104e5badc4ca697450a981a769cf4": {
      "model_module": "@jupyter-widgets/base",
      "model_module_version": "1.2.0",
      "model_name": "LayoutModel",
      "state": {}
     },
     "d9b771e0af4b4d2682d419c826c7bc16": {
      "model_module": "@jupyter-widgets/base",
      "model_module_version": "1.2.0",
      "model_name": "LayoutModel",
      "state": {}
     },
     "da42c8d9bdc84c51afbad80f8d148d5d": {
      "model_module": "@jupyter-widgets/base",
      "model_module_version": "1.2.0",
      "model_name": "LayoutModel",
      "state": {}
     },
     "db12076dc1f3486aad4ff5bac27bc90b": {
      "model_module": "jupyter-matplotlib",
      "model_module_version": "^0.7.4",
      "model_name": "MPLCanvasModel",
      "state": {
       "_cursor": "default",
       "_figure_label": "Figure 28",
       "_height": 360,
       "_width": 864,
       "layout": "IPY_MODEL_73dde0962d0b48438b7fd10c2732c353",
       "toolbar": "IPY_MODEL_dc2c3c9ba1324b969a376a8677f3dcb1",
       "toolbar_position": "left"
      }
     },
     "db31d8462e9246f1ac5a3ded8a75b74c": {
      "model_module": "@jupyter-widgets/base",
      "model_module_version": "1.2.0",
      "model_name": "LayoutModel",
      "state": {}
     },
     "dbdd23b8a110493fb66e31fc69deddf5": {
      "model_module": "@jupyter-widgets/base",
      "model_module_version": "1.2.0",
      "model_name": "LayoutModel",
      "state": {}
     },
     "dbfee525e2b84bafacbdea2815afc1f2": {
      "model_module": "jupyter-matplotlib",
      "model_module_version": "^0.7.4",
      "model_name": "MPLCanvasModel",
      "state": {
       "_cursor": "default",
       "_figure_label": "Figure 54",
       "_height": 360,
       "_width": 864,
       "layout": "IPY_MODEL_b0a1d9bf8a604e3eba2de20f2f72b031",
       "toolbar": "IPY_MODEL_165b3e78b44d41d1aac6048d0f6a4084",
       "toolbar_position": "left"
      }
     },
     "dc2c3c9ba1324b969a376a8677f3dcb1": {
      "model_module": "jupyter-matplotlib",
      "model_module_version": "^0.7.4",
      "model_name": "ToolbarModel",
      "state": {
       "layout": "IPY_MODEL_6260cc7037934cc0b74597bdf1e824e6",
       "toolitems": [
        [
         "Home",
         "Reset original view",
         "home",
         "home"
        ],
        [
         "Back",
         "Back to previous view",
         "arrow-left",
         "back"
        ],
        [
         "Forward",
         "Forward to next view",
         "arrow-right",
         "forward"
        ],
        [
         "Pan",
         "Pan axes with left mouse, zoom with right",
         "arrows",
         "pan"
        ],
        [
         "Zoom",
         "Zoom to rectangle",
         "square-o",
         "zoom"
        ],
        [
         "Download",
         "Download plot",
         "floppy-o",
         "save_figure"
        ]
       ]
      }
     },
     "dc42924f3f014451a7fcbe6a1334cb98": {
      "model_module": "jupyter-matplotlib",
      "model_module_version": "^0.7.4",
      "model_name": "MPLCanvasModel",
      "state": {
       "_cursor": "default",
       "_figure_label": "Figure 26",
       "_height": 576,
       "_width": 1152,
       "layout": "IPY_MODEL_df0732179daf4fc58635cb384b754a01",
       "toolbar": "IPY_MODEL_f81f825adc594dfd865db162cf881d58",
       "toolbar_position": "left"
      }
     },
     "df0732179daf4fc58635cb384b754a01": {
      "model_module": "@jupyter-widgets/base",
      "model_module_version": "1.2.0",
      "model_name": "LayoutModel",
      "state": {}
     },
     "df8e63c3c8884744a7df7231b34144c4": {
      "model_module": "@jupyter-widgets/base",
      "model_module_version": "1.2.0",
      "model_name": "LayoutModel",
      "state": {}
     },
     "e2291d37329e4b1a8e7cf96aedd0e7f6": {
      "model_module": "@jupyter-widgets/base",
      "model_module_version": "1.2.0",
      "model_name": "LayoutModel",
      "state": {}
     },
     "e2cc241e21604b5286672e7f85acae1e": {
      "model_module": "jupyter-matplotlib",
      "model_module_version": "^0.7.4",
      "model_name": "ToolbarModel",
      "state": {
       "layout": "IPY_MODEL_89a8fc3e259a46a29bc965f57045af7e",
       "toolitems": [
        [
         "Home",
         "Reset original view",
         "home",
         "home"
        ],
        [
         "Back",
         "Back to previous view",
         "arrow-left",
         "back"
        ],
        [
         "Forward",
         "Forward to next view",
         "arrow-right",
         "forward"
        ],
        [
         "Pan",
         "Pan axes with left mouse, zoom with right",
         "arrows",
         "pan"
        ],
        [
         "Zoom",
         "Zoom to rectangle",
         "square-o",
         "zoom"
        ],
        [
         "Download",
         "Download plot",
         "floppy-o",
         "save_figure"
        ]
       ]
      }
     },
     "e3a84e42a6e44ca380b61c4b902c6f5a": {
      "model_module": "jupyter-matplotlib",
      "model_module_version": "^0.7.4",
      "model_name": "ToolbarModel",
      "state": {
       "layout": "IPY_MODEL_3ea292a57b2d47dc9f1389a33c22f9ed",
       "toolitems": [
        [
         "Home",
         "Reset original view",
         "home",
         "home"
        ],
        [
         "Back",
         "Back to previous view",
         "arrow-left",
         "back"
        ],
        [
         "Forward",
         "Forward to next view",
         "arrow-right",
         "forward"
        ],
        [
         "Pan",
         "Pan axes with left mouse, zoom with right",
         "arrows",
         "pan"
        ],
        [
         "Zoom",
         "Zoom to rectangle",
         "square-o",
         "zoom"
        ],
        [
         "Download",
         "Download plot",
         "floppy-o",
         "save_figure"
        ]
       ]
      }
     },
     "e51a4f7676154803bff7bdd661b8ee29": {
      "model_module": "@jupyter-widgets/base",
      "model_module_version": "1.2.0",
      "model_name": "LayoutModel",
      "state": {}
     },
     "e62709f483e1443fb051d7c273be20dd": {
      "model_module": "@jupyter-widgets/base",
      "model_module_version": "1.2.0",
      "model_name": "LayoutModel",
      "state": {}
     },
     "e66a5dd7d234405ea42164606e2d51ec": {
      "model_module": "jupyter-matplotlib",
      "model_module_version": "^0.7.4",
      "model_name": "MPLCanvasModel",
      "state": {
       "_cursor": "default",
       "_figure_label": "Figure 34",
       "_height": 576,
       "_width": 864,
       "layout": "IPY_MODEL_7561405523214c3e9b74811826dd4338",
       "toolbar": "IPY_MODEL_88ff9795e2024ea2a867410db2608338",
       "toolbar_position": "left"
      }
     },
     "e6be35c14f6642b3994feed724874a18": {
      "model_module": "@jupyter-widgets/base",
      "model_module_version": "1.2.0",
      "model_name": "LayoutModel",
      "state": {}
     },
     "e8bad279fbb940e2acd54a408353e01a": {
      "model_module": "@jupyter-widgets/base",
      "model_module_version": "1.2.0",
      "model_name": "LayoutModel",
      "state": {}
     },
     "ea32a6771e014a6792c9cf4a6b328175": {
      "model_module": "@jupyter-widgets/base",
      "model_module_version": "1.2.0",
      "model_name": "LayoutModel",
      "state": {}
     },
     "ea84d69c2d9043d48fb6cc176511a303": {
      "model_module": "jupyter-matplotlib",
      "model_module_version": "^0.7.4",
      "model_name": "MPLCanvasModel",
      "state": {
       "_cursor": "default",
       "_figure_label": "Figure 68",
       "_height": 360,
       "_width": 864,
       "layout": "IPY_MODEL_c0c0c14db22a49f6af02eff604873d57",
       "toolbar": "IPY_MODEL_2c2e79b24c0f4f4ca5c7c7d5265e53f7",
       "toolbar_position": "left"
      }
     },
     "eabf5eece2904d96b56ce32634fa25bd": {
      "model_module": "jupyter-matplotlib",
      "model_module_version": "^0.7.4",
      "model_name": "MPLCanvasModel",
      "state": {
       "_cursor": "default",
       "_figure_label": "Figure 53",
       "_height": 360,
       "_width": 864,
       "layout": "IPY_MODEL_f9241c09876247aaab4b0651e38d6dcd",
       "toolbar": "IPY_MODEL_2a909782476a49e9ab319892be2e4cef",
       "toolbar_position": "left"
      }
     },
     "eb688db724714adf923904092c56ee80": {
      "model_module": "jupyter-matplotlib",
      "model_module_version": "^0.7.4",
      "model_name": "ToolbarModel",
      "state": {
       "layout": "IPY_MODEL_1b030d84a892430cb4858328fccfee56",
       "toolitems": [
        [
         "Home",
         "Reset original view",
         "home",
         "home"
        ],
        [
         "Back",
         "Back to previous view",
         "arrow-left",
         "back"
        ],
        [
         "Forward",
         "Forward to next view",
         "arrow-right",
         "forward"
        ],
        [
         "Pan",
         "Pan axes with left mouse, zoom with right",
         "arrows",
         "pan"
        ],
        [
         "Zoom",
         "Zoom to rectangle",
         "square-o",
         "zoom"
        ],
        [
         "Download",
         "Download plot",
         "floppy-o",
         "save_figure"
        ]
       ]
      }
     },
     "ec9c98d6d39243b8a6b0b731e15c796d": {
      "model_module": "jupyter-matplotlib",
      "model_module_version": "^0.7.4",
      "model_name": "ToolbarModel",
      "state": {
       "layout": "IPY_MODEL_f274cb63cef6443783d655e40b0c9cba",
       "toolitems": [
        [
         "Home",
         "Reset original view",
         "home",
         "home"
        ],
        [
         "Back",
         "Back to previous view",
         "arrow-left",
         "back"
        ],
        [
         "Forward",
         "Forward to next view",
         "arrow-right",
         "forward"
        ],
        [
         "Pan",
         "Pan axes with left mouse, zoom with right",
         "arrows",
         "pan"
        ],
        [
         "Zoom",
         "Zoom to rectangle",
         "square-o",
         "zoom"
        ],
        [
         "Download",
         "Download plot",
         "floppy-o",
         "save_figure"
        ]
       ]
      }
     },
     "ed1d4cf5b97542a3ba1c41549ef595e2": {
      "model_module": "jupyter-matplotlib",
      "model_module_version": "^0.7.4",
      "model_name": "MPLCanvasModel",
      "state": {
       "_cursor": "default",
       "_figure_label": "Figure 21",
       "_height": 576,
       "_width": 864,
       "layout": "IPY_MODEL_2255dbef0ff44a1ea37d264b001331f1",
       "toolbar": "IPY_MODEL_f13e2238d7a541eb94a2a437690046e3",
       "toolbar_position": "left"
      }
     },
     "ed769f1cd9274159a81964877fcd5ffb": {
      "model_module": "jupyter-matplotlib",
      "model_module_version": "^0.7.4",
      "model_name": "MPLCanvasModel",
      "state": {
       "_cursor": "default",
       "_figure_label": "Figure 62",
       "_height": 360,
       "_width": 864,
       "layout": "IPY_MODEL_2b3cb42e09bb475fa4967a982cd1117e",
       "toolbar": "IPY_MODEL_f5076c42705b45eeb3d6d3b375229d20",
       "toolbar_position": "left"
      }
     },
     "efaea063710b4cf798f393b4fb10a479": {
      "model_module": "@jupyter-widgets/base",
      "model_module_version": "1.2.0",
      "model_name": "LayoutModel",
      "state": {}
     },
     "f007f22b4e5a403d8b9c9bcb3a47b070": {
      "model_module": "@jupyter-widgets/base",
      "model_module_version": "1.2.0",
      "model_name": "LayoutModel",
      "state": {}
     },
     "f07cb280e4a748729ff31ad37b1c692e": {
      "model_module": "@jupyter-widgets/base",
      "model_module_version": "1.2.0",
      "model_name": "LayoutModel",
      "state": {}
     },
     "f1123d4976964f22a029f8092a9e4bae": {
      "model_module": "@jupyter-widgets/base",
      "model_module_version": "1.2.0",
      "model_name": "LayoutModel",
      "state": {}
     },
     "f13db87df93242cdab9b8b54df0ce537": {
      "model_module": "@jupyter-widgets/base",
      "model_module_version": "1.2.0",
      "model_name": "LayoutModel",
      "state": {}
     },
     "f13e2238d7a541eb94a2a437690046e3": {
      "model_module": "jupyter-matplotlib",
      "model_module_version": "^0.7.4",
      "model_name": "ToolbarModel",
      "state": {
       "layout": "IPY_MODEL_d9b771e0af4b4d2682d419c826c7bc16",
       "toolitems": [
        [
         "Home",
         "Reset original view",
         "home",
         "home"
        ],
        [
         "Back",
         "Back to previous view",
         "arrow-left",
         "back"
        ],
        [
         "Forward",
         "Forward to next view",
         "arrow-right",
         "forward"
        ],
        [
         "Pan",
         "Pan axes with left mouse, zoom with right",
         "arrows",
         "pan"
        ],
        [
         "Zoom",
         "Zoom to rectangle",
         "square-o",
         "zoom"
        ],
        [
         "Download",
         "Download plot",
         "floppy-o",
         "save_figure"
        ]
       ]
      }
     },
     "f19a4d9ce54b431fa6e8c7b24a695f73": {
      "model_module": "@jupyter-widgets/base",
      "model_module_version": "1.2.0",
      "model_name": "LayoutModel",
      "state": {}
     },
     "f1f982735d0f498e8cb33773b068ccc6": {
      "model_module": "jupyter-matplotlib",
      "model_module_version": "^0.7.4",
      "model_name": "MPLCanvasModel",
      "state": {
       "_cursor": "default",
       "_figure_label": "Figure 67",
       "_height": 360,
       "_width": 864,
       "layout": "IPY_MODEL_2674a58998f04dc9a89b39b484feb23f",
       "toolbar": "IPY_MODEL_a005100b46de46588e67384cc42b41e2",
       "toolbar_position": "left"
      }
     },
     "f274cb63cef6443783d655e40b0c9cba": {
      "model_module": "@jupyter-widgets/base",
      "model_module_version": "1.2.0",
      "model_name": "LayoutModel",
      "state": {}
     },
     "f2a18f1fbee34c1bbb6a6f3ea939bd47": {
      "model_module": "jupyter-matplotlib",
      "model_module_version": "^0.7.4",
      "model_name": "MPLCanvasModel",
      "state": {
       "_cursor": "default",
       "_figure_label": "Figure 8",
       "_height": 360,
       "_width": 864,
       "layout": "IPY_MODEL_e62709f483e1443fb051d7c273be20dd",
       "toolbar": "IPY_MODEL_fffbca4cbb354a9687548c137250d312",
       "toolbar_position": "left"
      }
     },
     "f3fd8035e2074cdc9583963a8b720643": {
      "model_module": "@jupyter-widgets/base",
      "model_module_version": "1.2.0",
      "model_name": "LayoutModel",
      "state": {}
     },
     "f4e6a6b5d9034c2d841fad32c3353e4a": {
      "model_module": "@jupyter-widgets/base",
      "model_module_version": "1.2.0",
      "model_name": "LayoutModel",
      "state": {}
     },
     "f5076c42705b45eeb3d6d3b375229d20": {
      "model_module": "jupyter-matplotlib",
      "model_module_version": "^0.7.4",
      "model_name": "ToolbarModel",
      "state": {
       "layout": "IPY_MODEL_3c8ee5c9636146029ff0518b43173162",
       "toolitems": [
        [
         "Home",
         "Reset original view",
         "home",
         "home"
        ],
        [
         "Back",
         "Back to previous view",
         "arrow-left",
         "back"
        ],
        [
         "Forward",
         "Forward to next view",
         "arrow-right",
         "forward"
        ],
        [
         "Pan",
         "Pan axes with left mouse, zoom with right",
         "arrows",
         "pan"
        ],
        [
         "Zoom",
         "Zoom to rectangle",
         "square-o",
         "zoom"
        ],
        [
         "Download",
         "Download plot",
         "floppy-o",
         "save_figure"
        ]
       ]
      }
     },
     "f7531f5673aa46b09f667eaf39b9ace5": {
      "model_module": "jupyter-matplotlib",
      "model_module_version": "^0.7.4",
      "model_name": "ToolbarModel",
      "state": {
       "layout": "IPY_MODEL_a7db88cdee884cca99c5cca1542182e2",
       "toolitems": [
        [
         "Home",
         "Reset original view",
         "home",
         "home"
        ],
        [
         "Back",
         "Back to previous view",
         "arrow-left",
         "back"
        ],
        [
         "Forward",
         "Forward to next view",
         "arrow-right",
         "forward"
        ],
        [
         "Pan",
         "Pan axes with left mouse, zoom with right",
         "arrows",
         "pan"
        ],
        [
         "Zoom",
         "Zoom to rectangle",
         "square-o",
         "zoom"
        ],
        [
         "Download",
         "Download plot",
         "floppy-o",
         "save_figure"
        ]
       ]
      }
     },
     "f81f825adc594dfd865db162cf881d58": {
      "model_module": "jupyter-matplotlib",
      "model_module_version": "^0.7.4",
      "model_name": "ToolbarModel",
      "state": {
       "layout": "IPY_MODEL_e8bad279fbb940e2acd54a408353e01a",
       "toolitems": [
        [
         "Home",
         "Reset original view",
         "home",
         "home"
        ],
        [
         "Back",
         "Back to previous view",
         "arrow-left",
         "back"
        ],
        [
         "Forward",
         "Forward to next view",
         "arrow-right",
         "forward"
        ],
        [
         "Pan",
         "Pan axes with left mouse, zoom with right",
         "arrows",
         "pan"
        ],
        [
         "Zoom",
         "Zoom to rectangle",
         "square-o",
         "zoom"
        ],
        [
         "Download",
         "Download plot",
         "floppy-o",
         "save_figure"
        ]
       ]
      }
     },
     "f9241c09876247aaab4b0651e38d6dcd": {
      "model_module": "@jupyter-widgets/base",
      "model_module_version": "1.2.0",
      "model_name": "LayoutModel",
      "state": {}
     },
     "f97199b6b42e4032bfc4a45f50f2e694": {
      "model_module": "jupyter-matplotlib",
      "model_module_version": "^0.7.4",
      "model_name": "ToolbarModel",
      "state": {
       "layout": "IPY_MODEL_adaf0118ec9e404ab2ab3cd3c9c37645",
       "toolitems": [
        [
         "Home",
         "Reset original view",
         "home",
         "home"
        ],
        [
         "Back",
         "Back to previous view",
         "arrow-left",
         "back"
        ],
        [
         "Forward",
         "Forward to next view",
         "arrow-right",
         "forward"
        ],
        [
         "Pan",
         "Pan axes with left mouse, zoom with right",
         "arrows",
         "pan"
        ],
        [
         "Zoom",
         "Zoom to rectangle",
         "square-o",
         "zoom"
        ],
        [
         "Download",
         "Download plot",
         "floppy-o",
         "save_figure"
        ]
       ]
      }
     },
     "fad1ab71ac254025ad8ed23f7c29cf4b": {
      "model_module": "@jupyter-widgets/base",
      "model_module_version": "1.2.0",
      "model_name": "LayoutModel",
      "state": {}
     },
     "fe2c0c5e667d4076804ebf0b821adb6f": {
      "model_module": "@jupyter-widgets/base",
      "model_module_version": "1.2.0",
      "model_name": "LayoutModel",
      "state": {}
     },
     "fe3b84439f714a35be0996b2a1b2cd03": {
      "model_module": "@jupyter-widgets/base",
      "model_module_version": "1.2.0",
      "model_name": "LayoutModel",
      "state": {}
     },
     "fee4c40763ad438780f568dde70909fb": {
      "model_module": "@jupyter-widgets/base",
      "model_module_version": "1.2.0",
      "model_name": "LayoutModel",
      "state": {}
     },
     "fef55b583d464eb59166e67df5a1a8c7": {
      "model_module": "@jupyter-widgets/base",
      "model_module_version": "1.2.0",
      "model_name": "LayoutModel",
      "state": {}
     },
     "fffbca4cbb354a9687548c137250d312": {
      "model_module": "jupyter-matplotlib",
      "model_module_version": "^0.7.4",
      "model_name": "ToolbarModel",
      "state": {
       "layout": "IPY_MODEL_528ed1a785de4defb42d1da52cf2fc9e",
       "toolitems": [
        [
         "Home",
         "Reset original view",
         "home",
         "home"
        ],
        [
         "Back",
         "Back to previous view",
         "arrow-left",
         "back"
        ],
        [
         "Forward",
         "Forward to next view",
         "arrow-right",
         "forward"
        ],
        [
         "Pan",
         "Pan axes with left mouse, zoom with right",
         "arrows",
         "pan"
        ],
        [
         "Zoom",
         "Zoom to rectangle",
         "square-o",
         "zoom"
        ],
        [
         "Download",
         "Download plot",
         "floppy-o",
         "save_figure"
        ]
       ]
      }
     }
    },
    "version_major": 2,
    "version_minor": 0
   }
  }
 },
 "nbformat": 4,
 "nbformat_minor": 4
}
